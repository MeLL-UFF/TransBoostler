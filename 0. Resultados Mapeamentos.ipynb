{
 "cells": [
  {
   "cell_type": "code",
   "execution_count": 4,
   "id": "46afbdcb",
   "metadata": {},
   "outputs": [],
   "source": [
    "import matplotlib.pyplot as plt\n",
    "from IPython.display import display, Markdown, Latex\n",
    "import numpy as np\n",
    "import json\n",
    "import pandas as pd\n",
    "from scipy import stats\n",
    "import os"
   ]
  },
  {
   "cell_type": "code",
   "execution_count": 5,
   "id": "baff28fc",
   "metadata": {},
   "outputs": [],
   "source": [
    "experiments = [\n",
    "            {'id': '1', 'source':'imdb', 'target':'uwcse', 'predicate':'workedunder', 'to_predicate':'advisedby', 'arity': 2},\n",
    "            #{'id': '2', 'source':'uwcse', 'target':'imdb', 'predicate':'advisedby', 'to_predicate':'workedunder', 'arity': 2},\n",
    "            #{'id': '3', 'source':'imdb', 'target':'cora', 'predicate':'workedunder', 'to_predicate':'samevenue', 'arity': 2},\n",
    "            #{'id': '4', 'source':'cora', 'target':'imdb', 'predicate':'samevenue', 'to_predicate':'workedunder', 'arity': 2},\n",
    "            ##{'id': '5', 'source':'uwcse', 'target':'cora', 'predicate':'advisedby', 'to_predicate':'samevenue', 'arity': 2},\n",
    "            ##{'id': '6', 'source':'cora', 'target':'uwcse', 'predicate':'samevenue', 'to_predicate':'advisedby', 'arity': 2},\n",
    "            {'id': '7', 'source':'yeast', 'target':'twitter', 'predicate':'proteinclass', 'to_predicate':'accounttype', 'arity': 2},\n",
    "            {'id': '8', 'source':'twitter', 'target':'yeast', 'predicate':'accounttype', 'to_predicate':'proteinclass', 'arity': 2},\n",
    "            {'id': '9', 'source':'nell_sports', 'target':'nell_finances', 'predicate':'teamplayssport', 'to_predicate':'companyeconomicsector', 'arity': 2},\n",
    "            {'id': '10', 'source':'nell_finances', 'target':'nell_sports', 'predicate':'companyeconomicsector', 'to_predicate':'teamplayssport', 'arity': 2}\n",
    "]"
   ]
  },
  {
   "cell_type": "code",
   "execution_count": 6,
   "id": "70a7d887",
   "metadata": {},
   "outputs": [],
   "source": [
    "def load_data(experiments, metric, directory):\n",
    "    data = {}\n",
    "    for item in experiments:\n",
    "        experiment_title = item['id'] + '_' + item['source'] + '_' + item['target']\n",
    "        \n",
    "        file_path = os.getcwd() + directory + experiment_title + '/' + experiment_title + '_fasttext_{}.json'.format(metric)\n",
    " \n",
    "        #if(os.path.isfile(file_path)):\n",
    "        with open(file_path, 'r') as fp:\n",
    "            results = json.load(fp)\n",
    "\n",
    "            data[experiment_title] = results\n",
    "    return data"
   ]
  },
  {
   "cell_type": "markdown",
   "id": "2737821a",
   "metadata": {
    "heading_collapsed": true
   },
   "source": [
    "# Transfer Learning"
   ]
  },
  {
   "cell_type": "code",
   "execution_count": 26,
   "id": "8bcf9519",
   "metadata": {
    "hidden": true
   },
   "outputs": [
    {
     "data": {
      "text/markdown": [
       "# Results for AUC ROC"
      ],
      "text/plain": [
       "<IPython.core.display.Markdown object>"
      ]
     },
     "metadata": {},
     "output_type": "display_data"
    },
    {
     "data": {
      "text/html": [
       "<div>\n",
       "<style scoped>\n",
       "    .dataframe tbody tr th:only-of-type {\n",
       "        vertical-align: middle;\n",
       "    }\n",
       "\n",
       "    .dataframe tbody tr th {\n",
       "        vertical-align: top;\n",
       "    }\n",
       "\n",
       "    .dataframe thead th {\n",
       "        text-align: right;\n",
       "    }\n",
       "</style>\n",
       "<table border=\"1\" class=\"dataframe\">\n",
       "  <thead>\n",
       "    <tr style=\"text-align: right;\">\n",
       "      <th></th>\n",
       "      <th>Experiment</th>\n",
       "      <th>Transfer Learning with Revision Theory - SoftCosine</th>\n",
       "      <th>Transfer Learning with Revision Theory - Euclidean</th>\n",
       "      <th>Transfer Learning with Revision Theory - WMD</th>\n",
       "    </tr>\n",
       "  </thead>\n",
       "  <tbody>\n",
       "    <tr>\n",
       "      <th>0</th>\n",
       "      <td>1_imdb_uwcse</td>\n",
       "      <td>0.936 +/- 0.007</td>\n",
       "      <td>0.936 +/- 0.006</td>\n",
       "      <td>0.936 +/- 0.007</td>\n",
       "    </tr>\n",
       "    <tr>\n",
       "      <th>1</th>\n",
       "      <td>1_imdb_uwcse*</td>\n",
       "      <td>0.937 +/- 0.005</td>\n",
       "      <td>0.937 +/- 0.008</td>\n",
       "      <td>0.935 +/- 0.006</td>\n",
       "    </tr>\n",
       "  </tbody>\n",
       "</table>\n",
       "</div>"
      ],
      "text/plain": [
       "      Experiment Transfer Learning with Revision Theory - SoftCosine  \\\n",
       "0   1_imdb_uwcse                                    0.936 +/- 0.007    \n",
       "1  1_imdb_uwcse*                                    0.937 +/- 0.005    \n",
       "\n",
       "  Transfer Learning with Revision Theory - Euclidean  \\\n",
       "0                                    0.936 +/- 0.006   \n",
       "1                                    0.937 +/- 0.008   \n",
       "\n",
       "  Transfer Learning with Revision Theory - WMD  \n",
       "0                              0.936 +/- 0.007  \n",
       "1                              0.935 +/- 0.006  "
      ]
     },
     "metadata": {},
     "output_type": "display_data"
    },
    {
     "data": {
      "text/html": [
       "<div>\n",
       "<style scoped>\n",
       "    .dataframe tbody tr th:only-of-type {\n",
       "        vertical-align: middle;\n",
       "    }\n",
       "\n",
       "    .dataframe tbody tr th {\n",
       "        vertical-align: top;\n",
       "    }\n",
       "\n",
       "    .dataframe thead th {\n",
       "        text-align: right;\n",
       "    }\n",
       "</style>\n",
       "<table border=\"1\" class=\"dataframe\">\n",
       "  <thead>\n",
       "    <tr style=\"text-align: right;\">\n",
       "      <th></th>\n",
       "      <th>Experiment</th>\n",
       "      <th>Transfer Learning with Revision Theory - SoftCosine</th>\n",
       "      <th>Transfer Learning with Revision Theory - Euclidean</th>\n",
       "      <th>Transfer Learning with Revision Theory - WMD</th>\n",
       "    </tr>\n",
       "  </thead>\n",
       "  <tbody>\n",
       "    <tr>\n",
       "      <th>0</th>\n",
       "      <td>7_yeast_twitter</td>\n",
       "      <td>0.994 +/- 0.001</td>\n",
       "      <td>0.994 +/- 0.000</td>\n",
       "      <td>0.994 +/- 0.000</td>\n",
       "    </tr>\n",
       "    <tr>\n",
       "      <th>1</th>\n",
       "      <td>7_yeast_twitter*</td>\n",
       "      <td>0.995 +/- 0.001</td>\n",
       "      <td>0.994 +/- 0.001</td>\n",
       "      <td>0.995 +/- 0.001</td>\n",
       "    </tr>\n",
       "  </tbody>\n",
       "</table>\n",
       "</div>"
      ],
      "text/plain": [
       "         Experiment Transfer Learning with Revision Theory - SoftCosine  \\\n",
       "0   7_yeast_twitter                                    0.994 +/- 0.001    \n",
       "1  7_yeast_twitter*                                    0.995 +/- 0.001    \n",
       "\n",
       "  Transfer Learning with Revision Theory - Euclidean  \\\n",
       "0                                    0.994 +/- 0.000   \n",
       "1                                    0.994 +/- 0.001   \n",
       "\n",
       "  Transfer Learning with Revision Theory - WMD  \n",
       "0                              0.994 +/- 0.000  \n",
       "1                              0.995 +/- 0.001  "
      ]
     },
     "metadata": {},
     "output_type": "display_data"
    },
    {
     "data": {
      "text/html": [
       "<div>\n",
       "<style scoped>\n",
       "    .dataframe tbody tr th:only-of-type {\n",
       "        vertical-align: middle;\n",
       "    }\n",
       "\n",
       "    .dataframe tbody tr th {\n",
       "        vertical-align: top;\n",
       "    }\n",
       "\n",
       "    .dataframe thead th {\n",
       "        text-align: right;\n",
       "    }\n",
       "</style>\n",
       "<table border=\"1\" class=\"dataframe\">\n",
       "  <thead>\n",
       "    <tr style=\"text-align: right;\">\n",
       "      <th></th>\n",
       "      <th>Experiment</th>\n",
       "      <th>Transfer Learning with Revision Theory - SoftCosine</th>\n",
       "      <th>Transfer Learning with Revision Theory - Euclidean</th>\n",
       "      <th>Transfer Learning with Revision Theory - WMD</th>\n",
       "    </tr>\n",
       "  </thead>\n",
       "  <tbody>\n",
       "    <tr>\n",
       "      <th>0</th>\n",
       "      <td>8_twitter_yeast</td>\n",
       "      <td>0.920 +/- 0.096</td>\n",
       "      <td>0.894 +/- 0.150</td>\n",
       "      <td>0.953 +/- 0.027</td>\n",
       "    </tr>\n",
       "    <tr>\n",
       "      <th>1</th>\n",
       "      <td>8_twitter_yeast*</td>\n",
       "      <td>0.972 +/- 0.000</td>\n",
       "      <td>0.973 +/- 0.000</td>\n",
       "      <td>0.973 +/- 0.000</td>\n",
       "    </tr>\n",
       "  </tbody>\n",
       "</table>\n",
       "</div>"
      ],
      "text/plain": [
       "         Experiment Transfer Learning with Revision Theory - SoftCosine  \\\n",
       "0   8_twitter_yeast                                    0.920 +/- 0.096    \n",
       "1  8_twitter_yeast*                                    0.972 +/- 0.000    \n",
       "\n",
       "  Transfer Learning with Revision Theory - Euclidean  \\\n",
       "0                                    0.894 +/- 0.150   \n",
       "1                                    0.973 +/- 0.000   \n",
       "\n",
       "  Transfer Learning with Revision Theory - WMD  \n",
       "0                              0.953 +/- 0.027  \n",
       "1                              0.973 +/- 0.000  "
      ]
     },
     "metadata": {},
     "output_type": "display_data"
    },
    {
     "data": {
      "text/html": [
       "<div>\n",
       "<style scoped>\n",
       "    .dataframe tbody tr th:only-of-type {\n",
       "        vertical-align: middle;\n",
       "    }\n",
       "\n",
       "    .dataframe tbody tr th {\n",
       "        vertical-align: top;\n",
       "    }\n",
       "\n",
       "    .dataframe thead th {\n",
       "        text-align: right;\n",
       "    }\n",
       "</style>\n",
       "<table border=\"1\" class=\"dataframe\">\n",
       "  <thead>\n",
       "    <tr style=\"text-align: right;\">\n",
       "      <th></th>\n",
       "      <th>Experiment</th>\n",
       "      <th>Transfer Learning with Revision Theory - SoftCosine</th>\n",
       "      <th>Transfer Learning with Revision Theory - Euclidean</th>\n",
       "      <th>Transfer Learning with Revision Theory - WMD</th>\n",
       "    </tr>\n",
       "  </thead>\n",
       "  <tbody>\n",
       "    <tr>\n",
       "      <th>0</th>\n",
       "      <td>9_nell_sports_nell_finances</td>\n",
       "      <td>0.748 +/- 0.039</td>\n",
       "      <td>0.751 +/- 0.083</td>\n",
       "      <td>0.694 +/- 0.009</td>\n",
       "    </tr>\n",
       "    <tr>\n",
       "      <th>1</th>\n",
       "      <td>9_nell_sports_nell_finances*</td>\n",
       "      <td>0.709 +/- 0.028</td>\n",
       "      <td>0.631 +/- 0.058</td>\n",
       "      <td>0.955 +/- 0.012</td>\n",
       "    </tr>\n",
       "  </tbody>\n",
       "</table>\n",
       "</div>"
      ],
      "text/plain": [
       "                     Experiment  \\\n",
       "0   9_nell_sports_nell_finances   \n",
       "1  9_nell_sports_nell_finances*   \n",
       "\n",
       "  Transfer Learning with Revision Theory - SoftCosine  \\\n",
       "0                                    0.748 +/- 0.039    \n",
       "1                                    0.709 +/- 0.028    \n",
       "\n",
       "  Transfer Learning with Revision Theory - Euclidean  \\\n",
       "0                                    0.751 +/- 0.083   \n",
       "1                                    0.631 +/- 0.058   \n",
       "\n",
       "  Transfer Learning with Revision Theory - WMD  \n",
       "0                              0.694 +/- 0.009  \n",
       "1                              0.955 +/- 0.012  "
      ]
     },
     "metadata": {},
     "output_type": "display_data"
    },
    {
     "data": {
      "text/html": [
       "<div>\n",
       "<style scoped>\n",
       "    .dataframe tbody tr th:only-of-type {\n",
       "        vertical-align: middle;\n",
       "    }\n",
       "\n",
       "    .dataframe tbody tr th {\n",
       "        vertical-align: top;\n",
       "    }\n",
       "\n",
       "    .dataframe thead th {\n",
       "        text-align: right;\n",
       "    }\n",
       "</style>\n",
       "<table border=\"1\" class=\"dataframe\">\n",
       "  <thead>\n",
       "    <tr style=\"text-align: right;\">\n",
       "      <th></th>\n",
       "      <th>Experiment</th>\n",
       "      <th>Transfer Learning with Revision Theory - SoftCosine</th>\n",
       "      <th>Transfer Learning with Revision Theory - Euclidean</th>\n",
       "      <th>Transfer Learning with Revision Theory - WMD</th>\n",
       "    </tr>\n",
       "  </thead>\n",
       "  <tbody>\n",
       "    <tr>\n",
       "      <th>0</th>\n",
       "      <td>10_nell_finances_nell_sports</td>\n",
       "      <td>0.991 +/- 0.006</td>\n",
       "      <td>0.993 +/- 0.003</td>\n",
       "      <td>0.994 +/- 0.001</td>\n",
       "    </tr>\n",
       "    <tr>\n",
       "      <th>1</th>\n",
       "      <td>10_nell_finances_nell_sports*</td>\n",
       "      <td>0.963 +/- 0.081</td>\n",
       "      <td>0.992 +/- 0.001</td>\n",
       "      <td>0.993 +/- 0.003</td>\n",
       "    </tr>\n",
       "  </tbody>\n",
       "</table>\n",
       "</div>"
      ],
      "text/plain": [
       "                      Experiment  \\\n",
       "0   10_nell_finances_nell_sports   \n",
       "1  10_nell_finances_nell_sports*   \n",
       "\n",
       "  Transfer Learning with Revision Theory - SoftCosine  \\\n",
       "0                                    0.991 +/- 0.006    \n",
       "1                                    0.963 +/- 0.081    \n",
       "\n",
       "  Transfer Learning with Revision Theory - Euclidean  \\\n",
       "0                                    0.993 +/- 0.003   \n",
       "1                                    0.992 +/- 0.001   \n",
       "\n",
       "  Transfer Learning with Revision Theory - WMD  \n",
       "0                              0.994 +/- 0.001  \n",
       "1                              0.993 +/- 0.003  "
      ]
     },
     "metadata": {},
     "output_type": "display_data"
    },
    {
     "data": {
      "text/markdown": [
       "# Results for AUC PR"
      ],
      "text/plain": [
       "<IPython.core.display.Markdown object>"
      ]
     },
     "metadata": {},
     "output_type": "display_data"
    },
    {
     "data": {
      "text/html": [
       "<div>\n",
       "<style scoped>\n",
       "    .dataframe tbody tr th:only-of-type {\n",
       "        vertical-align: middle;\n",
       "    }\n",
       "\n",
       "    .dataframe tbody tr th {\n",
       "        vertical-align: top;\n",
       "    }\n",
       "\n",
       "    .dataframe thead th {\n",
       "        text-align: right;\n",
       "    }\n",
       "</style>\n",
       "<table border=\"1\" class=\"dataframe\">\n",
       "  <thead>\n",
       "    <tr style=\"text-align: right;\">\n",
       "      <th></th>\n",
       "      <th>Experiment</th>\n",
       "      <th>Transfer Learning with Revision Theory - SoftCosine</th>\n",
       "      <th>Transfer Learning with Revision Theory - Euclidean</th>\n",
       "      <th>Transfer Learning with Revision Theory - WMD</th>\n",
       "    </tr>\n",
       "  </thead>\n",
       "  <tbody>\n",
       "    <tr>\n",
       "      <th>0</th>\n",
       "      <td>1_imdb_uwcse</td>\n",
       "      <td>0.284 +/- 0.045</td>\n",
       "      <td>0.275 +/- 0.035</td>\n",
       "      <td>0.274 +/- 0.045</td>\n",
       "    </tr>\n",
       "    <tr>\n",
       "      <th>1</th>\n",
       "      <td>1_imdb_uwcse*</td>\n",
       "      <td>0.289 +/- 0.028</td>\n",
       "      <td>0.300 +/- 0.058</td>\n",
       "      <td>0.271 +/- 0.036</td>\n",
       "    </tr>\n",
       "  </tbody>\n",
       "</table>\n",
       "</div>"
      ],
      "text/plain": [
       "      Experiment Transfer Learning with Revision Theory - SoftCosine  \\\n",
       "0   1_imdb_uwcse                                    0.284 +/- 0.045    \n",
       "1  1_imdb_uwcse*                                    0.289 +/- 0.028    \n",
       "\n",
       "  Transfer Learning with Revision Theory - Euclidean  \\\n",
       "0                                    0.275 +/- 0.035   \n",
       "1                                    0.300 +/- 0.058   \n",
       "\n",
       "  Transfer Learning with Revision Theory - WMD  \n",
       "0                              0.274 +/- 0.045  \n",
       "1                              0.271 +/- 0.036  "
      ]
     },
     "metadata": {},
     "output_type": "display_data"
    },
    {
     "data": {
      "text/html": [
       "<div>\n",
       "<style scoped>\n",
       "    .dataframe tbody tr th:only-of-type {\n",
       "        vertical-align: middle;\n",
       "    }\n",
       "\n",
       "    .dataframe tbody tr th {\n",
       "        vertical-align: top;\n",
       "    }\n",
       "\n",
       "    .dataframe thead th {\n",
       "        text-align: right;\n",
       "    }\n",
       "</style>\n",
       "<table border=\"1\" class=\"dataframe\">\n",
       "  <thead>\n",
       "    <tr style=\"text-align: right;\">\n",
       "      <th></th>\n",
       "      <th>Experiment</th>\n",
       "      <th>Transfer Learning with Revision Theory - SoftCosine</th>\n",
       "      <th>Transfer Learning with Revision Theory - Euclidean</th>\n",
       "      <th>Transfer Learning with Revision Theory - WMD</th>\n",
       "    </tr>\n",
       "  </thead>\n",
       "  <tbody>\n",
       "    <tr>\n",
       "      <th>0</th>\n",
       "      <td>7_yeast_twitter</td>\n",
       "      <td>0.382 +/- 0.096</td>\n",
       "      <td>0.389 +/- 0.028</td>\n",
       "      <td>0.374 +/- 0.034</td>\n",
       "    </tr>\n",
       "    <tr>\n",
       "      <th>1</th>\n",
       "      <td>7_yeast_twitter*</td>\n",
       "      <td>0.452 +/- 0.042</td>\n",
       "      <td>0.402 +/- 0.041</td>\n",
       "      <td>0.438 +/- 0.067</td>\n",
       "    </tr>\n",
       "  </tbody>\n",
       "</table>\n",
       "</div>"
      ],
      "text/plain": [
       "         Experiment Transfer Learning with Revision Theory - SoftCosine  \\\n",
       "0   7_yeast_twitter                                    0.382 +/- 0.096    \n",
       "1  7_yeast_twitter*                                    0.452 +/- 0.042    \n",
       "\n",
       "  Transfer Learning with Revision Theory - Euclidean  \\\n",
       "0                                    0.389 +/- 0.028   \n",
       "1                                    0.402 +/- 0.041   \n",
       "\n",
       "  Transfer Learning with Revision Theory - WMD  \n",
       "0                              0.374 +/- 0.034  \n",
       "1                              0.438 +/- 0.067  "
      ]
     },
     "metadata": {},
     "output_type": "display_data"
    },
    {
     "data": {
      "text/html": [
       "<div>\n",
       "<style scoped>\n",
       "    .dataframe tbody tr th:only-of-type {\n",
       "        vertical-align: middle;\n",
       "    }\n",
       "\n",
       "    .dataframe tbody tr th {\n",
       "        vertical-align: top;\n",
       "    }\n",
       "\n",
       "    .dataframe thead th {\n",
       "        text-align: right;\n",
       "    }\n",
       "</style>\n",
       "<table border=\"1\" class=\"dataframe\">\n",
       "  <thead>\n",
       "    <tr style=\"text-align: right;\">\n",
       "      <th></th>\n",
       "      <th>Experiment</th>\n",
       "      <th>Transfer Learning with Revision Theory - SoftCosine</th>\n",
       "      <th>Transfer Learning with Revision Theory - Euclidean</th>\n",
       "      <th>Transfer Learning with Revision Theory - WMD</th>\n",
       "    </tr>\n",
       "  </thead>\n",
       "  <tbody>\n",
       "    <tr>\n",
       "      <th>0</th>\n",
       "      <td>8_twitter_yeast</td>\n",
       "      <td>0.169 +/- 0.266</td>\n",
       "      <td>0.325 +/- 0.072</td>\n",
       "      <td>0.282 +/- 0.033</td>\n",
       "    </tr>\n",
       "    <tr>\n",
       "      <th>1</th>\n",
       "      <td>8_twitter_yeast*</td>\n",
       "      <td>0.344 +/- 0.000</td>\n",
       "      <td>0.385 +/- 0.000</td>\n",
       "      <td>0.311 +/- 0.000</td>\n",
       "    </tr>\n",
       "  </tbody>\n",
       "</table>\n",
       "</div>"
      ],
      "text/plain": [
       "         Experiment Transfer Learning with Revision Theory - SoftCosine  \\\n",
       "0   8_twitter_yeast                                    0.169 +/- 0.266    \n",
       "1  8_twitter_yeast*                                    0.344 +/- 0.000    \n",
       "\n",
       "  Transfer Learning with Revision Theory - Euclidean  \\\n",
       "0                                    0.325 +/- 0.072   \n",
       "1                                    0.385 +/- 0.000   \n",
       "\n",
       "  Transfer Learning with Revision Theory - WMD  \n",
       "0                              0.282 +/- 0.033  \n",
       "1                              0.311 +/- 0.000  "
      ]
     },
     "metadata": {},
     "output_type": "display_data"
    },
    {
     "data": {
      "text/html": [
       "<div>\n",
       "<style scoped>\n",
       "    .dataframe tbody tr th:only-of-type {\n",
       "        vertical-align: middle;\n",
       "    }\n",
       "\n",
       "    .dataframe tbody tr th {\n",
       "        vertical-align: top;\n",
       "    }\n",
       "\n",
       "    .dataframe thead th {\n",
       "        text-align: right;\n",
       "    }\n",
       "</style>\n",
       "<table border=\"1\" class=\"dataframe\">\n",
       "  <thead>\n",
       "    <tr style=\"text-align: right;\">\n",
       "      <th></th>\n",
       "      <th>Experiment</th>\n",
       "      <th>Transfer Learning with Revision Theory - SoftCosine</th>\n",
       "      <th>Transfer Learning with Revision Theory - Euclidean</th>\n",
       "      <th>Transfer Learning with Revision Theory - WMD</th>\n",
       "    </tr>\n",
       "  </thead>\n",
       "  <tbody>\n",
       "    <tr>\n",
       "      <th>0</th>\n",
       "      <td>9_nell_sports_nell_finances</td>\n",
       "      <td>0.077 +/- 0.016</td>\n",
       "      <td>0.088 +/- 0.027</td>\n",
       "      <td>0.076 +/- 0.004</td>\n",
       "    </tr>\n",
       "    <tr>\n",
       "      <th>1</th>\n",
       "      <td>9_nell_sports_nell_finances*</td>\n",
       "      <td>0.069 +/- 0.007</td>\n",
       "      <td>0.059 +/- 0.015</td>\n",
       "      <td>0.067 +/- 0.032</td>\n",
       "    </tr>\n",
       "  </tbody>\n",
       "</table>\n",
       "</div>"
      ],
      "text/plain": [
       "                     Experiment  \\\n",
       "0   9_nell_sports_nell_finances   \n",
       "1  9_nell_sports_nell_finances*   \n",
       "\n",
       "  Transfer Learning with Revision Theory - SoftCosine  \\\n",
       "0                                    0.077 +/- 0.016    \n",
       "1                                    0.069 +/- 0.007    \n",
       "\n",
       "  Transfer Learning with Revision Theory - Euclidean  \\\n",
       "0                                    0.088 +/- 0.027   \n",
       "1                                    0.059 +/- 0.015   \n",
       "\n",
       "  Transfer Learning with Revision Theory - WMD  \n",
       "0                              0.076 +/- 0.004  \n",
       "1                              0.067 +/- 0.032  "
      ]
     },
     "metadata": {},
     "output_type": "display_data"
    },
    {
     "data": {
      "text/html": [
       "<div>\n",
       "<style scoped>\n",
       "    .dataframe tbody tr th:only-of-type {\n",
       "        vertical-align: middle;\n",
       "    }\n",
       "\n",
       "    .dataframe tbody tr th {\n",
       "        vertical-align: top;\n",
       "    }\n",
       "\n",
       "    .dataframe thead th {\n",
       "        text-align: right;\n",
       "    }\n",
       "</style>\n",
       "<table border=\"1\" class=\"dataframe\">\n",
       "  <thead>\n",
       "    <tr style=\"text-align: right;\">\n",
       "      <th></th>\n",
       "      <th>Experiment</th>\n",
       "      <th>Transfer Learning with Revision Theory - SoftCosine</th>\n",
       "      <th>Transfer Learning with Revision Theory - Euclidean</th>\n",
       "      <th>Transfer Learning with Revision Theory - WMD</th>\n",
       "    </tr>\n",
       "  </thead>\n",
       "  <tbody>\n",
       "    <tr>\n",
       "      <th>0</th>\n",
       "      <td>10_nell_finances_nell_sports</td>\n",
       "      <td>0.244 +/- 0.101</td>\n",
       "      <td>0.288 +/- 0.040</td>\n",
       "      <td>0.299 +/- 0.035</td>\n",
       "    </tr>\n",
       "    <tr>\n",
       "      <th>1</th>\n",
       "      <td>10_nell_finances_nell_sports*</td>\n",
       "      <td>0.242 +/- 0.053</td>\n",
       "      <td>0.302 +/- 0.065</td>\n",
       "      <td>0.286 +/- 0.051</td>\n",
       "    </tr>\n",
       "  </tbody>\n",
       "</table>\n",
       "</div>"
      ],
      "text/plain": [
       "                      Experiment  \\\n",
       "0   10_nell_finances_nell_sports   \n",
       "1  10_nell_finances_nell_sports*   \n",
       "\n",
       "  Transfer Learning with Revision Theory - SoftCosine  \\\n",
       "0                                    0.244 +/- 0.101    \n",
       "1                                    0.242 +/- 0.053    \n",
       "\n",
       "  Transfer Learning with Revision Theory - Euclidean  \\\n",
       "0                                    0.288 +/- 0.040   \n",
       "1                                    0.302 +/- 0.065   \n",
       "\n",
       "  Transfer Learning with Revision Theory - WMD  \n",
       "0                              0.299 +/- 0.035  \n",
       "1                              0.286 +/- 0.051  "
      ]
     },
     "metadata": {},
     "output_type": "display_data"
    },
    {
     "data": {
      "text/markdown": [
       "# Results for CLL"
      ],
      "text/plain": [
       "<IPython.core.display.Markdown object>"
      ]
     },
     "metadata": {},
     "output_type": "display_data"
    },
    {
     "data": {
      "text/html": [
       "<div>\n",
       "<style scoped>\n",
       "    .dataframe tbody tr th:only-of-type {\n",
       "        vertical-align: middle;\n",
       "    }\n",
       "\n",
       "    .dataframe tbody tr th {\n",
       "        vertical-align: top;\n",
       "    }\n",
       "\n",
       "    .dataframe thead th {\n",
       "        text-align: right;\n",
       "    }\n",
       "</style>\n",
       "<table border=\"1\" class=\"dataframe\">\n",
       "  <thead>\n",
       "    <tr style=\"text-align: right;\">\n",
       "      <th></th>\n",
       "      <th>Experiment</th>\n",
       "      <th>Transfer Learning with Revision Theory - SoftCosine</th>\n",
       "      <th>Transfer Learning with Revision Theory - Euclidean</th>\n",
       "      <th>Transfer Learning with Revision Theory - WMD</th>\n",
       "    </tr>\n",
       "  </thead>\n",
       "  <tbody>\n",
       "    <tr>\n",
       "      <th>0</th>\n",
       "      <td>1_imdb_uwcse</td>\n",
       "      <td>-0.255 +/- 0.023</td>\n",
       "      <td>-0.254 +/- 0.007</td>\n",
       "      <td>-0.247 +/- 0.014</td>\n",
       "    </tr>\n",
       "    <tr>\n",
       "      <th>1</th>\n",
       "      <td>1_imdb_uwcse*</td>\n",
       "      <td>-0.260 +/- 0.007</td>\n",
       "      <td>-0.250 +/- 0.016</td>\n",
       "      <td>-0.252 +/- 0.008</td>\n",
       "    </tr>\n",
       "  </tbody>\n",
       "</table>\n",
       "</div>"
      ],
      "text/plain": [
       "      Experiment Transfer Learning with Revision Theory - SoftCosine  \\\n",
       "0   1_imdb_uwcse                                   -0.255 +/- 0.023    \n",
       "1  1_imdb_uwcse*                                   -0.260 +/- 0.007    \n",
       "\n",
       "  Transfer Learning with Revision Theory - Euclidean  \\\n",
       "0                                   -0.254 +/- 0.007   \n",
       "1                                   -0.250 +/- 0.016   \n",
       "\n",
       "  Transfer Learning with Revision Theory - WMD  \n",
       "0                             -0.247 +/- 0.014  \n",
       "1                             -0.252 +/- 0.008  "
      ]
     },
     "metadata": {},
     "output_type": "display_data"
    },
    {
     "data": {
      "text/html": [
       "<div>\n",
       "<style scoped>\n",
       "    .dataframe tbody tr th:only-of-type {\n",
       "        vertical-align: middle;\n",
       "    }\n",
       "\n",
       "    .dataframe tbody tr th {\n",
       "        vertical-align: top;\n",
       "    }\n",
       "\n",
       "    .dataframe thead th {\n",
       "        text-align: right;\n",
       "    }\n",
       "</style>\n",
       "<table border=\"1\" class=\"dataframe\">\n",
       "  <thead>\n",
       "    <tr style=\"text-align: right;\">\n",
       "      <th></th>\n",
       "      <th>Experiment</th>\n",
       "      <th>Transfer Learning with Revision Theory - SoftCosine</th>\n",
       "      <th>Transfer Learning with Revision Theory - Euclidean</th>\n",
       "      <th>Transfer Learning with Revision Theory - WMD</th>\n",
       "    </tr>\n",
       "  </thead>\n",
       "  <tbody>\n",
       "    <tr>\n",
       "      <th>0</th>\n",
       "      <td>7_yeast_twitter</td>\n",
       "      <td>-0.127 +/- 0.056</td>\n",
       "      <td>-0.107 +/- 0.008</td>\n",
       "      <td>-0.107 +/- 0.006</td>\n",
       "    </tr>\n",
       "    <tr>\n",
       "      <th>1</th>\n",
       "      <td>7_yeast_twitter*</td>\n",
       "      <td>-0.088 +/- 0.001</td>\n",
       "      <td>-0.099 +/- 0.003</td>\n",
       "      <td>-0.098 +/- 0.006</td>\n",
       "    </tr>\n",
       "  </tbody>\n",
       "</table>\n",
       "</div>"
      ],
      "text/plain": [
       "         Experiment Transfer Learning with Revision Theory - SoftCosine  \\\n",
       "0   7_yeast_twitter                                   -0.127 +/- 0.056    \n",
       "1  7_yeast_twitter*                                   -0.088 +/- 0.001    \n",
       "\n",
       "  Transfer Learning with Revision Theory - Euclidean  \\\n",
       "0                                   -0.107 +/- 0.008   \n",
       "1                                   -0.099 +/- 0.003   \n",
       "\n",
       "  Transfer Learning with Revision Theory - WMD  \n",
       "0                             -0.107 +/- 0.006  \n",
       "1                             -0.098 +/- 0.006  "
      ]
     },
     "metadata": {},
     "output_type": "display_data"
    },
    {
     "data": {
      "text/html": [
       "<div>\n",
       "<style scoped>\n",
       "    .dataframe tbody tr th:only-of-type {\n",
       "        vertical-align: middle;\n",
       "    }\n",
       "\n",
       "    .dataframe tbody tr th {\n",
       "        vertical-align: top;\n",
       "    }\n",
       "\n",
       "    .dataframe thead th {\n",
       "        text-align: right;\n",
       "    }\n",
       "</style>\n",
       "<table border=\"1\" class=\"dataframe\">\n",
       "  <thead>\n",
       "    <tr style=\"text-align: right;\">\n",
       "      <th></th>\n",
       "      <th>Experiment</th>\n",
       "      <th>Transfer Learning with Revision Theory - SoftCosine</th>\n",
       "      <th>Transfer Learning with Revision Theory - Euclidean</th>\n",
       "      <th>Transfer Learning with Revision Theory - WMD</th>\n",
       "    </tr>\n",
       "  </thead>\n",
       "  <tbody>\n",
       "    <tr>\n",
       "      <th>0</th>\n",
       "      <td>8_twitter_yeast</td>\n",
       "      <td>-0.280 +/- 0.102</td>\n",
       "      <td>-0.282 +/- 0.115</td>\n",
       "      <td>-0.240 +/- 0.012</td>\n",
       "    </tr>\n",
       "    <tr>\n",
       "      <th>1</th>\n",
       "      <td>8_twitter_yeast*</td>\n",
       "      <td>-0.217 +/- 0.000</td>\n",
       "      <td>-0.228 +/- 0.000</td>\n",
       "      <td>-0.228 +/- 0.000</td>\n",
       "    </tr>\n",
       "  </tbody>\n",
       "</table>\n",
       "</div>"
      ],
      "text/plain": [
       "         Experiment Transfer Learning with Revision Theory - SoftCosine  \\\n",
       "0   8_twitter_yeast                                   -0.280 +/- 0.102    \n",
       "1  8_twitter_yeast*                                   -0.217 +/- 0.000    \n",
       "\n",
       "  Transfer Learning with Revision Theory - Euclidean  \\\n",
       "0                                   -0.282 +/- 0.115   \n",
       "1                                   -0.228 +/- 0.000   \n",
       "\n",
       "  Transfer Learning with Revision Theory - WMD  \n",
       "0                             -0.240 +/- 0.012  \n",
       "1                             -0.228 +/- 0.000  "
      ]
     },
     "metadata": {},
     "output_type": "display_data"
    },
    {
     "data": {
      "text/html": [
       "<div>\n",
       "<style scoped>\n",
       "    .dataframe tbody tr th:only-of-type {\n",
       "        vertical-align: middle;\n",
       "    }\n",
       "\n",
       "    .dataframe tbody tr th {\n",
       "        vertical-align: top;\n",
       "    }\n",
       "\n",
       "    .dataframe thead th {\n",
       "        text-align: right;\n",
       "    }\n",
       "</style>\n",
       "<table border=\"1\" class=\"dataframe\">\n",
       "  <thead>\n",
       "    <tr style=\"text-align: right;\">\n",
       "      <th></th>\n",
       "      <th>Experiment</th>\n",
       "      <th>Transfer Learning with Revision Theory - SoftCosine</th>\n",
       "      <th>Transfer Learning with Revision Theory - Euclidean</th>\n",
       "      <th>Transfer Learning with Revision Theory - WMD</th>\n",
       "    </tr>\n",
       "  </thead>\n",
       "  <tbody>\n",
       "    <tr>\n",
       "      <th>0</th>\n",
       "      <td>9_nell_sports_nell_finances</td>\n",
       "      <td>-0.321 +/- 0.011</td>\n",
       "      <td>-0.320 +/- 0.016</td>\n",
       "      <td>-0.330 +/- 0.008</td>\n",
       "    </tr>\n",
       "    <tr>\n",
       "      <th>1</th>\n",
       "      <td>9_nell_sports_nell_finances*</td>\n",
       "      <td>-0.317 +/- 0.012</td>\n",
       "      <td>-0.343 +/- 0.005</td>\n",
       "      <td>-0.213 +/- 0.006</td>\n",
       "    </tr>\n",
       "  </tbody>\n",
       "</table>\n",
       "</div>"
      ],
      "text/plain": [
       "                     Experiment  \\\n",
       "0   9_nell_sports_nell_finances   \n",
       "1  9_nell_sports_nell_finances*   \n",
       "\n",
       "  Transfer Learning with Revision Theory - SoftCosine  \\\n",
       "0                                   -0.321 +/- 0.011    \n",
       "1                                   -0.317 +/- 0.012    \n",
       "\n",
       "  Transfer Learning with Revision Theory - Euclidean  \\\n",
       "0                                   -0.320 +/- 0.016   \n",
       "1                                   -0.343 +/- 0.005   \n",
       "\n",
       "  Transfer Learning with Revision Theory - WMD  \n",
       "0                             -0.330 +/- 0.008  \n",
       "1                             -0.213 +/- 0.006  "
      ]
     },
     "metadata": {},
     "output_type": "display_data"
    },
    {
     "data": {
      "text/html": [
       "<div>\n",
       "<style scoped>\n",
       "    .dataframe tbody tr th:only-of-type {\n",
       "        vertical-align: middle;\n",
       "    }\n",
       "\n",
       "    .dataframe tbody tr th {\n",
       "        vertical-align: top;\n",
       "    }\n",
       "\n",
       "    .dataframe thead th {\n",
       "        text-align: right;\n",
       "    }\n",
       "</style>\n",
       "<table border=\"1\" class=\"dataframe\">\n",
       "  <thead>\n",
       "    <tr style=\"text-align: right;\">\n",
       "      <th></th>\n",
       "      <th>Experiment</th>\n",
       "      <th>Transfer Learning with Revision Theory - SoftCosine</th>\n",
       "      <th>Transfer Learning with Revision Theory - Euclidean</th>\n",
       "      <th>Transfer Learning with Revision Theory - WMD</th>\n",
       "    </tr>\n",
       "  </thead>\n",
       "  <tbody>\n",
       "    <tr>\n",
       "      <th>0</th>\n",
       "      <td>10_nell_finances_nell_sports</td>\n",
       "      <td>-0.166 +/- 0.145</td>\n",
       "      <td>-0.097 +/- 0.035</td>\n",
       "      <td>-0.085 +/- 0.002</td>\n",
       "    </tr>\n",
       "    <tr>\n",
       "      <th>1</th>\n",
       "      <td>10_nell_finances_nell_sports*</td>\n",
       "      <td>-0.136 +/- 0.068</td>\n",
       "      <td>-0.141 +/- 0.006</td>\n",
       "      <td>-0.112 +/- 0.037</td>\n",
       "    </tr>\n",
       "  </tbody>\n",
       "</table>\n",
       "</div>"
      ],
      "text/plain": [
       "                      Experiment  \\\n",
       "0   10_nell_finances_nell_sports   \n",
       "1  10_nell_finances_nell_sports*   \n",
       "\n",
       "  Transfer Learning with Revision Theory - SoftCosine  \\\n",
       "0                                   -0.166 +/- 0.145    \n",
       "1                                   -0.136 +/- 0.068    \n",
       "\n",
       "  Transfer Learning with Revision Theory - Euclidean  \\\n",
       "0                                   -0.097 +/- 0.035   \n",
       "1                                   -0.141 +/- 0.006   \n",
       "\n",
       "  Transfer Learning with Revision Theory - WMD  \n",
       "0                             -0.085 +/- 0.002  \n",
       "1                             -0.112 +/- 0.037  "
      ]
     },
     "metadata": {},
     "output_type": "display_data"
    },
    {
     "data": {
      "text/markdown": [
       "# Results for Learning time"
      ],
      "text/plain": [
       "<IPython.core.display.Markdown object>"
      ]
     },
     "metadata": {},
     "output_type": "display_data"
    },
    {
     "data": {
      "text/html": [
       "<div>\n",
       "<style scoped>\n",
       "    .dataframe tbody tr th:only-of-type {\n",
       "        vertical-align: middle;\n",
       "    }\n",
       "\n",
       "    .dataframe tbody tr th {\n",
       "        vertical-align: top;\n",
       "    }\n",
       "\n",
       "    .dataframe thead th {\n",
       "        text-align: right;\n",
       "    }\n",
       "</style>\n",
       "<table border=\"1\" class=\"dataframe\">\n",
       "  <thead>\n",
       "    <tr style=\"text-align: right;\">\n",
       "      <th></th>\n",
       "      <th>Experiment</th>\n",
       "      <th>Transfer Learning with Revision Theory - SoftCosine</th>\n",
       "      <th>Transfer Learning with Revision Theory - Euclidean</th>\n",
       "      <th>Transfer Learning with Revision Theory - WMD</th>\n",
       "    </tr>\n",
       "  </thead>\n",
       "  <tbody>\n",
       "    <tr>\n",
       "      <th>0</th>\n",
       "      <td>1_imdb_uwcse</td>\n",
       "      <td>5.944 +/- 0.446</td>\n",
       "      <td>6.440 +/- 1.441</td>\n",
       "      <td>5.896 +/- 0.551</td>\n",
       "    </tr>\n",
       "    <tr>\n",
       "      <th>1</th>\n",
       "      <td>1_imdb_uwcse*</td>\n",
       "      <td>10.521 +/- 0.934</td>\n",
       "      <td>12.640 +/- 1.781</td>\n",
       "      <td>11.802 +/- 1.927</td>\n",
       "    </tr>\n",
       "  </tbody>\n",
       "</table>\n",
       "</div>"
      ],
      "text/plain": [
       "      Experiment Transfer Learning with Revision Theory - SoftCosine  \\\n",
       "0   1_imdb_uwcse                                    5.944 +/- 0.446    \n",
       "1  1_imdb_uwcse*                                   10.521 +/- 0.934    \n",
       "\n",
       "  Transfer Learning with Revision Theory - Euclidean  \\\n",
       "0                                    6.440 +/- 1.441   \n",
       "1                                   12.640 +/- 1.781   \n",
       "\n",
       "  Transfer Learning with Revision Theory - WMD  \n",
       "0                              5.896 +/- 0.551  \n",
       "1                             11.802 +/- 1.927  "
      ]
     },
     "metadata": {},
     "output_type": "display_data"
    },
    {
     "data": {
      "text/html": [
       "<div>\n",
       "<style scoped>\n",
       "    .dataframe tbody tr th:only-of-type {\n",
       "        vertical-align: middle;\n",
       "    }\n",
       "\n",
       "    .dataframe tbody tr th {\n",
       "        vertical-align: top;\n",
       "    }\n",
       "\n",
       "    .dataframe thead th {\n",
       "        text-align: right;\n",
       "    }\n",
       "</style>\n",
       "<table border=\"1\" class=\"dataframe\">\n",
       "  <thead>\n",
       "    <tr style=\"text-align: right;\">\n",
       "      <th></th>\n",
       "      <th>Experiment</th>\n",
       "      <th>Transfer Learning with Revision Theory - SoftCosine</th>\n",
       "      <th>Transfer Learning with Revision Theory - Euclidean</th>\n",
       "      <th>Transfer Learning with Revision Theory - WMD</th>\n",
       "    </tr>\n",
       "  </thead>\n",
       "  <tbody>\n",
       "    <tr>\n",
       "      <th>0</th>\n",
       "      <td>7_yeast_twitter</td>\n",
       "      <td>23.388 +/- 41.322</td>\n",
       "      <td>26.098 +/- 49.435</td>\n",
       "      <td>24.552 +/- 43.776</td>\n",
       "    </tr>\n",
       "    <tr>\n",
       "      <th>1</th>\n",
       "      <td>7_yeast_twitter*</td>\n",
       "      <td>104.956 +/- 33.950</td>\n",
       "      <td>55.787 +/- 2.302</td>\n",
       "      <td>72.819 +/- 25.405</td>\n",
       "    </tr>\n",
       "  </tbody>\n",
       "</table>\n",
       "</div>"
      ],
      "text/plain": [
       "         Experiment Transfer Learning with Revision Theory - SoftCosine  \\\n",
       "0   7_yeast_twitter                                  23.388 +/- 41.322    \n",
       "1  7_yeast_twitter*                                 104.956 +/- 33.950    \n",
       "\n",
       "  Transfer Learning with Revision Theory - Euclidean  \\\n",
       "0                                  26.098 +/- 49.435   \n",
       "1                                   55.787 +/- 2.302   \n",
       "\n",
       "  Transfer Learning with Revision Theory - WMD  \n",
       "0                            24.552 +/- 43.776  \n",
       "1                            72.819 +/- 25.405  "
      ]
     },
     "metadata": {},
     "output_type": "display_data"
    },
    {
     "data": {
      "text/html": [
       "<div>\n",
       "<style scoped>\n",
       "    .dataframe tbody tr th:only-of-type {\n",
       "        vertical-align: middle;\n",
       "    }\n",
       "\n",
       "    .dataframe tbody tr th {\n",
       "        vertical-align: top;\n",
       "    }\n",
       "\n",
       "    .dataframe thead th {\n",
       "        text-align: right;\n",
       "    }\n",
       "</style>\n",
       "<table border=\"1\" class=\"dataframe\">\n",
       "  <thead>\n",
       "    <tr style=\"text-align: right;\">\n",
       "      <th></th>\n",
       "      <th>Experiment</th>\n",
       "      <th>Transfer Learning with Revision Theory - SoftCosine</th>\n",
       "      <th>Transfer Learning with Revision Theory - Euclidean</th>\n",
       "      <th>Transfer Learning with Revision Theory - WMD</th>\n",
       "    </tr>\n",
       "  </thead>\n",
       "  <tbody>\n",
       "    <tr>\n",
       "      <th>0</th>\n",
       "      <td>8_twitter_yeast</td>\n",
       "      <td>20.395 +/- 31.988</td>\n",
       "      <td>13.056 +/- 24.364</td>\n",
       "      <td>19.640 +/- 8.262</td>\n",
       "    </tr>\n",
       "    <tr>\n",
       "      <th>1</th>\n",
       "      <td>8_twitter_yeast*</td>\n",
       "      <td>33.182 +/- 0.000</td>\n",
       "      <td>34.329 +/- 0.000</td>\n",
       "      <td>31.009 +/- 0.000</td>\n",
       "    </tr>\n",
       "  </tbody>\n",
       "</table>\n",
       "</div>"
      ],
      "text/plain": [
       "         Experiment Transfer Learning with Revision Theory - SoftCosine  \\\n",
       "0   8_twitter_yeast                                  20.395 +/- 31.988    \n",
       "1  8_twitter_yeast*                                   33.182 +/- 0.000    \n",
       "\n",
       "  Transfer Learning with Revision Theory - Euclidean  \\\n",
       "0                                  13.056 +/- 24.364   \n",
       "1                                   34.329 +/- 0.000   \n",
       "\n",
       "  Transfer Learning with Revision Theory - WMD  \n",
       "0                             19.640 +/- 8.262  \n",
       "1                             31.009 +/- 0.000  "
      ]
     },
     "metadata": {},
     "output_type": "display_data"
    },
    {
     "data": {
      "text/html": [
       "<div>\n",
       "<style scoped>\n",
       "    .dataframe tbody tr th:only-of-type {\n",
       "        vertical-align: middle;\n",
       "    }\n",
       "\n",
       "    .dataframe tbody tr th {\n",
       "        vertical-align: top;\n",
       "    }\n",
       "\n",
       "    .dataframe thead th {\n",
       "        text-align: right;\n",
       "    }\n",
       "</style>\n",
       "<table border=\"1\" class=\"dataframe\">\n",
       "  <thead>\n",
       "    <tr style=\"text-align: right;\">\n",
       "      <th></th>\n",
       "      <th>Experiment</th>\n",
       "      <th>Transfer Learning with Revision Theory - SoftCosine</th>\n",
       "      <th>Transfer Learning with Revision Theory - Euclidean</th>\n",
       "      <th>Transfer Learning with Revision Theory - WMD</th>\n",
       "    </tr>\n",
       "  </thead>\n",
       "  <tbody>\n",
       "    <tr>\n",
       "      <th>0</th>\n",
       "      <td>9_nell_sports_nell_finances</td>\n",
       "      <td>174.724 +/- 84.579</td>\n",
       "      <td>158.171 +/- 51.731</td>\n",
       "      <td>147.918 +/- 27.345</td>\n",
       "    </tr>\n",
       "    <tr>\n",
       "      <th>1</th>\n",
       "      <td>9_nell_sports_nell_finances*</td>\n",
       "      <td>78.676 +/- 25.173</td>\n",
       "      <td>60.963 +/- 12.602</td>\n",
       "      <td>78.348 +/- 7.462</td>\n",
       "    </tr>\n",
       "  </tbody>\n",
       "</table>\n",
       "</div>"
      ],
      "text/plain": [
       "                     Experiment  \\\n",
       "0   9_nell_sports_nell_finances   \n",
       "1  9_nell_sports_nell_finances*   \n",
       "\n",
       "  Transfer Learning with Revision Theory - SoftCosine  \\\n",
       "0                                 174.724 +/- 84.579    \n",
       "1                                  78.676 +/- 25.173    \n",
       "\n",
       "  Transfer Learning with Revision Theory - Euclidean  \\\n",
       "0                                 158.171 +/- 51.731   \n",
       "1                                  60.963 +/- 12.602   \n",
       "\n",
       "  Transfer Learning with Revision Theory - WMD  \n",
       "0                           147.918 +/- 27.345  \n",
       "1                             78.348 +/- 7.462  "
      ]
     },
     "metadata": {},
     "output_type": "display_data"
    },
    {
     "data": {
      "text/html": [
       "<div>\n",
       "<style scoped>\n",
       "    .dataframe tbody tr th:only-of-type {\n",
       "        vertical-align: middle;\n",
       "    }\n",
       "\n",
       "    .dataframe tbody tr th {\n",
       "        vertical-align: top;\n",
       "    }\n",
       "\n",
       "    .dataframe thead th {\n",
       "        text-align: right;\n",
       "    }\n",
       "</style>\n",
       "<table border=\"1\" class=\"dataframe\">\n",
       "  <thead>\n",
       "    <tr style=\"text-align: right;\">\n",
       "      <th></th>\n",
       "      <th>Experiment</th>\n",
       "      <th>Transfer Learning with Revision Theory - SoftCosine</th>\n",
       "      <th>Transfer Learning with Revision Theory - Euclidean</th>\n",
       "      <th>Transfer Learning with Revision Theory - WMD</th>\n",
       "    </tr>\n",
       "  </thead>\n",
       "  <tbody>\n",
       "    <tr>\n",
       "      <th>0</th>\n",
       "      <td>10_nell_finances_nell_sports</td>\n",
       "      <td>294.552 +/- 547.910</td>\n",
       "      <td>341.999 +/- 176.276</td>\n",
       "      <td>394.017 +/- 83.640</td>\n",
       "    </tr>\n",
       "    <tr>\n",
       "      <th>1</th>\n",
       "      <td>10_nell_finances_nell_sports*</td>\n",
       "      <td>303.339 +/- 124.074</td>\n",
       "      <td>185.254 +/- 17.145</td>\n",
       "      <td>299.826 +/- 112.086</td>\n",
       "    </tr>\n",
       "  </tbody>\n",
       "</table>\n",
       "</div>"
      ],
      "text/plain": [
       "                      Experiment  \\\n",
       "0   10_nell_finances_nell_sports   \n",
       "1  10_nell_finances_nell_sports*   \n",
       "\n",
       "  Transfer Learning with Revision Theory - SoftCosine  \\\n",
       "0                                294.552 +/- 547.910    \n",
       "1                                303.339 +/- 124.074    \n",
       "\n",
       "  Transfer Learning with Revision Theory - Euclidean  \\\n",
       "0                                341.999 +/- 176.276   \n",
       "1                                 185.254 +/- 17.145   \n",
       "\n",
       "  Transfer Learning with Revision Theory - WMD  \n",
       "0                           394.017 +/- 83.640  \n",
       "1                          299.826 +/- 112.086  "
      ]
     },
     "metadata": {},
     "output_type": "display_data"
    }
   ],
   "source": [
    "data_softcosine = load_data(experiments, 'softcosine', '/OLD-EXPERIMENTS/transfer-experiments/')\n",
    "data_euclidean = load_data(experiments, 'euclidean', '/OLD-EXPERIMENTS/transfer-experiments/')\n",
    "data_wmd = load_data(experiments, 'wmd', '/OLD-EXPERIMENTS/transfer-experiments/')\n",
    "#data_rwmd = load_data(experiments, 'relax-wmd', '/OLD-EXPERIMENTS/transfer-experiments/')\n",
    "\n",
    "# Most similarity order\n",
    "data_softcosine_most = load_data(experiments, 'softcosine','/transfer-experiments/')\n",
    "data_euclidean_most = load_data(experiments, 'euclidean','/transfer-experiments/')\n",
    "data_wmd_most = load_data(experiments, 'wmd','/transfer-experiments/')\n",
    "#data_rwmd_most = load_data(experiments, 'relax-wmd','/transfer-experiments/')\n",
    "\n",
    "\n",
    "for metric in ['AUC ROC', 'AUC PR', 'CLL', 'Learning time']: #, 'Recall', 'F1', 'Precision', 'Learning and Revision time', 'Inference time']:\n",
    "    display(Markdown('# Results for ' + metric))\n",
    "    \n",
    "    for j in range(len(experiments)):\n",
    "        table = []\n",
    "        dataset = experiments[j]['id'] + '_' + experiments[j]['source'] + '_' + experiments[j]['target']\n",
    "        if dataset in data_euclidean:\n",
    "            mapping_time = ''\n",
    "\n",
    "            transfer_softcosine = np.array([(np.array([item['transfer'][metric] for item in sublist])).mean() for sublist in data_softcosine[str(dataset)]])\n",
    "            #transfer_cosine = np.array(data[dataset]['cosine'][str(amount)][metric])\n",
    "            transfer_euclidean = np.array([(np.array([item['transfer'][metric] for item in sublist])).mean() for sublist in data_euclidean[str(dataset)]])\n",
    "            transfer_wmd = np.array([(np.array([item['transfer'][metric] for item in sublist])).mean() for sublist in data_wmd[str(dataset)]])\n",
    "            #transfer_relax_wmd = np.array([(np.array([item['transfer'.format(amount)][metric] for item in sublist])).mean() for sublist in data_rwmd[str(dataset)]])\n",
    "\n",
    "            transfer_softcosine_most = np.array([(np.array([item['transfer'][metric] for item in sublist])).mean() for sublist in data_softcosine_most[str(dataset)]])\n",
    "            #transfer_cosine = np.array(data[dataset]['cosine'][str(amount)][metric])\n",
    "            transfer_euclidean_most = np.array([(np.array([item['transfer'][metric] for item in sublist])).mean() for sublist in data_euclidean_most[str(dataset)]])\n",
    "            transfer_wmd_most = np.array([(np.array([item['transfer'][metric] for item in sublist])).mean() for sublist in data_wmd_most[str(dataset)]])\n",
    "            #transfer_relax_wmd_sim = np.array([(np.array([item['transfer'.format(amount)][metric] for item in sublist])).mean() for sublist in data_rwmd_sim[str(dataset)]])\n",
    "            \n",
    "            #treeboostler = np.array([(np.array([item['transfer'.format(amount)][metric] for item in sublist])).mean() for sublist in treeboostler_data[str(dataset)]])\n",
    "            #treeboostler_no_revision = np.array([(np.array([item['transfer_{}'.format(amount)]['parameter'][metric] for item in sublist])).mean() for sublist in treeboostler_data[str(dataset)]])\n",
    "            #print(treeboostler)\n",
    "            #rdnb = np.array([(np.array([item['amount_{}'.format(amount)][metric] for item in sublist])).mean() for sublist in rdn_data[str(dataset)]])\n",
    "\n",
    "            table.append([dataset,\n",
    "            #'%.3f +/- %.3f' % (treeboostler_no_revision.mean(), 2* treeboostler_no_revision.std()),\n",
    "            '%.3f +/- %.3f' % (transfer_softcosine.mean(), 2 * transfer_softcosine.std()),\n",
    "            #'%.3f +/- %.3f' % (transfer_cosine.mean(), 2 * transfer_cosine.std()),\n",
    "            '%.3f +/- %.3f' % (transfer_euclidean.mean(), 2 * transfer_euclidean.std()),\n",
    "            '%.3f +/- %.3f' % (transfer_wmd.mean(), 2 * transfer_wmd.std()),\n",
    "            #'%.3f +/- %.3f' % (transfer_relax_wmd.mean(), 2 * transfer_relax_wmd.std())])\n",
    "                         ])\n",
    "            \n",
    "            \n",
    "            table.append([dataset + '*',\n",
    "            '%.3f +/- %.3f' % (transfer_softcosine_most.mean(), 2 * transfer_softcosine_most.std()),\n",
    "            #'%.3f +/- %.3f' % (transfer_cosine.mean(), 2 * transfer_cosine.std()),\n",
    "            '%.3f +/- %.3f' % (transfer_euclidean_most.mean(), 2 * transfer_euclidean_most.std()),\n",
    "            '%.3f +/- %.3f' % (transfer_wmd_most.mean(), 2 * transfer_wmd_most.std()),\n",
    "            #'%.3f +/- %.3f' % (transfer_relax_wmd_sim.mean(), 2 * transfer_relax_wmd_sim.std())])\n",
    "                         ])\n",
    "                            \n",
    "        #display(pd.DataFrame(table, columns=['Experiment', 'RDN-B'])) #, 'Transfer Learning with Revision Theory - Relax WMD'])) #, 'Learning from scratch (RDN-B)']))\n",
    "        display(pd.DataFrame(table, columns=['Experiment', 'Transfer Learning with Revision Theory - SoftCosine', 'Transfer Learning with Revision Theory - Euclidean', 'Transfer Learning with Revision Theory - WMD'])) #, 'Learning from scratch (RDN-B)']))\n",
    "        #display(pd.DataFrame(table, columns=['Experiment', 'Transfer Learning', 'Transfer Learning with Revision Theory']))"
   ]
  },
  {
   "cell_type": "markdown",
   "id": "5538d6ec",
   "metadata": {},
   "source": [
    "# Curves Experiment"
   ]
  },
  {
   "cell_type": "code",
   "execution_count": 11,
   "id": "445abb99",
   "metadata": {},
   "outputs": [
    {
     "data": {
      "text/markdown": [
       "# Results for AUC ROC"
      ],
      "text/plain": [
       "<IPython.core.display.Markdown object>"
      ]
     },
     "metadata": {},
     "output_type": "display_data"
    },
    {
     "data": {
      "text/markdown": [
       "# 1_imdb_uwcse"
      ],
      "text/plain": [
       "<IPython.core.display.Markdown object>"
      ]
     },
     "metadata": {},
     "output_type": "display_data"
    },
    {
     "name": "stderr",
     "output_type": "stream",
     "text": [
      "<ipython-input-11-e49fade75ab6>:74: UserWarning: linestyle is redundantly defined by the 'linestyle' keyword argument and the fmt string \"x-\" (-> linestyle='-'). The keyword argument will take precedence.\n",
      "  ax.plot(t, wmd, 'x-', linestyle='-', color='k', label='TransBoostler WMD')\n",
      "<ipython-input-11-e49fade75ab6>:82: UserWarning: linestyle is redundantly defined by the 'linestyle' keyword argument and the fmt string \"x-\" (-> linestyle='-'). The keyword argument will take precedence.\n",
      "  ax.plot(t, wmd_most, 'x-', linestyle='-', color='g', label='TransBoostler WMD*')\n"
     ]
    },
    {
     "data": {
      "image/png": "[encoded data removed]",
      "text/plain": [
       "<Figure size 432x288 with 1 Axes>"
      ]
     },
     "metadata": {
      "needs_background": "light"
     },
     "output_type": "display_data"
    },
    {
     "data": {
      "text/markdown": [
       "# 7_yeast_twitter"
      ],
      "text/plain": [
       "<IPython.core.display.Markdown object>"
      ]
     },
     "metadata": {},
     "output_type": "display_data"
    },
    {
     "name": "stderr",
     "output_type": "stream",
     "text": [
      "<ipython-input-11-e49fade75ab6>:74: UserWarning: linestyle is redundantly defined by the 'linestyle' keyword argument and the fmt string \"x-\" (-> linestyle='-'). The keyword argument will take precedence.\n",
      "  ax.plot(t, wmd, 'x-', linestyle='-', color='k', label='TransBoostler WMD')\n",
      "<ipython-input-11-e49fade75ab6>:82: UserWarning: linestyle is redundantly defined by the 'linestyle' keyword argument and the fmt string \"x-\" (-> linestyle='-'). The keyword argument will take precedence.\n",
      "  ax.plot(t, wmd_most, 'x-', linestyle='-', color='g', label='TransBoostler WMD*')\n"
     ]
    },
    {
     "data": {
      "image/png": "[encoded data removed]",
      "text/plain": [
       "<Figure size 432x288 with 1 Axes>"
      ]
     },
     "metadata": {
      "needs_background": "light"
     },
     "output_type": "display_data"
    },
    {
     "data": {
      "text/markdown": [
       "# 8_twitter_yeast"
      ],
      "text/plain": [
       "<IPython.core.display.Markdown object>"
      ]
     },
     "metadata": {},
     "output_type": "display_data"
    },
    {
     "name": "stderr",
     "output_type": "stream",
     "text": [
      "<ipython-input-11-e49fade75ab6>:74: UserWarning: linestyle is redundantly defined by the 'linestyle' keyword argument and the fmt string \"x-\" (-> linestyle='-'). The keyword argument will take precedence.\n",
      "  ax.plot(t, wmd, 'x-', linestyle='-', color='k', label='TransBoostler WMD')\n",
      "<ipython-input-11-e49fade75ab6>:82: UserWarning: linestyle is redundantly defined by the 'linestyle' keyword argument and the fmt string \"x-\" (-> linestyle='-'). The keyword argument will take precedence.\n",
      "  ax.plot(t, wmd_most, 'x-', linestyle='-', color='g', label='TransBoostler WMD*')\n"
     ]
    },
    {
     "data": {
      "image/png": "[encoded data removed]",
      "text/plain": [
       "<Figure size 432x288 with 1 Axes>"
      ]
     },
     "metadata": {
      "needs_background": "light"
     },
     "output_type": "display_data"
    },
    {
     "data": {
      "text/markdown": [
       "# 9_nell_sports_nell_finances"
      ],
      "text/plain": [
       "<IPython.core.display.Markdown object>"
      ]
     },
     "metadata": {},
     "output_type": "display_data"
    },
    {
     "name": "stderr",
     "output_type": "stream",
     "text": [
      "<ipython-input-11-e49fade75ab6>:74: UserWarning: linestyle is redundantly defined by the 'linestyle' keyword argument and the fmt string \"x-\" (-> linestyle='-'). The keyword argument will take precedence.\n",
      "  ax.plot(t, wmd, 'x-', linestyle='-', color='k', label='TransBoostler WMD')\n",
      "<ipython-input-11-e49fade75ab6>:82: UserWarning: linestyle is redundantly defined by the 'linestyle' keyword argument and the fmt string \"x-\" (-> linestyle='-'). The keyword argument will take precedence.\n",
      "  ax.plot(t, wmd_most, 'x-', linestyle='-', color='g', label='TransBoostler WMD*')\n"
     ]
    },
    {
     "data": {
      "image/png": "[encoded data removed]",
      "text/plain": [
       "<Figure size 432x288 with 1 Axes>"
      ]
     },
     "metadata": {
      "needs_background": "light"
     },
     "output_type": "display_data"
    },
    {
     "data": {
      "text/markdown": [
       "# 10_nell_finances_nell_sports"
      ],
      "text/plain": [
       "<IPython.core.display.Markdown object>"
      ]
     },
     "metadata": {},
     "output_type": "display_data"
    },
    {
     "name": "stderr",
     "output_type": "stream",
     "text": [
      "<ipython-input-11-e49fade75ab6>:74: UserWarning: linestyle is redundantly defined by the 'linestyle' keyword argument and the fmt string \"x-\" (-> linestyle='-'). The keyword argument will take precedence.\n",
      "  ax.plot(t, wmd, 'x-', linestyle='-', color='k', label='TransBoostler WMD')\n",
      "<ipython-input-11-e49fade75ab6>:82: UserWarning: linestyle is redundantly defined by the 'linestyle' keyword argument and the fmt string \"x-\" (-> linestyle='-'). The keyword argument will take precedence.\n",
      "  ax.plot(t, wmd_most, 'x-', linestyle='-', color='g', label='TransBoostler WMD*')\n"
     ]
    },
    {
     "data": {
      "image/png": "[encoded data removed]",
      "text/plain": [
       "<Figure size 432x288 with 1 Axes>"
      ]
     },
     "metadata": {
      "needs_background": "light"
     },
     "output_type": "display_data"
    },
    {
     "data": {
      "text/markdown": [
       "# Results for AUC PR"
      ],
      "text/plain": [
       "<IPython.core.display.Markdown object>"
      ]
     },
     "metadata": {},
     "output_type": "display_data"
    },
    {
     "data": {
      "text/markdown": [
       "# 1_imdb_uwcse"
      ],
      "text/plain": [
       "<IPython.core.display.Markdown object>"
      ]
     },
     "metadata": {},
     "output_type": "display_data"
    },
    {
     "name": "stderr",
     "output_type": "stream",
     "text": [
      "<ipython-input-11-e49fade75ab6>:74: UserWarning: linestyle is redundantly defined by the 'linestyle' keyword argument and the fmt string \"x-\" (-> linestyle='-'). The keyword argument will take precedence.\n",
      "  ax.plot(t, wmd, 'x-', linestyle='-', color='k', label='TransBoostler WMD')\n",
      "<ipython-input-11-e49fade75ab6>:82: UserWarning: linestyle is redundantly defined by the 'linestyle' keyword argument and the fmt string \"x-\" (-> linestyle='-'). The keyword argument will take precedence.\n",
      "  ax.plot(t, wmd_most, 'x-', linestyle='-', color='g', label='TransBoostler WMD*')\n"
     ]
    },
    {
     "data": {
      "image/png": "[encoded data removed]",
      "text/plain": [
       "<Figure size 432x288 with 1 Axes>"
      ]
     },
     "metadata": {
      "needs_background": "light"
     },
     "output_type": "display_data"
    },
    {
     "data": {
      "text/markdown": [
       "# 7_yeast_twitter"
      ],
      "text/plain": [
       "<IPython.core.display.Markdown object>"
      ]
     },
     "metadata": {},
     "output_type": "display_data"
    },
    {
     "name": "stderr",
     "output_type": "stream",
     "text": [
      "<ipython-input-11-e49fade75ab6>:74: UserWarning: linestyle is redundantly defined by the 'linestyle' keyword argument and the fmt string \"x-\" (-> linestyle='-'). The keyword argument will take precedence.\n",
      "  ax.plot(t, wmd, 'x-', linestyle='-', color='k', label='TransBoostler WMD')\n",
      "<ipython-input-11-e49fade75ab6>:82: UserWarning: linestyle is redundantly defined by the 'linestyle' keyword argument and the fmt string \"x-\" (-> linestyle='-'). The keyword argument will take precedence.\n",
      "  ax.plot(t, wmd_most, 'x-', linestyle='-', color='g', label='TransBoostler WMD*')\n"
     ]
    },
    {
     "data": {
      "image/png": "[encoded data removed]",
      "text/plain": [
       "<Figure size 432x288 with 1 Axes>"
      ]
     },
     "metadata": {
      "needs_background": "light"
     },
     "output_type": "display_data"
    },
    {
     "data": {
      "text/markdown": [
       "# 8_twitter_yeast"
      ],
      "text/plain": [
       "<IPython.core.display.Markdown object>"
      ]
     },
     "metadata": {},
     "output_type": "display_data"
    },
    {
     "name": "stderr",
     "output_type": "stream",
     "text": [
      "<ipython-input-11-e49fade75ab6>:74: UserWarning: linestyle is redundantly defined by the 'linestyle' keyword argument and the fmt string \"x-\" (-> linestyle='-'). The keyword argument will take precedence.\n",
      "  ax.plot(t, wmd, 'x-', linestyle='-', color='k', label='TransBoostler WMD')\n",
      "<ipython-input-11-e49fade75ab6>:82: UserWarning: linestyle is redundantly defined by the 'linestyle' keyword argument and the fmt string \"x-\" (-> linestyle='-'). The keyword argument will take precedence.\n",
      "  ax.plot(t, wmd_most, 'x-', linestyle='-', color='g', label='TransBoostler WMD*')\n"
     ]
    },
    {
     "data": {
      "image/png": "[encoded data removed]",
      "text/plain": [
       "<Figure size 432x288 with 1 Axes>"
      ]
     },
     "metadata": {
      "needs_background": "light"
     },
     "output_type": "display_data"
    },
    {
     "data": {
      "text/markdown": [
       "# 9_nell_sports_nell_finances"
      ],
      "text/plain": [
       "<IPython.core.display.Markdown object>"
      ]
     },
     "metadata": {},
     "output_type": "display_data"
    },
    {
     "name": "stderr",
     "output_type": "stream",
     "text": [
      "<ipython-input-11-e49fade75ab6>:74: UserWarning: linestyle is redundantly defined by the 'linestyle' keyword argument and the fmt string \"x-\" (-> linestyle='-'). The keyword argument will take precedence.\n",
      "  ax.plot(t, wmd, 'x-', linestyle='-', color='k', label='TransBoostler WMD')\n",
      "<ipython-input-11-e49fade75ab6>:82: UserWarning: linestyle is redundantly defined by the 'linestyle' keyword argument and the fmt string \"x-\" (-> linestyle='-'). The keyword argument will take precedence.\n",
      "  ax.plot(t, wmd_most, 'x-', linestyle='-', color='g', label='TransBoostler WMD*')\n"
     ]
    },
    {
     "data": {
      "image/png": "[encoded data removed]",
      "text/plain": [
       "<Figure size 432x288 with 1 Axes>"
      ]
     },
     "metadata": {
      "needs_background": "light"
     },
     "output_type": "display_data"
    },
    {
     "data": {
      "text/markdown": [
       "# 10_nell_finances_nell_sports"
      ],
      "text/plain": [
       "<IPython.core.display.Markdown object>"
      ]
     },
     "metadata": {},
     "output_type": "display_data"
    },
    {
     "name": "stderr",
     "output_type": "stream",
     "text": [
      "<ipython-input-11-e49fade75ab6>:74: UserWarning: linestyle is redundantly defined by the 'linestyle' keyword argument and the fmt string \"x-\" (-> linestyle='-'). The keyword argument will take precedence.\n",
      "  ax.plot(t, wmd, 'x-', linestyle='-', color='k', label='TransBoostler WMD')\n",
      "<ipython-input-11-e49fade75ab6>:82: UserWarning: linestyle is redundantly defined by the 'linestyle' keyword argument and the fmt string \"x-\" (-> linestyle='-'). The keyword argument will take precedence.\n",
      "  ax.plot(t, wmd_most, 'x-', linestyle='-', color='g', label='TransBoostler WMD*')\n"
     ]
    },
    {
     "data": {
      "image/png": "[encoded data removed]",
      "text/plain": [
       "<Figure size 432x288 with 1 Axes>"
      ]
     },
     "metadata": {
      "needs_background": "light"
     },
     "output_type": "display_data"
    }
   ],
   "source": [
    "data_softcosine = load_data(experiments, 'softcosine', '/OLD-EXPERIMENTS/curves-experiments/')\n",
    "data_euclidean = load_data(experiments, 'euclidean', '/OLD-EXPERIMENTS/curves-experiments/')\n",
    "data_wmd = load_data(experiments, 'wmd', '/OLD-EXPERIMENTS/curves-experiments/')\n",
    "#data_rwmd = load_data(experiments, 'relax-wmd', '/OLD-EXPERIMENTS/transfer-experiments/')\n",
    "\n",
    "# Most similarity order\n",
    "data_softcosine_most = load_data(experiments, 'softcosine','/curves-experiments/')\n",
    "data_euclidean_most = load_data(experiments, 'euclidean','/curves-experiments/')\n",
    "data_wmd_most = load_data(experiments, 'wmd','/curves-experiments/')\n",
    "#data_rwmd_most = load_data(experiments, 'relax-wmd','/transfer-experiments/')\n",
    "\n",
    "for metric in ['AUC ROC', 'AUC PR']:\n",
    "    display(Markdown('# Results for ' + metric))\n",
    "    table = []\n",
    "    for j in range(len(experiments)):\n",
    "        dataset = experiments[j]['id'] + '_' + experiments[j]['source'] + '_' + experiments[j]['target']\n",
    "        if dataset in data_euclidean:\n",
    "            display(Markdown('# ' + dataset))\n",
    "            softcosine = []\n",
    "            cosine = []\n",
    "            euclidean = []\n",
    "            wmd = []\n",
    "            relax_wmd = []\n",
    "\n",
    "            softcosine_most = []\n",
    "            cosine = []\n",
    "            euclidean_most = []\n",
    "            wmd_most = []\n",
    "            relax_wmd = []\n",
    "            \n",
    "            tree = []\n",
    "            rdn_b_p = []\n",
    "            for amount in [0.2, 0.4, 0.6, 0.8, 1.0]:\n",
    "                mapping_time = ''\n",
    "                \n",
    "                #treeboostler = np.array([(np.array([item['transfer_'+str(amount)][metric] for item in sublist])).mean() for sublist in treeboostler_data[str(dataset)]])\n",
    "                #transfer_softcosine = np.array([(np.array([item['transfer_'+str(amount)][metric] for item in sublist])).mean() for sublist in data_softcosine[str(dataset)]])\n",
    "                #transfer_cosine = np.array(data[dataset]['cosine'][str(amount)][metric])\n",
    "                #transfer_euclidean = np.array([(np.array([item['transfer_'+str(amount)][metric] for item in sublist])).mean() for sublist in data_euclidean[str(dataset)]])\n",
    "                transfer_wmd = np.array([(np.array([item['transfer_'+str(amount)][metric] for item in sublist])).mean() for sublist in data_wmd[str(dataset)]])\n",
    "                #transfer_rwmd = np.array([(np.array([item['transfer_'+str(amount)][metric] for item in sublist])).mean() for sublist in data_rwmd[str(dataset)]])\n",
    "                #rdnb = np.array([(np.array([item['amount_'+str(amount)][metric] for item in sublist])).mean() for sublist in rdnb_data[str(dataset)]])\n",
    "                \n",
    "                #treeboostler = np.array([(np.array([item['transfer_'+str(amount)][metric] for item in sublist])).mean() for sublist in treeboostler_data[str(dataset)]])\n",
    "                #transfer_softcosine_most = np.array([(np.array([item['transfer_'+str(amount)][metric] for item in sublist])).mean() for sublist in data_softcosine_most[str(dataset)]])\n",
    "                #transfer_cosine = np.array(data[dataset]['cosine'][str(amount)][metric])\n",
    "                #transfer_euclidean_most = np.array([(np.array([item['transfer_'+str(amount)][metric] for item in sublist])).mean() for sublist in data_euclidean_most[str(dataset)]])\n",
    "                transfer_wmd_most = np.array([(np.array([item['transfer_'+str(amount)][metric] for item in sublist])).mean() for sublist in data_wmd_most[str(dataset)]])\n",
    "                #transfer_rwmd = np.array([(np.array([item['transfer_'+str(amount)][metric] for item in sublist])).mean() for sublist in data_rwmd[str(dataset)]])\n",
    "                #rdnb = np.array([(np.array([item['amount_'+str(amount)][metric] for item in sublist])).mean() for sublist in rdnb_data[str(dataset)]])\n",
    "                \n",
    "                #tree.append(treeboostler.mean())\n",
    "                #softcosine.append(transfer_softcosine.mean())\n",
    "                #cosine.append(transfer_cosine.mean())\n",
    "                #euclidean.append(transfer_euclidean.mean())\n",
    "                wmd.append(transfer_wmd.mean())\n",
    "                #relax_wmd.append(transfer_relax_wmd.mean())\n",
    "                #rdn_b_p.append(rdnb.mean())\n",
    "\n",
    "                #tree.append(treeboostler.mean())\n",
    "                #softcosine_most.append(transfer_softcosine_most.mean())\n",
    "                #cosine.append(transfer_cosine.mean())\n",
    "                #euclidean_most.append(transfer_euclidean_most.mean())\n",
    "                wmd_most.append(transfer_wmd_most.mean())\n",
    "                #relax_wmd.append(transfer_relax_wmd.mean())\n",
    "                #rdn_b_p.append(rdnb.mean())\n",
    "\n",
    "            t = [0.2, 0.4, 0.6, 0.8, 1.0]\n",
    "            fig, ax = plt.subplots()\n",
    "            #ax.plot(t, tree, 'd-', linestyle='dotted', color='k', label='TreeBoostler')\n",
    "            #ax.plot(t, cosine, 'D-', linestyle='-.', color='g', label='TransBoostler Cosine')\n",
    "            #ax.plot(t, euclidean, 's-', linestyle='--', color='k', label='TransBoostler Euclidean')\n",
    "            #ax.plot(t, softcosine, 's-', linestyle='--', color='k', label='TransBoostler SoftCosine')\n",
    "            ax.plot(t, wmd, 'x-', linestyle='-', color='k', label='TransBoostler WMD')\n",
    "            #ax.plot(t, relax_wmd, 'x-', linestyle='-', color='k', label='TransBoostler Relax-WMD')\n",
    "            #ax.plot(t, rdn_b_p, '8-', linestyle='-', color='k', label='RDN-B')\n",
    "\n",
    "            #ax.plot(t, tree, 'd-', linestyle='dotted', color='k', label='TreeBoostler')\n",
    "            #ax.plot(t, cosine, 'D-', linestyle='-.', color='g', label='TransBoostler Cosine')\n",
    "            #ax.plot(t, euclidean_most, 's-', linestyle='--', color='k', label='TransBoostler Euclidean*')\n",
    "            #ax.plot(t, softcosine_most, 's-', linestyle='--', color='k', label='TransBoostler SoftCosine*')\n",
    "            ax.plot(t, wmd_most, 'x-', linestyle='-', color='g', label='TransBoostler WMD*')\n",
    "            #ax.plot(t, relax_wmd_stop, 'x-', linestyle='-', color='k', label='TransBoostler Relax-WMD*')\n",
    "            #ax.plot(t, rdn_b_p, '8-', linestyle='-', color='k', label='RDN-B')\n",
    "\n",
    "\n",
    "            ax.set(xlabel='Proportion of training data', ylabel=metric)\n",
    "            ax.grid(linestyle = ':')\n",
    "            ax.legend(loc='upper left', fontsize='small', frameon=True)\n",
    "            plt.xticks(t,t)\n",
    "            plt.show()\n",
    "            \n",
    "            if not os.path.exists('learning_curves'):\n",
    "                os.makedirs('learning_curves')\n",
    "            fig.savefig(\"learning_curves/mappings_{}_{}_wmd.pdf\".format(dataset, '_'.join(metric.split())), bbox_inches='tight')"
   ]
  }
 ],
 "metadata": {
  "kernelspec": {
   "display_name": "Python 3",
   "language": "python",
   "name": "python3"
  },
  "language_info": {
   "codemirror_mode": {
    "name": "ipython",
    "version": 3
   },
   "file_extension": ".py",
   "mimetype": "text/x-python",
   "name": "python",
   "nbconvert_exporter": "python",
   "pygments_lexer": "ipython3",
   "version": "3.8.10"
  },
  "latex_envs": {
   "LaTeX_envs_menu_present": true,
   "autoclose": false,
   "autocomplete": true,
   "bibliofile": "biblio.bib",
   "cite_by": "apalike",
   "current_citInitial": 1,
   "eqLabelWithNumbers": true,
   "eqNumInitial": 1,
   "hotkeys": {
    "equation": "Ctrl-E",
    "itemize": "Ctrl-I"
   },
   "labels_anchors": false,
   "latex_user_defs": false,
   "report_style_numbering": false,
   "user_envs_cfg": false
  },
  "toc": {
   "base_numbering": 1,
   "nav_menu": {},
   "number_sections": true,
   "sideBar": true,
   "skip_h1_title": false,
   "title_cell": "Table of Contents",
   "title_sidebar": "Contents",
   "toc_cell": false,
   "toc_position": {},
   "toc_section_display": true,
   "toc_window_display": false
  },
  "varInspector": {
   "cols": {
    "lenName": 16,
    "lenType": 16,
    "lenVar": 40
   },
   "kernels_config": {
    "python": {
     "delete_cmd_postfix": "",
     "delete_cmd_prefix": "del ",
     "library": "var_list.py",
     "varRefreshCmd": "print(var_dic_list())"
    },
    "r": {
     "delete_cmd_postfix": ") ",
     "delete_cmd_prefix": "rm(",
     "library": "var_list.r",
     "varRefreshCmd": "cat(var_dic_list()) "
    }
   },
   "types_to_exclude": [
    "module",
    "function",
    "builtin_function_or_method",
    "instance",
    "_Feature"
   ],
   "window_display": false
  }
 },
 "nbformat": 4,
 "nbformat_minor": 5
}
