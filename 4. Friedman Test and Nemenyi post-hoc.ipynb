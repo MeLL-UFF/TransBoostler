{
 "cells": [
  {
   "cell_type": "code",
   "execution_count": 1,
   "id": "1a3beec2",
   "metadata": {},
   "outputs": [],
   "source": [
    "from IPython.display import display, Markdown, Latex\n",
    "import scikit_posthocs as sp\n",
    "from scipy import stats\n",
    "import numpy as np\n",
    "import os"
   ]
  },
  {
   "cell_type": "code",
   "execution_count": 2,
   "id": "d4a26209",
   "metadata": {},
   "outputs": [],
   "source": [
    "experiments = [\n",
    "            {'id': '1', 'source':'imdb', 'target':'uwcse', 'predicate':'workedunder', 'to_predicate':'advisedby', 'arity': 2},\n",
    "            #{'id': '2', 'source':'uwcse', 'target':'imdb', 'predicate':'advisedby', 'to_predicate':'workedunder', 'arity': 2},\n",
    "            {'id': '3', 'source':'imdb', 'target':'cora', 'predicate':'workedunder', 'to_predicate':'samevenue', 'arity': 2},\n",
    "            {'id': '4', 'source':'cora', 'target':'imdb', 'predicate':'samevenue', 'to_predicate':'workedunder', 'arity': 2},\n",
    "            ##{'id': '5', 'source':'uwcse', 'target':'cora', 'predicate':'advisedby', 'to_predicate':'samevenue', 'arity': 2},\n",
    "            ##{'id': '6', 'source':'cora', 'target':'uwcse', 'predicate':'samevenue', 'to_predicate':'advisedby', 'arity': 2},\n",
    "            {'id': '7', 'source':'yeast', 'target':'twitter', 'predicate':'proteinclass', 'to_predicate':'accounttype', 'arity': 2},\n",
    "            {'id': '8', 'source':'twitter', 'target':'yeast', 'predicate':'accounttype', 'to_predicate':'proteinclass', 'arity': 2},\n",
    "            {'id': '9', 'source':'nell_sports', 'target':'nell_finances', 'predicate':'teamplayssport', 'to_predicate':'companyeconomicsector', 'arity': 2},\n",
    "            #{'id': '10', 'source':'nell_finances', 'target':'nell_sports', 'predicate':'companyeconomicsector', 'to_predicate':'teamplayssport', 'arity': 2}\n",
    "]"
   ]
  },
  {
   "cell_type": "code",
   "execution_count": 3,
   "id": "692ebe46",
   "metadata": {},
   "outputs": [],
   "source": [
    "def load_data(experiments, metric, directory):\n",
    "    data = {}\n",
    "    for item in experiments:\n",
    "        experiment_title = item['id'] + '_' + item['source'] + '_' + item['target']\n",
    "        \n",
    "        if(metric != ''):\n",
    "            file_path = os.getcwd() + directory + experiment_title + '/' + experiment_title + '_fasttext_{}.json'.format(metric)\n",
    "        else:\n",
    "            file_path = os.getcwd() + directory + experiment_title + '/' + experiment_title + '.json'\n",
    "            \n",
    "        #if(os.path.isfile(file_path)):\n",
    "        with open(file_path, 'r') as fp:\n",
    "            results = json.load(fp)\n",
    "\n",
    "            data[experiment_title] = results\n",
    "    return data"
   ]
  },
  {
   "cell_type": "code",
   "execution_count": 5,
   "id": "f44ee70e",
   "metadata": {},
   "outputs": [],
   "source": [
    "path = f'/results/transfer/deep/w_stopwords/k_1/'\n",
    "data_softcosine = load_data(experiments, 'softcosine', path)\n",
    "data_euclidean = load_data(experiments, 'euclidean', path)\n",
    "data_wmd = load_data(experiments, 'wmd', path)\n",
    "\n",
    "path = f'/results/transfer/comites/'\n",
    "data_majority = load_data(experiments, 'majority_vote', path)\n",
    "data_borda = load_data(experiments, 'borda_count', path)\n",
    "\n",
    "baseline_path = f'/results/baselines/transfer/'\n",
    "treeboostler_data = load_data(experiments, '', baseline_path)\n",
    "rdnb_data = load_data(experiments, '', baseline_path + 'rdn_b/')"
   ]
  },
  {
   "cell_type": "code",
   "execution_count": 8,
   "id": "73daacbe",
   "metadata": {},
   "outputs": [
    {
     "data": {
      "text/markdown": [
       "## CLL"
      ],
      "text/plain": [
       "<IPython.core.display.Markdown object>"
      ]
     },
     "metadata": {},
     "output_type": "display_data"
    },
    {
     "name": "stdout",
     "output_type": "stream",
     "text": [
      "statistic 20.35714285714286 pvalue 0.002391700720826012\n",
      "          0         1         2         3         4         5         6\n",
      "0  1.000000  0.900000  0.900000  0.330001  0.499397  0.900000  0.900000\n",
      "1  0.900000  1.000000  0.900000  0.145271  0.257682  0.900000  0.900000\n",
      "2  0.900000  0.900000  1.000000  0.022747  0.051237  0.900000  0.735155\n",
      "3  0.330001  0.145271  0.022747  1.000000  0.900000  0.022747  0.578001\n",
      "4  0.499397  0.257682  0.051237  0.900000  1.000000  0.051237  0.735155\n",
      "5  0.900000  0.900000  0.900000  0.022747  0.051237  1.000000  0.735155\n",
      "6  0.900000  0.900000  0.735155  0.578001  0.735155  0.735155  1.000000\n"
     ]
    },
    {
     "data": {
      "text/markdown": [
       "## AUC ROC"
      ],
      "text/plain": [
       "<IPython.core.display.Markdown object>"
      ]
     },
     "metadata": {},
     "output_type": "display_data"
    },
    {
     "name": "stdout",
     "output_type": "stream",
     "text": [
      "statistic 14.674698795180722 pvalue 0.022943462292059316\n",
      "          0         1         2         3         4         5         6\n",
      "0  1.000000  0.900000  0.900000  0.105254  0.330001  0.900000  0.900000\n",
      "1  0.900000  1.000000  0.900000  0.088415  0.292768  0.900000  0.900000\n",
      "2  0.900000  0.900000  1.000000  0.124446  0.371034  0.900000  0.900000\n",
      "3  0.105254  0.088415  0.124446  1.000000  0.900000  0.371034  0.413910\n",
      "4  0.330001  0.292768  0.371034  0.900000  1.000000  0.695866  0.735155\n",
      "5  0.900000  0.900000  0.900000  0.371034  0.695866  1.000000  0.900000\n",
      "6  0.900000  0.900000  0.900000  0.413910  0.735155  0.900000  1.000000\n"
     ]
    },
    {
     "data": {
      "text/markdown": [
       "## AUC PR"
      ],
      "text/plain": [
       "<IPython.core.display.Markdown object>"
      ]
     },
     "metadata": {},
     "output_type": "display_data"
    },
    {
     "name": "stdout",
     "output_type": "stream",
     "text": [
      "statistic 6.578313253012048 pvalue 0.36160877835599053\n",
      "          0         1         2         3         4         5         6\n",
      "0  1.000000  0.900000  0.900000  0.413910  0.735155  0.900000  0.892309\n",
      "1  0.900000  1.000000  0.900000  0.457177  0.774446  0.900000  0.900000\n",
      "2  0.900000  0.900000  1.000000  0.774446  0.900000  0.900000  0.900000\n",
      "3  0.413910  0.457177  0.774446  1.000000  0.900000  0.853023  0.900000\n",
      "4  0.735155  0.774446  0.900000  0.900000  1.000000  0.900000  0.900000\n",
      "5  0.900000  0.900000  0.900000  0.853023  0.900000  1.000000  0.900000\n",
      "6  0.892309  0.900000  0.900000  0.900000  0.900000  0.900000  1.000000\n"
     ]
    }
   ],
   "source": [
    "for metric in ['CLL', 'AUC ROC', 'AUC PR']:\n",
    "    display(Markdown('## ' + metric))\n",
    "        \n",
    "    trans_softcosine,trans_euclidean,trans_wmd,trans_majority,trans_borda,tree,rdnb = [],[],[],[],[],[],[]\n",
    "\n",
    "    for j in range(len(experiments)):\n",
    "        dataset = experiments[j]['id'] + '_' + experiments[j]['source'] + '_' + experiments[j]['target']\n",
    "        \n",
    "        softcosine = np.array([(np.array([item['transfer'][metric] for item in sublist])).mean() for sublist in data_softcosine[str(dataset)]])\n",
    "        euclidean = np.array([(np.array([item['transfer'][metric] for item in sublist])).mean() for sublist in data_euclidean[str(dataset)]])\n",
    "        wmd = np.array([(np.array([item['transfer'][metric] for item in sublist])).mean() for sublist in data_wmd[str(dataset)]])\n",
    "        majority = np.array([(np.array([item['transfer']['parameter'][metric] for item in sublist])).mean() for sublist in data_majority[str(dataset)]])\n",
    "        borda = np.array([(np.array([item['transfer']['parameter'][metric] for item in sublist])).mean() for sublist in data_borda[str(dataset)]])\n",
    "        tb = np.array([(np.array([item['transfer']['parameter'][metric] for item in sublist])).mean() for sublist in treeboostler_data[str(dataset)]])\n",
    "        bs_rdn = np.array([(np.array([item['rdn-b'][metric] for item in sublist])).mean() for sublist in rdnb_data[str(dataset)]])\n",
    "        \n",
    "        trans_softcosine.append(softcosine.mean())\n",
    "        trans_euclidean.append(euclidean.mean())\n",
    "        trans_wmd.append(wmd.mean())\n",
    "        trans_majority.append(majority.mean())\n",
    "        trans_borda.append(borda.mean())\n",
    "        tree.append(tb.mean())\n",
    "        rdnb.append(bs_rdn.mean())\n",
    "        \n",
    "    #perform Friedman Test\n",
    "    statistic, pvalue = stats.friedmanchisquare(trans_softcosine, trans_euclidean, trans_wmd, trans_majority, trans_borda, tree, rdnb)\n",
    "    print('statistic', statistic, 'pvalue', pvalue)\n",
    "    \n",
    "    #combine three groups into one array\n",
    "    data = np.array([trans_softcosine, trans_euclidean, trans_wmd, trans_majority, trans_borda, tree, rdnb])\n",
    "\n",
    "    #perform Nemenyi post-hoc test\n",
    "    print(sp.posthoc_nemenyi_friedman(data.T))"
   ]
  },
  {
   "cell_type": "code",
   "execution_count": 9,
   "id": "5e453ca5",
   "metadata": {},
   "outputs": [
    {
     "data": {
      "text/plain": [
       "[0.28384660000000006,\n",
       " 0.4642054,\n",
       " 1.0,\n",
       " 0.381729,\n",
       " 0.16886660714285714,\n",
       " 0.08692955555555555]"
      ]
     },
     "execution_count": 9,
     "metadata": {},
     "output_type": "execute_result"
    }
   ],
   "source": [
    "trans_softcosine"
   ]
  }
 ],
 "metadata": {
  "kernelspec": {
   "display_name": "Python 3",
   "language": "python",
   "name": "python3"
  },
  "language_info": {
   "codemirror_mode": {
    "name": "ipython",
    "version": 3
   },
   "file_extension": ".py",
   "mimetype": "text/x-python",
   "name": "python",
   "nbconvert_exporter": "python",
   "pygments_lexer": "ipython3",
   "version": "3.8.10"
  },
  "latex_envs": {
   "LaTeX_envs_menu_present": true,
   "autoclose": false,
   "autocomplete": true,
   "bibliofile": "biblio.bib",
   "cite_by": "apalike",
   "current_citInitial": 1,
   "eqLabelWithNumbers": true,
   "eqNumInitial": 1,
   "hotkeys": {
    "equation": "Ctrl-E",
    "itemize": "Ctrl-I"
   },
   "labels_anchors": false,
   "latex_user_defs": false,
   "report_style_numbering": false,
   "user_envs_cfg": false
  },
  "toc": {
   "base_numbering": 1,
   "nav_menu": {},
   "number_sections": true,
   "sideBar": true,
   "skip_h1_title": false,
   "title_cell": "Table of Contents",
   "title_sidebar": "Contents",
   "toc_cell": false,
   "toc_position": {},
   "toc_section_display": true,
   "toc_window_display": false
  },
  "varInspector": {
   "cols": {
    "lenName": 16,
    "lenType": 16,
    "lenVar": 40
   },
   "kernels_config": {
    "python": {
     "delete_cmd_postfix": "",
     "delete_cmd_prefix": "del ",
     "library": "var_list.py",
     "varRefreshCmd": "print(var_dic_list())"
    },
    "r": {
     "delete_cmd_postfix": ") ",
     "delete_cmd_prefix": "rm(",
     "library": "var_list.r",
     "varRefreshCmd": "cat(var_dic_list()) "
    }
   },
   "types_to_exclude": [
    "module",
    "function",
    "builtin_function_or_method",
    "instance",
    "_Feature"
   ],
   "window_display": false
  }
 },
 "nbformat": 4,
 "nbformat_minor": 5
}
