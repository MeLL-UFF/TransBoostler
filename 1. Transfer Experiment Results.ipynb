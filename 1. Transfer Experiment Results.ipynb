{
 "cells": [
  {
   "cell_type": "code",
   "execution_count": 1,
   "id": "303f00ef",
   "metadata": {},
   "outputs": [],
   "source": [
    "from IPython.display import display, Markdown, Latex\n",
    "import pandas as pd\n",
    "import numpy as np\n",
    "import json\n",
    "import os"
   ]
  },
  {
   "cell_type": "markdown",
   "id": "d6cba9ad",
   "metadata": {},
   "source": [
    "## Experiments and Functions"
   ]
  },
  {
   "cell_type": "code",
   "execution_count": 2,
   "id": "a786b77a",
   "metadata": {},
   "outputs": [],
   "source": [
    "experiments = [\n",
    "            {'id': '1', 'source':'imdb', 'target':'uwcse', 'predicate':'workedunder', 'to_predicate':'advisedby', 'arity': 2},\n",
    "            #{'id': '2', 'source':'uwcse', 'target':'imdb', 'predicate':'advisedby', 'to_predicate':'workedunder', 'arity': 2},\n",
    "            {'id': '3', 'source':'imdb', 'target':'cora', 'predicate':'workedunder', 'to_predicate':'samevenue', 'arity': 2},\n",
    "            #{'id': '4', 'source':'cora', 'target':'imdb', 'predicate':'samevenue', 'to_predicate':'workedunder', 'arity': 2},\n",
    "            ##{'id': '5', 'source':'cora', 'target':'imdb', 'predicate':'sametitle', 'to_predicate':'workedunder', 'arity': 2},\n",
    "            ##{'id': '6', 'source':'imdb', 'target':'cora', 'predicate':'workedunder', 'to_predicate':'sametitle', 'arity': 2},\n",
    "            ##{'id': '5', 'source':'uwcse', 'target':'cora', 'predicate':'advisedby', 'to_predicate':'samevenue', 'arity': 2},\n",
    "            ##{'id': '6', 'source':'cora', 'target':'uwcse', 'predicate':'samevenue', 'to_predicate':'advisedby', 'arity': 2},\n",
    "            {'id': '7', 'source':'yeast', 'target':'twitter', 'predicate':'proteinclass', 'to_predicate':'accounttype', 'arity': 2},\n",
    "            #{'id': '8', 'source':'twitter', 'target':'yeast', 'predicate':'accounttype', 'to_predicate':'proteinclass', 'arity': 2},\n",
    "            {'id': '9', 'source':'nell_sports', 'target':'nell_finances', 'predicate':'teamplayssport', 'to_predicate':'companyeconomicsector', 'arity': 2},\n",
    "            {'id': '10', 'source':'nell_finances', 'target':'nell_sports', 'predicate':'companyeconomicsector', 'to_predicate':'teamplayssport', 'arity': 2},\n",
    "]"
   ]
  },
  {
   "cell_type": "code",
   "execution_count": 3,
   "id": "6bdf7717",
   "metadata": {},
   "outputs": [],
   "source": [
    "def load_data(experiments, metric, directory):\n",
    "    data = {}\n",
    "    for item in experiments:\n",
    "        experiment_title = item['id'] + '_' + item['source'] + '_' + item['target']\n",
    "        \n",
    "        if(metric != ''):\n",
    "            file_path = os.getcwd() + directory + experiment_title + '/' + experiment_title + '_fasttext_{}.json'.format(metric)\n",
    "        else:\n",
    "            file_path = os.getcwd() + directory + experiment_title + '/' + experiment_title + '.json'\n",
    "        try:\n",
    "            with open(file_path, 'r') as fp:\n",
    "                results = json.load(fp)\n",
    "\n",
    "                data[experiment_title] = results\n",
    "        except:\n",
    "            continue\n",
    "    return data"
   ]
  },
  {
   "cell_type": "code",
   "execution_count": 4,
   "id": "9e361566",
   "metadata": {},
   "outputs": [],
   "source": [
    "def converte_dataframe_latex(dt):\n",
    "    for j in range(len(experiments)):\n",
    "        dataset = experiments[j]['id'] + '_' + experiments[j]['source'] + '_' + experiments[j]['target']"
   ]
  },
  {
   "cell_type": "markdown",
   "id": "5c469c69",
   "metadata": {},
   "source": [
    "## Estudo dos Mapeamentos"
   ]
  },
  {
   "cell_type": "markdown",
   "id": "039ee19f",
   "metadata": {},
   "source": [
    "### Depth-First Mapping"
   ]
  },
  {
   "cell_type": "code",
   "execution_count": 5,
   "id": "9c36d515",
   "metadata": {},
   "outputs": [],
   "source": [
    "# Setting paths parameters\n",
    "mapping_order = 'comites'\n",
    "k = 1\n",
    "compare_stopwords = False\n",
    "\n",
    "#Removing Yeast and Twitter pair of experiments because there is no stopwords in predicates\n",
    "#exp = experiments.copy()\n",
    "#exp.remove({'id': '7', 'source':'yeast', 'target':'twitter', 'predicate':'proteinclass', 'to_predicate':'accounttype', 'arity': 2})\n",
    "#exp.remove({'id': '8', 'source':'twitter', 'target':'yeast', 'predicate':'accounttype', 'to_predicate':'proteinclass', 'arity': 2})"
   ]
  },
  {
   "cell_type": "code",
   "execution_count": 9,
   "id": "3fe988c0",
   "metadata": {},
   "outputs": [
    {
     "data": {
      "text/markdown": [
       "# Results for 1_imdb_uwcse"
      ],
      "text/plain": [
       "<IPython.core.display.Markdown object>"
      ]
     },
     "metadata": {},
     "output_type": "display_data"
    },
    {
     "name": "stdout",
     "output_type": "stream",
     "text": [
      "\\begin{tabular}{llllll}\n",
      "\\toprule\n",
      "                          &     CLL & AUC ROC & AUC PR & Learning time & Mapping time \\\\\n",
      "\\midrule\n",
      "   TransBoostler Majority & -0.254  &  0.938  & 0.270  &        6.134  &       0.037  \\\\\n",
      "TransBoostler Borda Count & -0.252  &  0.934  & 0.273  &       27.401  &      21.370  \\\\\n",
      "\\bottomrule\n",
      "\\end{tabular}\n",
      "\n"
     ]
    },
    {
     "data": {
      "text/markdown": [
       "# Results for 3_imdb_cora"
      ],
      "text/plain": [
       "<IPython.core.display.Markdown object>"
      ]
     },
     "metadata": {},
     "output_type": "display_data"
    },
    {
     "name": "stdout",
     "output_type": "stream",
     "text": [
      "\\begin{tabular}{llllll}\n",
      "\\toprule\n",
      "                          &     CLL & AUC ROC & AUC PR & Learning time & Mapping time \\\\\n",
      "\\midrule\n",
      "   TransBoostler Majority & -0.678  &  0.589  & 0.453  &       72.344  &      20.970  \\\\\n",
      "TransBoostler Borda Count & -0.673  &  0.599  & 0.462  &       71.718  &      20.968  \\\\\n",
      "\\bottomrule\n",
      "\\end{tabular}\n",
      "\n"
     ]
    },
    {
     "data": {
      "text/markdown": [
       "# Results for 7_yeast_twitter"
      ],
      "text/plain": [
       "<IPython.core.display.Markdown object>"
      ]
     },
     "metadata": {},
     "output_type": "display_data"
    },
    {
     "name": "stdout",
     "output_type": "stream",
     "text": [
      "\\begin{tabular}{llllll}\n",
      "\\toprule\n",
      "                          &     CLL & AUC ROC & AUC PR & Learning time & Mapping time \\\\\n",
      "\\midrule\n",
      "   TransBoostler Majority & -0.102  &  0.994  & 0.367  &       70.755  &      27.651  \\\\\n",
      "TransBoostler Borda Count & -0.088  &  0.995  & 0.459  &       98.872  &      27.647  \\\\\n",
      "\\bottomrule\n",
      "\\end{tabular}\n",
      "\n"
     ]
    },
    {
     "data": {
      "text/markdown": [
       "# Results for 9_nell_sports_nell_finances"
      ],
      "text/plain": [
       "<IPython.core.display.Markdown object>"
      ]
     },
     "metadata": {},
     "output_type": "display_data"
    },
    {
     "name": "stdout",
     "output_type": "stream",
     "text": [
      "\\begin{tabular}{llllll}\n",
      "\\toprule\n",
      "                          &     CLL & AUC ROC & AUC PR & Learning time & Mapping time \\\\\n",
      "\\midrule\n",
      "   TransBoostler Majority & -0.318  &  0.753  & 0.077  &       51.716  &       0.178  \\\\\n",
      "TransBoostler Borda Count & -0.329  &  0.720  & 0.069  &       87.488  &      39.271  \\\\\n",
      "\\bottomrule\n",
      "\\end{tabular}\n",
      "\n"
     ]
    },
    {
     "data": {
      "text/markdown": [
       "# Results for 10_nell_finances_nell_sports"
      ],
      "text/plain": [
       "<IPython.core.display.Markdown object>"
      ]
     },
     "metadata": {},
     "output_type": "display_data"
    },
    {
     "name": "stdout",
     "output_type": "stream",
     "text": [
      "\\begin{tabular}{llllll}\n",
      "\\toprule\n",
      "                          &     CLL & AUC ROC & AUC PR & Learning time & Mapping time \\\\\n",
      "\\midrule\n",
      "   TransBoostler Majority & -0.085  &  0.993  & 0.291  &      276.388  &      42.718  \\\\\n",
      "TransBoostler Borda Count & -0.147  &  0.991  & 0.219  &       80.204  &       0.165  \\\\\n",
      "\\bottomrule\n",
      "\\end{tabular}\n",
      "\n"
     ]
    }
   ],
   "source": [
    "# Using stopwords\n",
    "path = f'/results/transfer/{mapping_order}/'\n",
    "#data_softcosine_stopwords = load_data(experiments, 'softcosine', path)\n",
    "#data_euclidean_stopwords = load_data(experiments, 'euclidean', path)\n",
    "#data_wmd_stopwords = load_data(experiments, 'wmd', path)\n",
    "#data_rwmd_stopwords = load_data(experiments, 'relax-wmd', path)\n",
    "\n",
    "data_majority_stopwords = load_data(experiments, 'majority_vote', path)\n",
    "data_borda_stopwords = load_data(experiments, 'borda_count', path)\n",
    "\n",
    "if compare_stopwords:\n",
    "    # Removing stopwords\n",
    "    path = f'/results/transfer/{mapping_order}/no_stopwords/k_{k}/'\n",
    "    data_softcosine_no_stopwords = load_data(experiments, 'softcosine', path)\n",
    "    data_euclidean_no_stopwords = load_data(experiments, 'euclidean', path)\n",
    "    data_wmd_no_stopwords = load_data(experiments, 'wmd', path)\n",
    "    data_rwmd_no_stopwords = load_data(experiments, 'relax-wmd', path)\n",
    "\n",
    "treeboostler_path = f'/results/baselines/transfer/'\n",
    "#treeboostler_data = load_data(experiments, '', treeboostler_path)\n",
    "#rdnb_data = load_data(experiments, '', treeboostler_path + '/rdn_b/')\n",
    "\n",
    "to_latex = {}\n",
    "\n",
    "for metric in ['CLL', 'AUC ROC', 'AUC PR', 'Learning time', 'Mapping time']: #, 'Recall', 'F1', 'Precision', 'Learning and Revision time', 'Inference time']:\n",
    "    #display(Markdown('# Results for ' + metric))\n",
    "    table = []\n",
    "    for j in range(len(experiments)):\n",
    "            \n",
    "        dataset = experiments[j]['id'] + '_' + experiments[j]['source'] + '_' + experiments[j]['target']\n",
    "        if dataset in data_majority_stopwords:\n",
    "            mapping_time = ''\n",
    "            results_using_stopwords = {}\n",
    "            results_removing_stopwords = {}\n",
    "            \n",
    "            if metric == 'Mapping time':\n",
    "                #results_using_stopwords['softcosine'] = np.array([(np.array([item['transfer'][metric] for item in sublist])).mean() for sublist in data_softcosine_stopwords[str(dataset)]])\n",
    "                #results_using_stopwords['euclidean'] = np.array([(np.array([item['transfer'][metric] for item in sublist])).mean() for sublist in data_euclidean_stopwords[str(dataset)]])\n",
    "                #results_using_stopwords['wmd'] = np.array([(np.array([item['transfer'][metric] for item in sublist])).mean() for sublist in data_wmd_stopwords[str(dataset)]])\n",
    "                #results_using_stopwords['relax-wmd'] = np.array([(np.array([item['transfer'][metric] for item in sublist])).mean() for sublist in data_rwmd_stopwords[str(dataset)]])\n",
    "\n",
    "                results_using_stopwords['majority_vote'] = np.array([(np.array([item['transfer'][metric] for item in sublist])).mean() for sublist in data_majority_stopwords[str(dataset)]])\n",
    "                results_using_stopwords['borda_count'] = np.array([(np.array([item['transfer'][metric] for item in sublist])).mean() for sublist in data_borda_stopwords[str(dataset)]])\n",
    "\n",
    "            else:\n",
    "                # Results using Stopwords\n",
    "                #results_using_stopwords['softcosine'] = np.array([(np.array([item['transfer']['parameter'][metric] for item in sublist])).mean() for sublist in data_softcosine_stopwords[str(dataset)]])\n",
    "                #results_using_stopwords['euclidean'] = np.array([(np.array([item['transfer']['parameter'][metric] for item in sublist])).mean() for sublist in data_euclidean_stopwords[str(dataset)]])\n",
    "                #results_using_stopwords['wmd'] = np.array([(np.array([item['transfer']['parameter'][metric] for item in sublist])).mean() for sublist in data_wmd_stopwords[str(dataset)]])\n",
    "                #results_using_stopwords['relax-wmd'] = np.array([(np.array([item['transfer']['parameter'][metric] for item in sublist])).mean() for sublist in data_rwmd_stopwords[str(dataset)]])\n",
    "\n",
    "                results_using_stopwords['majority_vote'] = np.array([(np.array([item['transfer'][metric] for item in sublist])).mean() for sublist in data_majority_stopwords[str(dataset)]])\n",
    "                results_using_stopwords['borda_count'] = np.array([(np.array([item['transfer'][metric] for item in sublist])).mean() for sublist in data_borda_stopwords[str(dataset)]])\n",
    "                \n",
    "            #results_using_stopwords['softcosine no revision'] = np.array([(np.array([item['transfer']['parameter'][metric] for item in sublist])).mean() for sublist in data_softcosine_stopwords[str(dataset)]])\n",
    "            #results_using_stopwords['euclidean no revision'] = np.array([(np.array([item['transfer']['parameter'][metric] for item in sublist])).mean() for sublist in data_euclidean_stopwords[str(dataset)]])\n",
    "            #results_using_stopwords['wmd no revision'] = np.array([(np.array([item['transfer']['parameter'][metric] for item in sublist])).mean() for sublist in data_wmd_stopwords[str(dataset)]])\n",
    "            #results_using_stopwords['relax-wmd no revision'] = np.array([(np.array([item['transfer']['parameter'][metric] for item in sublist])).mean() for sublist in data_rwmd_stopwords[str(dataset)]])\n",
    "\n",
    "            if compare_stopwords:\n",
    "                # Results removing stopwords\n",
    "                results_removing_stopwords['softcosine'] = np.array([(np.array([item['transfer'][metric] for item in sublist])).mean() for sublist in data_softcosine_no_stopwords[str(dataset)]])\n",
    "                results_removing_stopwords['euclidean'] = np.array([(np.array([item['transfer'][metric] for item in sublist])).mean() for sublist in data_euclidean_no_stopwords[str(dataset)]])\n",
    "                results_removing_stopwords['wmd'] = np.array([(np.array([item['transfer'][metric] for item in sublist])).mean() for sublist in data_wmd_no_stopwords[str(dataset)]])\n",
    "                results_removing_stopwords['relax-wmd'] = np.array([(np.array([item['transfer'][metric] for item in sublist])).mean() for sublist in data_rwmd_no_stopwords[str(dataset)]])\n",
    "\n",
    "            #if(experiments[j]['id'] != '10'):\n",
    "                #treeboostler = np.array([(np.array([item['transfer'][metric] for item in sublist])).mean() for sublist in treeboostler_data[str(dataset)]])\n",
    "                #treeboostler_no_revision = np.array([(np.array([item['transfer']['parameter'][metric] for item in sublist])).mean() for sublist in treeboostler_data[str(dataset)]])\n",
    "                #print(treeboostler)\n",
    "            #rdnb = np.array([(np.array([item['rdn-b'][metric] for item in sublist])).mean() for sublist in rdnb_data[str(dataset)]])\n",
    "            \n",
    "#             if(experiments[j]['id'] != '10'):\n",
    "#                 table.append([dataset,\n",
    "#                 #'%.3f +/- %.3f' % (rdnb.mean(), 2 * rdnb.std()),\n",
    "#                 #'%.3f +/- %.3f' % (treeboostler.mean(), 2 * treeboostler.std()),\n",
    "#                 '%.3f +/- %.3f' % (results_using_stopwords['softcosine'].mean(), 2 * results_using_stopwords['softcosine'].std()),\n",
    "#                 '%.3f +/- %.3f' % (results_using_stopwords['euclidean'].mean(), 2 * results_using_stopwords['euclidean'].std()),\n",
    "#                 '%.3f +/- %.3f' % (results_using_stopwords['wmd'].mean(), 2 * results_using_stopwords['wmd'].std()),\n",
    "#                 '%.3f +/- %.3f' % (results_using_stopwords['relax-wmd'].mean(), 2 * results_using_stopwords['relax-wmd'].std()),\n",
    "#                              ])\n",
    "#             else:\n",
    "#                 table.append([dataset,\n",
    "#                 #'%.3f +/- %.3f' % (rdnb.mean(), 2 * rdnb.std()),\n",
    "#                 #'NaN +/- NaN',\n",
    "#                 '%.3f +/- %.3f' % (results_using_stopwords['softcosine'].mean(), 2 * results_using_stopwords['softcosine'].std()),\n",
    "#                 '%.3f +/- %.3f' % (results_using_stopwords['euclidean'].mean(), 2 * results_using_stopwords['euclidean'].std()),\n",
    "#                 '%.3f +/- %.3f' % (results_using_stopwords['wmd'].mean(), 2 * results_using_stopwords['wmd'].std()),\n",
    "#                 '%.3f +/- %.3f' % (results_using_stopwords['relax-wmd'].mean(), 2 * results_using_stopwords['relax-wmd'].std()),\n",
    "#               ])\n",
    "\n",
    "            if(experiments[j]['id'] != '10'):\n",
    "                table.append([dataset,\n",
    "                #'%.3f' % (rdnb.mean()),\n",
    "                #'%.3f' % (treeboostler.mean()),\n",
    "                #'%.3f ' % (results_using_stopwords['softcosine'].mean()),\n",
    "                #'%.3f ' % (results_using_stopwords['euclidean'].mean()),\n",
    "                #'%.3f ' % (results_using_stopwords['wmd'].mean()),\n",
    "                #'%.3f ' % (results_using_stopwords['relax-wmd'].mean()),\n",
    "                              \n",
    "                '%.3f ' % (results_using_stopwords['majority_vote'].mean()),\n",
    "                '%.3f ' % (results_using_stopwords['borda_count'].mean()),\n",
    "                             ])\n",
    "            else:\n",
    "                table.append([dataset,\n",
    "                #'%.3f' % (rdnb.mean(), 2 * rdnb.std()),\n",
    "                #'NaN',\n",
    "                #'%.3f' % (results_using_stopwords['softcosine'].mean()),\n",
    "                #'%.3f' % (results_using_stopwords['euclidean'].mean()),\n",
    "                #'%.3f' % (results_using_stopwords['wmd'].mean()),\n",
    "                #'%.3f' % (results_using_stopwords['relax-wmd'].mean()),\n",
    "                              \n",
    "                '%.3f ' % (results_using_stopwords['majority_vote'].mean()),\n",
    "                '%.3f ' % (results_using_stopwords['borda_count'].mean()),\n",
    "              ])\n",
    "            \n",
    "            #table.append(['', '', '', '', '', '', ''])\n",
    "           \n",
    "            if(experiments[j]['id'] != '10' and compare_stopwords):\n",
    "                table.append([dataset + '*',\n",
    "                #'%.3f +/- %.3f' % (rdnb.mean(), 2 * rdnb.std()),\n",
    "                #'%.3f +/- %.3f' % (treeboostler.mean(), 2 * treeboostler.std()),              \n",
    "                #'%.3f +/- %.3f' % (results_removing_stopwords['softcosine'].mean(), 2 * results_removing_stopwords['softcosine'].std()),\n",
    "                #'%.3f +/- %.3f' % (results_removing_stopwords['euclidean'].mean(), 2 * results_removing_stopwords['euclidean'].std()),\n",
    "                #'%.3f +/- %.3f' % (results_removing_stopwords['wmd'].mean(), 2 * results_removing_stopwords['wmd'].std()),\n",
    "                #'%.3f +/- %.3f' % (results_removing_stopwords['relax-wmd'].mean(), 2 * results_removing_stopwords['relax-wmd'].std()),\n",
    "                              \n",
    "                '%.3f +/- %.3f' % (results_removing_stopwords['majority_vote'].mean(), 2 * results_removing_stopwords['majority_vote'].std()),\n",
    "                '%.3f +/- %.3f' % (results_removing_stopwords['borda_count'].mean(), 2 * results_removing_stopwords['borda_count'].std()),    \n",
    "                             ])\n",
    "            elif(compare_stopwords):\n",
    "                table.append([dataset + '*',\n",
    "                #'%.3f +/- %.3f' % (rdnb.mean(), 2 * rdnb.std()),\n",
    "                #'NaN +/- NaN',\n",
    "                '%.3f +/- %.3f' % (results_removing_stopwords['softcosine'].mean(), 2 * results_removing_stopwords['softcosine'].std()),\n",
    "                '%.3f +/- %.3f' % (results_removing_stopwords['euclidean'].mean(), 2 * results_removing_stopwords['euclidean'].std()),\n",
    "                '%.3f +/- %.3f' % (results_removing_stopwords['wmd'].mean(), 2 * results_removing_stopwords['wmd'].std()),\n",
    "                '%.3f +/- %.3f' % (results_removing_stopwords['relax-wmd'].mean(), 2 * results_removing_stopwords['relax-wmd'].std()),\n",
    "                             ])\n",
    "\n",
    "            \n",
    "            # No Revision\n",
    "            #table.append([dataset + '_NR',\n",
    "            #    '%.3f +/- %.3f' % (results_using_stopwords['softcosine no revision'].mean(), 2 * results_using_stopwords['softcosine'].std()),\n",
    "            #    '%.3f +/- %.3f' % (results_using_stopwords['euclidean no revision'].mean(), 2 * results_using_stopwords['euclidean'].std()),\n",
    "            #    '%.3f +/- %.3f' % (results_using_stopwords['wmd no revision'].mean(), 2 * results_using_stopwords['wmd'].std()),\n",
    "            #    '%.3f +/- %.3f' % (results_using_stopwords['relax-wmd no revision'].mean(), 2 * results_using_stopwords['relax-wmd'].std()),\n",
    "            #    '%.3f +/- %.3f' % (treeboostler_no_revision.mean(), 2 * treeboostler_no_revision.std()),\n",
    "            #    '%.3f +/- %.3f' % (rdnb.mean(), 2 * rdnb.std()),\n",
    "            #])\n",
    "            #table.append(['', '', '', '', '', '', ''])\n",
    "\n",
    "    #display(pd.DataFrame(table, columns=['Experiment', 'RDN-B'])) #, 'Transfer Learning with Revision Theory - Relax WMD'])) #, 'Learning from scratch (RDN-B)']))\n",
    "   #display(pd.DataFrame(table, columns=['Experiment', 'RDN-B'])) #, 'Transfer Learning with Revision Theory - Relax WMD'])) #, 'Learning from scratch (RDN-B)']))\n",
    "    #dt = pd.DataFrame(table, columns=['Experiment', 'Transfer Learning - Soft Cosine', 'Transfer Learning - Euclidean', 'Transfer Learning - WMD', 'Transfer Learning - RWMD']) #, 'Learning from scratch (RDN-B)']))\n",
    "    dt = pd.DataFrame(table, columns=['Experiment', 'Transfer Learning - Majority', 'Transfer Learning - Borda'])\n",
    "    #display(pd.DataFrame(table, columns=['Experiment', 'Transfer Learning', 'Transfer Learning with Revision Theory']))\n",
    "\n",
    "    for j in range(len(experiments)):\n",
    "        dataset = experiments[j]['id'] + '_' + experiments[j]['source'] + '_' + experiments[j]['target']\n",
    "        \n",
    "        if dataset not in to_latex:\n",
    "            to_latex[dataset] = {}\n",
    "        try:\n",
    "            to_latex[dataset][metric] = dt.set_index('Experiment').T.reset_index()[dataset].to_list()\n",
    "        except:\n",
    "            pass\n",
    "        \n",
    "for experiment in to_latex:\n",
    "    if to_latex[experiment]:\n",
    "        display(Markdown('# Results for ' + experiment))\n",
    "        #to_latex[experiment][''] = ['TransBoostler Soft Cosine', 'TransBoostler Euclidean', 'TransBoostler WMD', 'TransBoostler RWMD']\n",
    "        to_latex[experiment][''] = ['TransBoostler Majority', 'TransBoostler Borda Count']\n",
    "        print(pd.DataFrame(to_latex[experiment], columns=['', 'CLL', 'AUC ROC', 'AUC PR', 'Learning time', 'Mapping time']).to_latex(index=False))"
   ]
  },
  {
   "cell_type": "markdown",
   "id": "682f26f0",
   "metadata": {
    "heading_collapsed": true
   },
   "source": [
    "### Ranked-First Mapping"
   ]
  },
  {
   "cell_type": "code",
   "execution_count": 8,
   "id": "d95ec0b0",
   "metadata": {
    "hidden": true
   },
   "outputs": [],
   "source": [
    "# Setting paths parameters\n",
    "mapping_order = 'most_similar'\n",
    "k = '2'\n",
    "method = f'k_{k}/'\n",
    "#method='hungaro/'\n",
    "\n",
    "compare_stopwords = False"
   ]
  },
  {
   "cell_type": "code",
   "execution_count": 10,
   "id": "c6e0e801",
   "metadata": {
    "hidden": true
   },
   "outputs": [
    {
     "data": {
      "text/markdown": [
       "# Results for 7_yeast_twitter"
      ],
      "text/plain": [
       "<IPython.core.display.Markdown object>"
      ]
     },
     "metadata": {},
     "output_type": "display_data"
    },
    {
     "name": "stdout",
     "output_type": "stream",
     "text": [
      "\\begin{tabular}{lllll}\n",
      "\\toprule\n",
      "                          &     CLL & AUC ROC & AUC PR & Learning time \\\\\n",
      "\\midrule\n",
      "TransBoostler Soft Cosine & -0.103  &  0.994  & 0.352  &       48.894  \\\\\n",
      "  TransBoostler Euclidean & -0.105  &  0.994  & 0.386  &       49.004  \\\\\n",
      "        TransBoostler WMD & -0.101  &  0.994  & 0.399  &       49.680  \\\\\n",
      "       TransBoostler RWMD & -0.106  &  0.993  & 0.353  &       51.108  \\\\\n",
      "\\bottomrule\n",
      "\\end{tabular}\n",
      "\n"
     ]
    }
   ],
   "source": [
    "# Using stopwords\n",
    "path = f'/results/transfer/{mapping_order}/w_stopwords/{method}'\n",
    "data_softcosine_stopwords = load_data(experiments, 'softcosine', path)\n",
    "data_euclidean_stopwords = load_data(experiments, 'euclidean', path)\n",
    "data_wmd_stopwords = load_data(experiments, 'wmd', path)\n",
    "data_rwmd_stopwords = load_data(experiments, 'relax-wmd', path)\n",
    "\n",
    "if compare_stopwords:\n",
    "    # Removing stopwords\n",
    "    path = f'/results/transfer/{mapping_order}/no_stopwords/k_{k}/'\n",
    "    data_softcosine_no_stopwords = load_data(experiments, 'softcosine', path)\n",
    "    data_euclidean_no_stopwords = load_data(experiments, 'euclidean', path)\n",
    "    data_wmd_no_stopwords = load_data(experiments, 'wmd', path)\n",
    "    data_rwmd_no_stopwords = load_data(experiments, 'relax-wmd', path)\n",
    "\n",
    "treeboostler_path = f'/results/baselines/transfer/'\n",
    "treeboostler_data = load_data(experiments, '', treeboostler_path)\n",
    "rdnb_data = load_data(experiments, '', treeboostler_path + '/rdn_b/')\n",
    "\n",
    "to_latex = {}\n",
    "\n",
    "for metric in ['CLL', 'AUC ROC', 'AUC PR', 'Learning time', 'Mapping time']: #, 'Recall', 'F1', 'Precision', 'Learning and Revision time', 'Inference time']:\n",
    "    #display(Markdown('# Results for ' + metric))\n",
    "    table = []\n",
    "    for j in range(len(experiments)):\n",
    "            \n",
    "        dataset = experiments[j]['id'] + '_' + experiments[j]['source'] + '_' + experiments[j]['target']\n",
    "        if dataset in data_wmd_stopwords:\n",
    "            mapping_time = ''\n",
    "            results_using_stopwords = {}\n",
    "            results_removing_stopwords = {}\n",
    "            \n",
    "            if metric == 'Mapping time':\n",
    "                results_using_stopwords['softcosine'] = np.array([(np.array([item['transfer'][metric] for item in sublist])).mean() for sublist in data_softcosine_stopwords[str(dataset)]])\n",
    "                results_using_stopwords['euclidean'] = np.array([(np.array([item['transfer'][metric] for item in sublist])).mean() for sublist in data_euclidean_stopwords[str(dataset)]])\n",
    "                results_using_stopwords['wmd'] = np.array([(np.array([item['transfer'][metric] for item in sublist])).mean() for sublist in data_wmd_stopwords[str(dataset)]])\n",
    "                results_using_stopwords['relax-wmd'] = np.array([(np.array([item['transfer'][metric] for item in sublist])).mean() for sublist in data_rwmd_stopwords[str(dataset)]])\n",
    "            else:\n",
    "                # Results using Stopwords\n",
    "                results_using_stopwords['softcosine'] = np.array([(np.array([item['transfer'][metric] for item in sublist])).mean() for sublist in data_softcosine_stopwords[str(dataset)]])\n",
    "                results_using_stopwords['euclidean'] = np.array([(np.array([item['transfer'][metric] for item in sublist])).mean() for sublist in data_euclidean_stopwords[str(dataset)]])\n",
    "                results_using_stopwords['wmd'] = np.array([(np.array([item['transfer'][metric] for item in sublist])).mean() for sublist in data_wmd_stopwords[str(dataset)]])\n",
    "                results_using_stopwords['relax-wmd'] = np.array([(np.array([item['transfer'][metric] for item in sublist])).mean() for sublist in data_rwmd_stopwords[str(dataset)]])\n",
    "\n",
    "            #results_using_stopwords['softcosine no revision'] = np.array([(np.array([item['transfer']['parameter'][metric] for item in sublist])).mean() for sublist in data_softcosine_stopwords[str(dataset)]])\n",
    "            #results_using_stopwords['euclidean no revision'] = np.array([(np.array([item['transfer']['parameter'][metric] for item in sublist])).mean() for sublist in data_euclidean_stopwords[str(dataset)]])\n",
    "            #results_using_stopwords['wmd no revision'] = np.array([(np.array([item['transfer']['parameter'][metric] for item in sublist])).mean() for sublist in data_wmd_stopwords[str(dataset)]])\n",
    "            #results_using_stopwords['relax-wmd no revision'] = np.array([(np.array([item['transfer']['parameter'][metric] for item in sublist])).mean() for sublist in data_rwmd_stopwords[str(dataset)]])\n",
    "\n",
    "            if compare_stopwords:\n",
    "                # Results removing stopwords\n",
    "                results_removing_stopwords['softcosine'] = np.array([(np.array([item['transfer'][metric] for item in sublist])).mean() for sublist in data_softcosine_no_stopwords[str(dataset)]])\n",
    "                results_removing_stopwords['euclidean'] = np.array([(np.array([item['transfer'][metric] for item in sublist])).mean() for sublist in data_euclidean_no_stopwords[str(dataset)]])\n",
    "                results_removing_stopwords['wmd'] = np.array([(np.array([item['transfer'][metric] for item in sublist])).mean() for sublist in data_wmd_no_stopwords[str(dataset)]])\n",
    "                results_removing_stopwords['relax-wmd'] = np.array([(np.array([item['transfer'][metric] for item in sublist])).mean() for sublist in data_rwmd_no_stopwords[str(dataset)]])\n",
    "\n",
    "            #if(experiments[j]['id'] != '10'):\n",
    "                #treeboostler = np.array([(np.array([item['transfer'][metric] for item in sublist])).mean() for sublist in treeboostler_data[str(dataset)]])\n",
    "                #treeboostler_no_revision = np.array([(np.array([item['transfer']['parameter'][metric] for item in sublist])).mean() for sublist in treeboostler_data[str(dataset)]])\n",
    "                #print(treeboostler)\n",
    "            #rdnb = np.array([(np.array([item['rdn-b'][metric] for item in sublist])).mean() for sublist in rdnb_data[str(dataset)]])\n",
    "            \n",
    "                        #if(experiments[j]['id'] != '10'):\n",
    "                #treeboostler = np.array([(np.array([item['transfer'][metric] for item in sublist])).mean() for sublist in treeboostler_data[str(dataset)]])\n",
    "                #treeboostler_no_revision = np.array([(np.array([item['transfer']['parameter'][metric] for item in sublist])).mean() for sublist in treeboostler_data[str(dataset)]])\n",
    "                #print(treeboostler)\n",
    "            #rdnb = np.array([(np.array([item['rdn-b'][metric] for item in sublist])).mean() for sublist in rdnb_data[str(dataset)]])\n",
    "            \n",
    "#             if(experiments[j]['id'] != '10'):\n",
    "#                 table.append([dataset,\n",
    "#                 #'%.3f +/- %.3f' % (rdnb.mean(), 2 * rdnb.std()),\n",
    "#                 #'%.3f +/- %.3f' % (treeboostler.mean(), 2 * treeboostler.std()),\n",
    "#                 '%.3f +/- %.3f' % (results_using_stopwords['softcosine'].mean(), 2 * results_using_stopwords['softcosine'].std()),\n",
    "#                 '%.3f +/- %.3f' % (results_using_stopwords['euclidean'].mean(), 2 * results_using_stopwords['euclidean'].std()),\n",
    "#                 '%.3f +/- %.3f' % (results_using_stopwords['wmd'].mean(), 2 * results_using_stopwords['wmd'].std()),\n",
    "#                 '%.3f +/- %.3f' % (results_using_stopwords['relax-wmd'].mean(), 2 * results_using_stopwords['relax-wmd'].std()),\n",
    "#                              ])\n",
    "#             else:\n",
    "#                 table.append([dataset,\n",
    "#                 #'%.3f +/- %.3f' % (rdnb.mean(), 2 * rdnb.std()),\n",
    "#                 #'NaN +/- NaN',\n",
    "#                 '%.3f +/- %.3f' % (results_using_stopwords['softcosine'].mean(), 2 * results_using_stopwords['softcosine'].std()),\n",
    "#                 '%.3f +/- %.3f' % (results_using_stopwords['euclidean'].mean(), 2 * results_using_stopwords['euclidean'].std()),\n",
    "#                 '%.3f +/- %.3f' % (results_using_stopwords['wmd'].mean(), 2 * results_using_stopwords['wmd'].std()),\n",
    "#                 '%.3f +/- %.3f' % (results_using_stopwords['relax-wmd'].mean(), 2 * results_using_stopwords['relax-wmd'].std()),\n",
    "#               ])\n",
    "\n",
    "            \n",
    "\n",
    "            if(experiments[j]['id'] != '10'):\n",
    "                table.append([dataset,\n",
    "                #'%.3f' % (rdnb.mean()),\n",
    "                #'%.3f' % (treeboostler.mean()),\n",
    "                '%.3f ' % (results_using_stopwords['softcosine'].mean()),\n",
    "                '%.3f ' % (results_using_stopwords['euclidean'].mean()),\n",
    "                '%.3f ' % (results_using_stopwords['wmd'].mean()),\n",
    "                '%.3f ' % (results_using_stopwords['relax-wmd'].mean()),\n",
    "                             ])\n",
    "            else:\n",
    "                table.append([dataset,\n",
    "                #'%.3f' % (rdnb.mean(), 2 * rdnb.std()),\n",
    "                #'NaN',\n",
    "                '%.3f' % (results_using_stopwords['softcosine'].mean()),\n",
    "                '%.3f' % (results_using_stopwords['euclidean'].mean()),\n",
    "                '%.3f' % (results_using_stopwords['wmd'].mean()),\n",
    "                '%.3f' % (results_using_stopwords['relax-wmd'].mean()),\n",
    "              ])\n",
    "            \n",
    "            #table.append(['', '', '', '', '', '', ''])\n",
    "           \n",
    "            if(experiments[j]['id'] != '10' and compare_stopwords):\n",
    "                table.append([dataset + '*',\n",
    "                #'%.3f +/- %.3f' % (rdnb.mean(), 2 * rdnb.std()),\n",
    "                #'%.3f +/- %.3f' % (treeboostler.mean(), 2 * treeboostler.std()),              \n",
    "                '%.3f +/- %.3f' % (results_removing_stopwords['softcosine'].mean(), 2 * results_removing_stopwords['softcosine'].std()),\n",
    "                '%.3f +/- %.3f' % (results_removing_stopwords['euclidean'].mean(), 2 * results_removing_stopwords['euclidean'].std()),\n",
    "                '%.3f +/- %.3f' % (results_removing_stopwords['wmd'].mean(), 2 * results_removing_stopwords['wmd'].std()),\n",
    "                '%.3f +/- %.3f' % (results_removing_stopwords['relax-wmd'].mean(), 2 * results_removing_stopwords['relax-wmd'].std()),                \n",
    "                             ])\n",
    "            elif(compare_stopwords):\n",
    "                table.append([dataset + '*',\n",
    "                #'%.3f +/- %.3f' % (rdnb.mean(), 2 * rdnb.std()),\n",
    "                #'NaN +/- NaN',\n",
    "                '%.3f +/- %.3f' % (results_removing_stopwords['softcosine'].mean(), 2 * results_removing_stopwords['softcosine'].std()),\n",
    "                '%.3f +/- %.3f' % (results_removing_stopwords['euclidean'].mean(), 2 * results_removing_stopwords['euclidean'].std()),\n",
    "                '%.3f +/- %.3f' % (results_removing_stopwords['wmd'].mean(), 2 * results_removing_stopwords['wmd'].std()),\n",
    "                '%.3f +/- %.3f' % (results_removing_stopwords['relax-wmd'].mean(), 2 * results_removing_stopwords['relax-wmd'].std()),\n",
    "                             ])\n",
    "            \n",
    "            #table.append(['', '', '', '', '', '', ''])\n",
    "           \n",
    "            if(experiments[j]['id'] != '10' and compare_stopwords):\n",
    "                table.append([dataset + '*',\n",
    "                #'%.3f +/- %.3f' % (rdnb.mean(), 2 * rdnb.std()),\n",
    "                #'%.3f +/- %.3f' % (treeboostler.mean(), 2 * treeboostler.std()),              \n",
    "                '%.3f +/- %.3f' % (results_removing_stopwords['softcosine'].mean(), 2 * results_removing_stopwords['softcosine'].std()),\n",
    "                '%.3f +/- %.3f' % (results_removing_stopwords['euclidean'].mean(), 2 * results_removing_stopwords['euclidean'].std()),\n",
    "                '%.3f +/- %.3f' % (results_removing_stopwords['wmd'].mean(), 2 * results_removing_stopwords['wmd'].std()),\n",
    "                '%.3f +/- %.3f' % (results_removing_stopwords['relax-wmd'].mean(), 2 * results_removing_stopwords['relax-wmd'].std()),                \n",
    "                             ])\n",
    "            elif(compare_stopwords):\n",
    "                table.append([dataset + '*',\n",
    "                #'%.3f +/- %.3f' % (rdnb.mean(), 2 * rdnb.std()),\n",
    "                #'NaN +/- NaN',\n",
    "                '%.3f +/- %.3f' % (results_removing_stopwords['softcosine'].mean(), 2 * results_removing_stopwords['softcosine'].std()),\n",
    "                '%.3f +/- %.3f' % (results_removing_stopwords['euclidean'].mean(), 2 * results_removing_stopwords['euclidean'].std()),\n",
    "                '%.3f +/- %.3f' % (results_removing_stopwords['wmd'].mean(), 2 * results_removing_stopwords['wmd'].std()),\n",
    "                '%.3f +/- %.3f' % (results_removing_stopwords['relax-wmd'].mean(), 2 * results_removing_stopwords['relax-wmd'].std()),\n",
    "                             ])\n",
    "            \n",
    "            # No Revision\n",
    "            #table.append([dataset + '_NR',\n",
    "            #    '%.3f +/- %.3f' % (results_using_stopwords['softcosine no revision'].mean(), 2 * results_using_stopwords['softcosine'].std()),\n",
    "            #    '%.3f +/- %.3f' % (results_using_stopwords['euclidean no revision'].mean(), 2 * results_using_stopwords['euclidean'].std()),\n",
    "            #    '%.3f +/- %.3f' % (results_using_stopwords['wmd no revision'].mean(), 2 * results_using_stopwords['wmd'].std()),\n",
    "            #    '%.3f +/- %.3f' % (results_using_stopwords['relax-wmd no revision'].mean(), 2 * results_using_stopwords['relax-wmd'].std()),\n",
    "            #    '%.3f +/- %.3f' % (treeboostler_no_revision.mean(), 2 * treeboostler_no_revision.std()),\n",
    "            #    '%.3f +/- %.3f' % (rdnb.mean(), 2 * rdnb.std()),\n",
    "            #])\n",
    "            #table.append(['', '', '', '', '', '', ''])\n",
    "\n",
    "    #display(pd.DataFrame(table, columns=['Experiment', 'RDN-B'])) #, 'Transfer Learning with Revision Theory - Relax WMD'])) #, 'Learning from scratch (RDN-B)']))\n",
    "    dt = pd.DataFrame(table, columns=['Experiment', 'Transfer Learning - Soft Cosine', 'Transfer Learning - Euclidean', 'Transfer Learning - WMD', 'Transfer Learning - RWMD']) #, 'Learning from scratch (RDN-B)']))\n",
    "    #display(pd.DataFrame(table, columns=['Experiment', 'Transfer Learning', 'Transfer Learning with Revision Theory']))\n",
    "\n",
    "    for j in range(len(experiments)):\n",
    "        dataset = experiments[j]['id'] + '_' + experiments[j]['source'] + '_' + experiments[j]['target']\n",
    "        \n",
    "        if dataset not in to_latex:\n",
    "            to_latex[dataset] = {}\n",
    "        try:\n",
    "            to_latex[dataset][metric] = dt.set_index('Experiment').T.reset_index()[dataset].to_list()\n",
    "        except:\n",
    "            pass\n",
    "        \n",
    "for experiment in to_latex:\n",
    "    if to_latex[experiment]:\n",
    "        display(Markdown('# Results for ' + experiment))\n",
    "        to_latex[experiment][''] = ['TransBoostler Soft Cosine', 'TransBoostler Euclidean', 'TransBoostler WMD', 'TransBoostler RWMD']\n",
    "        print(pd.DataFrame(to_latex[experiment], columns=['', 'CLL', 'AUC ROC', 'AUC PR', 'Learning time']).to_latex(index=False))"
   ]
  }
 ],
 "metadata": {
  "kernelspec": {
   "display_name": "Python 3",
   "language": "python",
   "name": "python3"
  },
  "language_info": {
   "codemirror_mode": {
    "name": "ipython",
    "version": 3
   },
   "file_extension": ".py",
   "mimetype": "text/x-python",
   "name": "python",
   "nbconvert_exporter": "python",
   "pygments_lexer": "ipython3",
   "version": "3.8.10"
  },
  "latex_envs": {
   "LaTeX_envs_menu_present": true,
   "autoclose": false,
   "autocomplete": true,
   "bibliofile": "biblio.bib",
   "cite_by": "apalike",
   "current_citInitial": 1,
   "eqLabelWithNumbers": true,
   "eqNumInitial": 1,
   "hotkeys": {
    "equation": "Ctrl-E",
    "itemize": "Ctrl-I"
   },
   "labels_anchors": false,
   "latex_user_defs": false,
   "report_style_numbering": false,
   "user_envs_cfg": false
  },
  "toc": {
   "base_numbering": 1,
   "nav_menu": {},
   "number_sections": true,
   "sideBar": true,
   "skip_h1_title": false,
   "title_cell": "Table of Contents",
   "title_sidebar": "Contents",
   "toc_cell": false,
   "toc_position": {},
   "toc_section_display": true,
   "toc_window_display": false
  },
  "varInspector": {
   "cols": {
    "lenName": 16,
    "lenType": 16,
    "lenVar": 40
   },
   "kernels_config": {
    "python": {
     "delete_cmd_postfix": "",
     "delete_cmd_prefix": "del ",
     "library": "var_list.py",
     "varRefreshCmd": "print(var_dic_list())"
    },
    "r": {
     "delete_cmd_postfix": ") ",
     "delete_cmd_prefix": "rm(",
     "library": "var_list.r",
     "varRefreshCmd": "cat(var_dic_list()) "
    }
   },
   "types_to_exclude": [
    "module",
    "function",
    "builtin_function_or_method",
    "instance",
    "_Feature"
   ],
   "window_display": false
  }
 },
 "nbformat": 4,
 "nbformat_minor": 5
}
