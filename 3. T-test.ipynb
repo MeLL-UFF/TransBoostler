{
 "cells": [
  {
   "cell_type": "code",
   "execution_count": 6,
   "id": "0b807fb6",
   "metadata": {},
   "outputs": [],
   "source": [
    "import matplotlib.pyplot as plt\n",
    "from IPython.display import display, Markdown, Latex\n",
    "import numpy as np\n",
    "import json\n",
    "import pandas as pd\n",
    "from scipy import stats\n",
    "import os"
   ]
  },
  {
   "cell_type": "markdown",
   "id": "3ae9b85a",
   "metadata": {},
   "source": [
    "# Experiments and Functions"
   ]
  },
  {
   "cell_type": "code",
   "execution_count": 7,
   "id": "b8f1f19d",
   "metadata": {},
   "outputs": [],
   "source": [
    "experiments = [\n",
    "            {'id': '1', 'source':'imdb', 'target':'uwcse', 'predicate':'workedunder', 'to_predicate':'advisedby', 'arity': 2},\n",
    "            #{'id': '2', 'source':'uwcse', 'target':'imdb', 'predicate':'advisedby', 'to_predicate':'workedunder', 'arity': 2},\n",
    "            {'id': '3', 'source':'imdb', 'target':'cora', 'predicate':'workedunder', 'to_predicate':'samevenue', 'arity': 2},\n",
    "            {'id': '4', 'source':'cora', 'target':'imdb', 'predicate':'samevenue', 'to_predicate':'workedunder', 'arity': 2},\n",
    "            ##{'id': '5', 'source':'uwcse', 'target':'cora', 'predicate':'advisedby', 'to_predicate':'samevenue', 'arity': 2},\n",
    "            ##{'id': '6', 'source':'cora', 'target':'uwcse', 'predicate':'samevenue', 'to_predicate':'advisedby', 'arity': 2},\n",
    "            {'id': '7', 'source':'yeast', 'target':'twitter', 'predicate':'proteinclass', 'to_predicate':'accounttype', 'arity': 2},\n",
    "            {'id': '8', 'source':'twitter', 'target':'yeast', 'predicate':'accounttype', 'to_predicate':'proteinclass', 'arity': 2},\n",
    "            {'id': '9', 'source':'nell_sports', 'target':'nell_finances', 'predicate':'teamplayssport', 'to_predicate':'companyeconomicsector', 'arity': 2},\n",
    "            #{'id': '10', 'source':'nell_finances', 'target':'nell_sports', 'predicate':'companyeconomicsector', 'to_predicate':'teamplayssport', 'arity': 2}\n",
    "]"
   ]
  },
  {
   "cell_type": "code",
   "execution_count": 8,
   "id": "d4f599fc",
   "metadata": {},
   "outputs": [],
   "source": [
    "def load_data(experiments, metric, directory):\n",
    "    data = {}\n",
    "    for item in experiments:\n",
    "        experiment_title = item['id'] + '_' + item['source'] + '_' + item['target']\n",
    "        \n",
    "        if(metric != ''):\n",
    "            file_path = os.getcwd() + directory + experiment_title + '/' + experiment_title + '_fasttext_{}.json'.format(metric)\n",
    "        else:\n",
    "            file_path = os.getcwd() + directory + experiment_title + '/' + experiment_title + '.json'\n",
    "            \n",
    "        #if(os.path.isfile(file_path)):\n",
    "        with open(file_path, 'r') as fp:\n",
    "            results = json.load(fp)\n",
    "\n",
    "            data[experiment_title] = results\n",
    "    return data"
   ]
  },
  {
   "cell_type": "markdown",
   "id": "dac34ab2",
   "metadata": {},
   "source": [
    "# Estudo dos Mapeamentos"
   ]
  },
  {
   "cell_type": "markdown",
   "id": "16b79997",
   "metadata": {},
   "source": [
    "## Depth-First Mapping"
   ]
  },
  {
   "cell_type": "code",
   "execution_count": 9,
   "id": "720e52d8",
   "metadata": {},
   "outputs": [],
   "source": [
    "# Setting paths parameters\n",
    "mapping_order = 'deep'\n",
    "k = 1\n",
    "compare_stopwords = False\n",
    "\n",
    "#Removing Yeast and Twitter pair of experiments because there is no stopwords in predicates\n",
    "#exp = experiments.copy()\n",
    "#exp.remove({'id': '7', 'source':'yeast', 'target':'twitter', 'predicate':'proteinclass', 'to_predicate':'accounttype', 'arity': 2})\n",
    "#exp.remove({'id': '8', 'source':'twitter', 'target':'yeast', 'predicate':'accounttype', 'to_predicate':'proteinclass', 'arity': 2})"
   ]
  },
  {
   "cell_type": "code",
   "execution_count": 16,
   "id": "801301b5",
   "metadata": {},
   "outputs": [
    {
     "data": {
      "text/markdown": [
       "# Results for 1_imdb_uwcse"
      ],
      "text/plain": [
       "<IPython.core.display.Markdown object>"
      ]
     },
     "metadata": {},
     "output_type": "display_data"
    },
    {
     "data": {
      "text/markdown": [
       "## AUC ROC"
      ],
      "text/plain": [
       "<IPython.core.display.Markdown object>"
      ]
     },
     "metadata": {},
     "output_type": "display_data"
    },
    {
     "data": {
      "text/html": [
       "<div>\n",
       "<style scoped>\n",
       "    .dataframe tbody tr th:only-of-type {\n",
       "        vertical-align: middle;\n",
       "    }\n",
       "\n",
       "    .dataframe tbody tr th {\n",
       "        vertical-align: top;\n",
       "    }\n",
       "\n",
       "    .dataframe thead th {\n",
       "        text-align: right;\n",
       "    }\n",
       "</style>\n",
       "<table border=\"1\" class=\"dataframe\">\n",
       "  <thead>\n",
       "    <tr style=\"text-align: right;\">\n",
       "      <th></th>\n",
       "      <th>p-value</th>\n",
       "      <th>TreeBoostler</th>\n",
       "      <th>RDN-B</th>\n",
       "    </tr>\n",
       "  </thead>\n",
       "  <tbody>\n",
       "    <tr>\n",
       "      <th>0</th>\n",
       "      <td>TransBoostler Soft Cosine</td>\n",
       "      <td>0.580</td>\n",
       "      <td>0.853</td>\n",
       "    </tr>\n",
       "    <tr>\n",
       "      <th>1</th>\n",
       "      <td>TransBoostler Euclidean</td>\n",
       "      <td>0.328</td>\n",
       "      <td>0.058</td>\n",
       "    </tr>\n",
       "    <tr>\n",
       "      <th>2</th>\n",
       "      <td>TransBoostler WMD</td>\n",
       "      <td>0.654</td>\n",
       "      <td>0.461</td>\n",
       "    </tr>\n",
       "    <tr>\n",
       "      <th>3</th>\n",
       "      <td>TransBoostler* Soft Cosine</td>\n",
       "      <td>0.000</td>\n",
       "      <td>0.000</td>\n",
       "    </tr>\n",
       "    <tr>\n",
       "      <th>4</th>\n",
       "      <td>TransBoostler* Euclidean</td>\n",
       "      <td>0.374</td>\n",
       "      <td>0.846</td>\n",
       "    </tr>\n",
       "    <tr>\n",
       "      <th>5</th>\n",
       "      <td>TransBoostler* WMD</td>\n",
       "      <td>0.016</td>\n",
       "      <td>0.012</td>\n",
       "    </tr>\n",
       "  </tbody>\n",
       "</table>\n",
       "</div>"
      ],
      "text/plain": [
       "                      p-value TreeBoostler  RDN-B\n",
       "0   TransBoostler Soft Cosine        0.580  0.853\n",
       "1     TransBoostler Euclidean        0.328  0.058\n",
       "2           TransBoostler WMD        0.654  0.461\n",
       "3  TransBoostler* Soft Cosine        0.000  0.000\n",
       "4    TransBoostler* Euclidean        0.374  0.846\n",
       "5          TransBoostler* WMD        0.016  0.012"
      ]
     },
     "metadata": {},
     "output_type": "display_data"
    },
    {
     "name": "stdout",
     "output_type": "stream",
     "text": [
      "TransBoostler Soft Cosine 0.945976,0.94275,0.907476,0.955596,0.924661\n",
      "TransBoostler Euclidean 0.951531,0.943754,0.937167,0.954448,0.947994\n",
      "TransBoostler WMD 0.952244,0.940502,0.904213,0.944886,0.942951\n",
      "TreeBoostler 0.935982,0.947314,0.906262,0.953218,0.953771\n",
      "TransBoostler* Soft Cosine 0.609051,0.608882,0.608826,0.608066,0.607124\n",
      "TransBoostler* Euclidean 0.935982,0.932863,0.937167,0.936897,0.937621\n",
      "TransBoostler* WMD 0.908168,0.903558,0.904213,0.907372,0.905865\n",
      "TreeBoostler* 0.935982,0.932863,0.904213,0.936897,0.937621\n",
      "RDN-B 0.940612,0.942783,0.9075,0.945827,0.936214\n"
     ]
    },
    {
     "data": {
      "text/markdown": [
       "## AUC PR"
      ],
      "text/plain": [
       "<IPython.core.display.Markdown object>"
      ]
     },
     "metadata": {},
     "output_type": "display_data"
    },
    {
     "data": {
      "text/html": [
       "<div>\n",
       "<style scoped>\n",
       "    .dataframe tbody tr th:only-of-type {\n",
       "        vertical-align: middle;\n",
       "    }\n",
       "\n",
       "    .dataframe tbody tr th {\n",
       "        vertical-align: top;\n",
       "    }\n",
       "\n",
       "    .dataframe thead th {\n",
       "        text-align: right;\n",
       "    }\n",
       "</style>\n",
       "<table border=\"1\" class=\"dataframe\">\n",
       "  <thead>\n",
       "    <tr style=\"text-align: right;\">\n",
       "      <th></th>\n",
       "      <th>p-value</th>\n",
       "      <th>TreeBoostler</th>\n",
       "      <th>RDN-B</th>\n",
       "    </tr>\n",
       "  </thead>\n",
       "  <tbody>\n",
       "    <tr>\n",
       "      <th>0</th>\n",
       "      <td>TransBoostler Soft Cosine</td>\n",
       "      <td>0.358</td>\n",
       "      <td>0.607</td>\n",
       "    </tr>\n",
       "    <tr>\n",
       "      <th>1</th>\n",
       "      <td>TransBoostler Euclidean</td>\n",
       "      <td>0.567</td>\n",
       "      <td>0.253</td>\n",
       "    </tr>\n",
       "    <tr>\n",
       "      <th>2</th>\n",
       "      <td>TransBoostler WMD</td>\n",
       "      <td>0.197</td>\n",
       "      <td>0.425</td>\n",
       "    </tr>\n",
       "    <tr>\n",
       "      <th>3</th>\n",
       "      <td>TransBoostler* Soft Cosine</td>\n",
       "      <td>0.004</td>\n",
       "      <td>0.008</td>\n",
       "    </tr>\n",
       "    <tr>\n",
       "      <th>4</th>\n",
       "      <td>TransBoostler* Euclidean</td>\n",
       "      <td>0.374</td>\n",
       "      <td>0.147</td>\n",
       "    </tr>\n",
       "    <tr>\n",
       "      <th>5</th>\n",
       "      <td>TransBoostler* WMD</td>\n",
       "      <td>0.017</td>\n",
       "      <td>0.032</td>\n",
       "    </tr>\n",
       "  </tbody>\n",
       "</table>\n",
       "</div>"
      ],
      "text/plain": [
       "                      p-value TreeBoostler  RDN-B\n",
       "0   TransBoostler Soft Cosine        0.358  0.607\n",
       "1     TransBoostler Euclidean        0.567  0.253\n",
       "2           TransBoostler WMD        0.197  0.425\n",
       "3  TransBoostler* Soft Cosine        0.004  0.008\n",
       "4    TransBoostler* Euclidean        0.374  0.147\n",
       "5          TransBoostler* WMD        0.017  0.032"
      ]
     },
     "metadata": {},
     "output_type": "display_data"
    },
    {
     "name": "stdout",
     "output_type": "stream",
     "text": [
      "TransBoostler Soft Cosine 0.379856,0.22204,0.128119,0.394117,0.155049\n",
      "TransBoostler Euclidean 0.364907,0.188008,0.332468,0.407714,0.35268\n",
      "TransBoostler WMD 0.398059,0.230446,0.119816,0.269813,0.192683\n",
      "TreeBoostler 0.358428,0.27346,0.123013,0.38341,0.356006\n",
      "TransBoostler* Soft Cosine 0.042185,0.030825,0.032258,0.037897,0.032003\n",
      "TransBoostler* Euclidean 0.358428,0.29479,0.332468,0.369816,0.323785\n",
      "TransBoostler* WMD 0.157895,0.114251,0.119816,0.142857,0.12125\n",
      "TreeBoostler* 0.358428,0.29479,0.119816,0.369816,0.323785\n",
      "RDN-B 0.360879,0.253424,0.128146,0.375088,0.197004\n"
     ]
    },
    {
     "data": {
      "text/markdown": [
       "## CLL"
      ],
      "text/plain": [
       "<IPython.core.display.Markdown object>"
      ]
     },
     "metadata": {},
     "output_type": "display_data"
    },
    {
     "data": {
      "text/html": [
       "<div>\n",
       "<style scoped>\n",
       "    .dataframe tbody tr th:only-of-type {\n",
       "        vertical-align: middle;\n",
       "    }\n",
       "\n",
       "    .dataframe tbody tr th {\n",
       "        vertical-align: top;\n",
       "    }\n",
       "\n",
       "    .dataframe thead th {\n",
       "        text-align: right;\n",
       "    }\n",
       "</style>\n",
       "<table border=\"1\" class=\"dataframe\">\n",
       "  <thead>\n",
       "    <tr style=\"text-align: right;\">\n",
       "      <th></th>\n",
       "      <th>p-value</th>\n",
       "      <th>TreeBoostler</th>\n",
       "      <th>RDN-B</th>\n",
       "    </tr>\n",
       "  </thead>\n",
       "  <tbody>\n",
       "    <tr>\n",
       "      <th>0</th>\n",
       "      <td>TransBoostler Soft Cosine</td>\n",
       "      <td>0.130</td>\n",
       "      <td>0.606</td>\n",
       "    </tr>\n",
       "    <tr>\n",
       "      <th>1</th>\n",
       "      <td>TransBoostler Euclidean</td>\n",
       "      <td>0.502</td>\n",
       "      <td>0.074</td>\n",
       "    </tr>\n",
       "    <tr>\n",
       "      <th>2</th>\n",
       "      <td>TransBoostler WMD</td>\n",
       "      <td>0.092</td>\n",
       "      <td>0.253</td>\n",
       "    </tr>\n",
       "    <tr>\n",
       "      <th>3</th>\n",
       "      <td>TransBoostler* Soft Cosine</td>\n",
       "      <td>0.025</td>\n",
       "      <td>0.079</td>\n",
       "    </tr>\n",
       "    <tr>\n",
       "      <th>4</th>\n",
       "      <td>TransBoostler* Euclidean</td>\n",
       "      <td>0.228</td>\n",
       "      <td>0.709</td>\n",
       "    </tr>\n",
       "    <tr>\n",
       "      <th>5</th>\n",
       "      <td>TransBoostler* WMD</td>\n",
       "      <td>0.038</td>\n",
       "      <td>0.662</td>\n",
       "    </tr>\n",
       "  </tbody>\n",
       "</table>\n",
       "</div>"
      ],
      "text/plain": [
       "                      p-value TreeBoostler  RDN-B\n",
       "0   TransBoostler Soft Cosine        0.130  0.606\n",
       "1     TransBoostler Euclidean        0.502  0.074\n",
       "2           TransBoostler WMD        0.092  0.253\n",
       "3  TransBoostler* Soft Cosine        0.025  0.079\n",
       "4    TransBoostler* Euclidean        0.228  0.709\n",
       "5          TransBoostler* WMD        0.038  0.662"
      ]
     },
     "metadata": {},
     "output_type": "display_data"
    },
    {
     "name": "stdout",
     "output_type": "stream",
     "text": [
      "TransBoostler Soft Cosine -0.194727,-0.251041,-0.397451,-0.23231,-0.272779\n",
      "TransBoostler Euclidean -0.22244,-0.233387,-0.355679,-0.201178,-0.19109\n",
      "TransBoostler WMD -0.214206,-0.251002,-0.336558,-0.235517,-0.232669\n",
      "TreeBoostler -0.216489,-0.218869,-0.335134,-0.21617,-0.193923\n",
      "TransBoostler* Soft Cosine -0.377604,-0.37445,-0.336406,-0.392236,-0.428628\n",
      "TransBoostler* Euclidean -0.230493,-0.268023,-0.355679,-0.233967,-0.25232\n",
      "TransBoostler* WMD -0.250244,-0.297439,-0.336558,-0.276169,-0.261905\n",
      "TreeBoostler* -0.216489,-0.263659,-0.34369,-0.245463,-0.233507\n",
      "RDN-B -0.216812,-0.241554,-0.411338,-0.242269,-0.256583\n"
     ]
    },
    {
     "data": {
      "text/markdown": [
       "# Results for 3_imdb_cora"
      ],
      "text/plain": [
       "<IPython.core.display.Markdown object>"
      ]
     },
     "metadata": {},
     "output_type": "display_data"
    },
    {
     "data": {
      "text/markdown": [
       "## AUC ROC"
      ],
      "text/plain": [
       "<IPython.core.display.Markdown object>"
      ]
     },
     "metadata": {},
     "output_type": "display_data"
    },
    {
     "data": {
      "text/html": [
       "<div>\n",
       "<style scoped>\n",
       "    .dataframe tbody tr th:only-of-type {\n",
       "        vertical-align: middle;\n",
       "    }\n",
       "\n",
       "    .dataframe tbody tr th {\n",
       "        vertical-align: top;\n",
       "    }\n",
       "\n",
       "    .dataframe thead th {\n",
       "        text-align: right;\n",
       "    }\n",
       "</style>\n",
       "<table border=\"1\" class=\"dataframe\">\n",
       "  <thead>\n",
       "    <tr style=\"text-align: right;\">\n",
       "      <th></th>\n",
       "      <th>p-value</th>\n",
       "      <th>TreeBoostler</th>\n",
       "      <th>RDN-B</th>\n",
       "    </tr>\n",
       "  </thead>\n",
       "  <tbody>\n",
       "    <tr>\n",
       "      <th>0</th>\n",
       "      <td>TransBoostler Soft Cosine</td>\n",
       "      <td>0.894</td>\n",
       "      <td>0.394</td>\n",
       "    </tr>\n",
       "    <tr>\n",
       "      <th>1</th>\n",
       "      <td>TransBoostler Euclidean</td>\n",
       "      <td>0.028</td>\n",
       "      <td>0.072</td>\n",
       "    </tr>\n",
       "    <tr>\n",
       "      <th>2</th>\n",
       "      <td>TransBoostler WMD</td>\n",
       "      <td>0.864</td>\n",
       "      <td>0.385</td>\n",
       "    </tr>\n",
       "    <tr>\n",
       "      <th>3</th>\n",
       "      <td>TransBoostler* Soft Cosine</td>\n",
       "      <td>0.001</td>\n",
       "      <td>0.000</td>\n",
       "    </tr>\n",
       "    <tr>\n",
       "      <th>4</th>\n",
       "      <td>TransBoostler* Euclidean</td>\n",
       "      <td>0.001</td>\n",
       "      <td>0.000</td>\n",
       "    </tr>\n",
       "    <tr>\n",
       "      <th>5</th>\n",
       "      <td>TransBoostler* WMD</td>\n",
       "      <td>0.001</td>\n",
       "      <td>0.000</td>\n",
       "    </tr>\n",
       "  </tbody>\n",
       "</table>\n",
       "</div>"
      ],
      "text/plain": [
       "                      p-value TreeBoostler  RDN-B\n",
       "0   TransBoostler Soft Cosine        0.894  0.394\n",
       "1     TransBoostler Euclidean        0.028  0.072\n",
       "2           TransBoostler WMD        0.864  0.385\n",
       "3  TransBoostler* Soft Cosine        0.001  0.000\n",
       "4    TransBoostler* Euclidean        0.001  0.000\n",
       "5          TransBoostler* WMD        0.001  0.000"
      ]
     },
     "metadata": {},
     "output_type": "display_data"
    },
    {
     "name": "stdout",
     "output_type": "stream",
     "text": [
      "TransBoostler Soft Cosine 0.555809,0.536987,0.847272,0.567212,0.554713\n",
      "TransBoostler Euclidean 0.555617,0.537189,0.550845,0.564288,0.554437\n",
      "TransBoostler WMD 0.555791,0.536347,0.855903,0.57221,0.554903\n",
      "TreeBoostler 0.618145,0.612038,0.616742,0.629106,0.545297\n",
      "TransBoostler* Soft Cosine 0.5,0.5,0.5,0.5,0.5\n",
      "TransBoostler* Euclidean 0.5,0.5,0.5,0.5,0.5\n",
      "TransBoostler* WMD 0.5,0.5,0.5,0.5,0.5\n",
      "TreeBoostler* 0.575311,0.587266,0.581281,0.5837,0.543975\n",
      "RDN-B 0.556793,0.537175,0.561991,0.569267,0.562035\n"
     ]
    },
    {
     "data": {
      "text/markdown": [
       "## AUC PR"
      ],
      "text/plain": [
       "<IPython.core.display.Markdown object>"
      ]
     },
     "metadata": {},
     "output_type": "display_data"
    },
    {
     "data": {
      "text/html": [
       "<div>\n",
       "<style scoped>\n",
       "    .dataframe tbody tr th:only-of-type {\n",
       "        vertical-align: middle;\n",
       "    }\n",
       "\n",
       "    .dataframe tbody tr th {\n",
       "        vertical-align: top;\n",
       "    }\n",
       "\n",
       "    .dataframe thead th {\n",
       "        text-align: right;\n",
       "    }\n",
       "</style>\n",
       "<table border=\"1\" class=\"dataframe\">\n",
       "  <thead>\n",
       "    <tr style=\"text-align: right;\">\n",
       "      <th></th>\n",
       "      <th>p-value</th>\n",
       "      <th>TreeBoostler</th>\n",
       "      <th>RDN-B</th>\n",
       "    </tr>\n",
       "  </thead>\n",
       "  <tbody>\n",
       "    <tr>\n",
       "      <th>0</th>\n",
       "      <td>TransBoostler Soft Cosine</td>\n",
       "      <td>0.399</td>\n",
       "      <td>0.391</td>\n",
       "    </tr>\n",
       "    <tr>\n",
       "      <th>1</th>\n",
       "      <td>TransBoostler Euclidean</td>\n",
       "      <td>0.022</td>\n",
       "      <td>0.128</td>\n",
       "    </tr>\n",
       "    <tr>\n",
       "      <th>2</th>\n",
       "      <td>TransBoostler WMD</td>\n",
       "      <td>0.415</td>\n",
       "      <td>0.376</td>\n",
       "    </tr>\n",
       "    <tr>\n",
       "      <th>3</th>\n",
       "      <td>TransBoostler* Soft Cosine</td>\n",
       "      <td>0.010</td>\n",
       "      <td>0.006</td>\n",
       "    </tr>\n",
       "    <tr>\n",
       "      <th>4</th>\n",
       "      <td>TransBoostler* Euclidean</td>\n",
       "      <td>0.010</td>\n",
       "      <td>0.006</td>\n",
       "    </tr>\n",
       "    <tr>\n",
       "      <th>5</th>\n",
       "      <td>TransBoostler* WMD</td>\n",
       "      <td>0.010</td>\n",
       "      <td>0.006</td>\n",
       "    </tr>\n",
       "  </tbody>\n",
       "</table>\n",
       "</div>"
      ],
      "text/plain": [
       "                      p-value TreeBoostler  RDN-B\n",
       "0   TransBoostler Soft Cosine        0.399  0.391\n",
       "1     TransBoostler Euclidean        0.022  0.128\n",
       "2           TransBoostler WMD        0.415  0.376\n",
       "3  TransBoostler* Soft Cosine        0.010  0.006\n",
       "4    TransBoostler* Euclidean        0.010  0.006\n",
       "5          TransBoostler* WMD        0.010  0.006"
      ]
     },
     "metadata": {},
     "output_type": "display_data"
    },
    {
     "name": "stdout",
     "output_type": "stream",
     "text": [
      "TransBoostler Soft Cosine 0.428002,0.3459,0.774995,0.422452,0.404056\n",
      "TransBoostler Euclidean 0.427938,0.344312,0.50112,0.421959,0.403395\n",
      "TransBoostler WMD 0.427996,0.343841,0.778275,0.433362,0.402659\n",
      "TreeBoostler 0.569652,0.47073,0.637319,0.567146,0.392708\n",
      "TransBoostler* Soft Cosine 0.37935,0.334027,0.465241,0.364717,0.352983\n",
      "TransBoostler* Euclidean 0.37935,0.334027,0.465241,0.364717,0.352983\n",
      "TransBoostler* WMD 0.37935,0.334027,0.465241,0.364717,0.352983\n",
      "TreeBoostler* 0.53787,0.518945,0.617874,0.539088,0.374863\n",
      "RDN-B 0.428248,0.345997,0.511741,0.422021,0.412222\n"
     ]
    },
    {
     "data": {
      "text/markdown": [
       "## CLL"
      ],
      "text/plain": [
       "<IPython.core.display.Markdown object>"
      ]
     },
     "metadata": {},
     "output_type": "display_data"
    },
    {
     "data": {
      "text/html": [
       "<div>\n",
       "<style scoped>\n",
       "    .dataframe tbody tr th:only-of-type {\n",
       "        vertical-align: middle;\n",
       "    }\n",
       "\n",
       "    .dataframe tbody tr th {\n",
       "        vertical-align: top;\n",
       "    }\n",
       "\n",
       "    .dataframe thead th {\n",
       "        text-align: right;\n",
       "    }\n",
       "</style>\n",
       "<table border=\"1\" class=\"dataframe\">\n",
       "  <thead>\n",
       "    <tr style=\"text-align: right;\">\n",
       "      <th></th>\n",
       "      <th>p-value</th>\n",
       "      <th>TreeBoostler</th>\n",
       "      <th>RDN-B</th>\n",
       "    </tr>\n",
       "  </thead>\n",
       "  <tbody>\n",
       "    <tr>\n",
       "      <th>0</th>\n",
       "      <td>TransBoostler Soft Cosine</td>\n",
       "      <td>0.726</td>\n",
       "      <td>0.405</td>\n",
       "    </tr>\n",
       "    <tr>\n",
       "      <th>1</th>\n",
       "      <td>TransBoostler Euclidean</td>\n",
       "      <td>0.010</td>\n",
       "      <td>0.231</td>\n",
       "    </tr>\n",
       "    <tr>\n",
       "      <th>2</th>\n",
       "      <td>TransBoostler WMD</td>\n",
       "      <td>0.885</td>\n",
       "      <td>0.382</td>\n",
       "    </tr>\n",
       "    <tr>\n",
       "      <th>3</th>\n",
       "      <td>TransBoostler* Soft Cosine</td>\n",
       "      <td>0.042</td>\n",
       "      <td>0.647</td>\n",
       "    </tr>\n",
       "    <tr>\n",
       "      <th>4</th>\n",
       "      <td>TransBoostler* Euclidean</td>\n",
       "      <td>0.042</td>\n",
       "      <td>0.632</td>\n",
       "    </tr>\n",
       "    <tr>\n",
       "      <th>5</th>\n",
       "      <td>TransBoostler* WMD</td>\n",
       "      <td>0.042</td>\n",
       "      <td>0.628</td>\n",
       "    </tr>\n",
       "  </tbody>\n",
       "</table>\n",
       "</div>"
      ],
      "text/plain": [
       "                      p-value TreeBoostler  RDN-B\n",
       "0   TransBoostler Soft Cosine        0.726  0.405\n",
       "1     TransBoostler Euclidean        0.010  0.231\n",
       "2           TransBoostler WMD        0.885  0.382\n",
       "3  TransBoostler* Soft Cosine        0.042  0.647\n",
       "4    TransBoostler* Euclidean        0.042  0.632\n",
       "5          TransBoostler* WMD        0.042  0.628"
      ]
     },
     "metadata": {},
     "output_type": "display_data"
    },
    {
     "name": "stdout",
     "output_type": "stream",
     "text": [
      "TransBoostler Soft Cosine -0.658884,-0.755811,-0.582034,-0.64444,-0.705919\n",
      "TransBoostler Euclidean -0.65986,-0.755126,-0.729746,-0.643298,-0.706644\n",
      "TransBoostler WMD -0.658143,-0.755408,-0.500411,-0.641644,-0.705965\n",
      "TreeBoostler -0.617856,-0.705547,-0.677229,-0.593427,-0.700861\n",
      "TransBoostler* Soft Cosine -0.671045,-0.733384,-0.744222,-0.656815,-0.688798\n",
      "TransBoostler* Euclidean -0.671045,-0.733384,-0.746182,-0.656815,-0.688798\n",
      "TransBoostler* WMD -0.671045,-0.733384,-0.746716,-0.656815,-0.688798\n",
      "TreeBoostler* -0.627951,-0.675396,-0.68807,-0.599672,-0.702177\n",
      "RDN-B -0.655644,-0.755896,-0.708953,-0.639736,-0.706669\n"
     ]
    },
    {
     "data": {
      "text/markdown": [
       "# Results for 4_cora_imdb"
      ],
      "text/plain": [
       "<IPython.core.display.Markdown object>"
      ]
     },
     "metadata": {},
     "output_type": "display_data"
    },
    {
     "data": {
      "text/markdown": [
       "## AUC ROC"
      ],
      "text/plain": [
       "<IPython.core.display.Markdown object>"
      ]
     },
     "metadata": {},
     "output_type": "display_data"
    },
    {
     "data": {
      "text/html": [
       "<div>\n",
       "<style scoped>\n",
       "    .dataframe tbody tr th:only-of-type {\n",
       "        vertical-align: middle;\n",
       "    }\n",
       "\n",
       "    .dataframe tbody tr th {\n",
       "        vertical-align: top;\n",
       "    }\n",
       "\n",
       "    .dataframe thead th {\n",
       "        text-align: right;\n",
       "    }\n",
       "</style>\n",
       "<table border=\"1\" class=\"dataframe\">\n",
       "  <thead>\n",
       "    <tr style=\"text-align: right;\">\n",
       "      <th></th>\n",
       "      <th>p-value</th>\n",
       "      <th>TreeBoostler</th>\n",
       "      <th>RDN-B</th>\n",
       "    </tr>\n",
       "  </thead>\n",
       "  <tbody>\n",
       "    <tr>\n",
       "      <th>0</th>\n",
       "      <td>TransBoostler Soft Cosine</td>\n",
       "      <td>nan</td>\n",
       "      <td>nan</td>\n",
       "    </tr>\n",
       "    <tr>\n",
       "      <th>1</th>\n",
       "      <td>TransBoostler Euclidean</td>\n",
       "      <td>nan</td>\n",
       "      <td>nan</td>\n",
       "    </tr>\n",
       "    <tr>\n",
       "      <th>2</th>\n",
       "      <td>TransBoostler WMD</td>\n",
       "      <td>nan</td>\n",
       "      <td>nan</td>\n",
       "    </tr>\n",
       "    <tr>\n",
       "      <th>3</th>\n",
       "      <td>TransBoostler* Soft Cosine</td>\n",
       "      <td>0.002</td>\n",
       "      <td>0.002</td>\n",
       "    </tr>\n",
       "    <tr>\n",
       "      <th>4</th>\n",
       "      <td>TransBoostler* Euclidean</td>\n",
       "      <td>0.000</td>\n",
       "      <td>0.000</td>\n",
       "    </tr>\n",
       "    <tr>\n",
       "      <th>5</th>\n",
       "      <td>TransBoostler* WMD</td>\n",
       "      <td>0.000</td>\n",
       "      <td>0.000</td>\n",
       "    </tr>\n",
       "  </tbody>\n",
       "</table>\n",
       "</div>"
      ],
      "text/plain": [
       "                      p-value TreeBoostler  RDN-B\n",
       "0   TransBoostler Soft Cosine          nan    nan\n",
       "1     TransBoostler Euclidean          nan    nan\n",
       "2           TransBoostler WMD          nan    nan\n",
       "3  TransBoostler* Soft Cosine        0.002  0.002\n",
       "4    TransBoostler* Euclidean        0.000  0.000\n",
       "5          TransBoostler* WMD        0.000  0.000"
      ]
     },
     "metadata": {},
     "output_type": "display_data"
    },
    {
     "name": "stdout",
     "output_type": "stream",
     "text": [
      "TransBoostler Soft Cosine 1.0,1.0,1.0,1.0,1.0\n",
      "TransBoostler Euclidean 1.0,1.0,1.0,1.0,1.0\n",
      "TransBoostler WMD 1.0,1.0,1.0,1.0,1.0\n",
      "TreeBoostler 1.0,1.0,1.0,1.0,1.0\n",
      "TransBoostler* Soft Cosine 0.875692,0.8775,0.954772,0.882686,0.89444\n",
      "TransBoostler* Euclidean 0.5,0.5,0.5,0.5,0.5\n",
      "TransBoostler* WMD 0.5,0.5,0.5,0.5,0.5\n",
      "TreeBoostler* 1.0,1.0,1.0,1.0,1.0\n",
      "RDN-B 1.0,1.0,1.0,1.0,1.0\n"
     ]
    },
    {
     "data": {
      "text/markdown": [
       "## AUC PR"
      ],
      "text/plain": [
       "<IPython.core.display.Markdown object>"
      ]
     },
     "metadata": {},
     "output_type": "display_data"
    },
    {
     "data": {
      "text/html": [
       "<div>\n",
       "<style scoped>\n",
       "    .dataframe tbody tr th:only-of-type {\n",
       "        vertical-align: middle;\n",
       "    }\n",
       "\n",
       "    .dataframe tbody tr th {\n",
       "        vertical-align: top;\n",
       "    }\n",
       "\n",
       "    .dataframe thead th {\n",
       "        text-align: right;\n",
       "    }\n",
       "</style>\n",
       "<table border=\"1\" class=\"dataframe\">\n",
       "  <thead>\n",
       "    <tr style=\"text-align: right;\">\n",
       "      <th></th>\n",
       "      <th>p-value</th>\n",
       "      <th>TreeBoostler</th>\n",
       "      <th>RDN-B</th>\n",
       "    </tr>\n",
       "  </thead>\n",
       "  <tbody>\n",
       "    <tr>\n",
       "      <th>0</th>\n",
       "      <td>TransBoostler Soft Cosine</td>\n",
       "      <td>nan</td>\n",
       "      <td>nan</td>\n",
       "    </tr>\n",
       "    <tr>\n",
       "      <th>1</th>\n",
       "      <td>TransBoostler Euclidean</td>\n",
       "      <td>nan</td>\n",
       "      <td>nan</td>\n",
       "    </tr>\n",
       "    <tr>\n",
       "      <th>2</th>\n",
       "      <td>TransBoostler WMD</td>\n",
       "      <td>nan</td>\n",
       "      <td>nan</td>\n",
       "    </tr>\n",
       "    <tr>\n",
       "      <th>3</th>\n",
       "      <td>TransBoostler* Soft Cosine</td>\n",
       "      <td>0.000</td>\n",
       "      <td>0.000</td>\n",
       "    </tr>\n",
       "    <tr>\n",
       "      <th>4</th>\n",
       "      <td>TransBoostler* Euclidean</td>\n",
       "      <td>0.000</td>\n",
       "      <td>0.000</td>\n",
       "    </tr>\n",
       "    <tr>\n",
       "      <th>5</th>\n",
       "      <td>TransBoostler* WMD</td>\n",
       "      <td>0.000</td>\n",
       "      <td>0.000</td>\n",
       "    </tr>\n",
       "  </tbody>\n",
       "</table>\n",
       "</div>"
      ],
      "text/plain": [
       "                      p-value TreeBoostler  RDN-B\n",
       "0   TransBoostler Soft Cosine          nan    nan\n",
       "1     TransBoostler Euclidean          nan    nan\n",
       "2           TransBoostler WMD          nan    nan\n",
       "3  TransBoostler* Soft Cosine        0.000  0.000\n",
       "4    TransBoostler* Euclidean        0.000  0.000\n",
       "5          TransBoostler* WMD        0.000  0.000"
      ]
     },
     "metadata": {},
     "output_type": "display_data"
    },
    {
     "name": "stdout",
     "output_type": "stream",
     "text": [
      "TransBoostler Soft Cosine 1.0,1.0,1.0,1.0,1.0\n",
      "TransBoostler Euclidean 1.0,1.0,1.0,1.0,1.0\n",
      "TransBoostler WMD 1.0,1.0,1.0,1.0,1.0\n",
      "TreeBoostler 1.0,1.0,1.0,1.0,1.0\n",
      "TransBoostler* Soft Cosine 0.224103,0.235732,0.291561,0.232398,0.231406\n",
      "TransBoostler* Euclidean 0.028967,0.029092,0.018721,0.026573,0.026956\n",
      "TransBoostler* WMD 0.028967,0.029092,0.018721,0.026573,0.026956\n",
      "TreeBoostler* 1.0,1.0,1.0,1.0,1.0\n",
      "RDN-B 1.0,1.0,1.0,1.0,1.0\n"
     ]
    },
    {
     "data": {
      "text/markdown": [
       "## CLL"
      ],
      "text/plain": [
       "<IPython.core.display.Markdown object>"
      ]
     },
     "metadata": {},
     "output_type": "display_data"
    },
    {
     "data": {
      "text/html": [
       "<div>\n",
       "<style scoped>\n",
       "    .dataframe tbody tr th:only-of-type {\n",
       "        vertical-align: middle;\n",
       "    }\n",
       "\n",
       "    .dataframe tbody tr th {\n",
       "        vertical-align: top;\n",
       "    }\n",
       "\n",
       "    .dataframe thead th {\n",
       "        text-align: right;\n",
       "    }\n",
       "</style>\n",
       "<table border=\"1\" class=\"dataframe\">\n",
       "  <thead>\n",
       "    <tr style=\"text-align: right;\">\n",
       "      <th></th>\n",
       "      <th>p-value</th>\n",
       "      <th>TreeBoostler</th>\n",
       "      <th>RDN-B</th>\n",
       "    </tr>\n",
       "  </thead>\n",
       "  <tbody>\n",
       "    <tr>\n",
       "      <th>0</th>\n",
       "      <td>TransBoostler Soft Cosine</td>\n",
       "      <td>0.483</td>\n",
       "      <td>0.104</td>\n",
       "    </tr>\n",
       "    <tr>\n",
       "      <th>1</th>\n",
       "      <td>TransBoostler Euclidean</td>\n",
       "      <td>0.276</td>\n",
       "      <td>0.075</td>\n",
       "    </tr>\n",
       "    <tr>\n",
       "      <th>2</th>\n",
       "      <td>TransBoostler WMD</td>\n",
       "      <td>0.255</td>\n",
       "      <td>0.732</td>\n",
       "    </tr>\n",
       "    <tr>\n",
       "      <th>3</th>\n",
       "      <td>TransBoostler* Soft Cosine</td>\n",
       "      <td>0.000</td>\n",
       "      <td>0.000</td>\n",
       "    </tr>\n",
       "    <tr>\n",
       "      <th>4</th>\n",
       "      <td>TransBoostler* Euclidean</td>\n",
       "      <td>0.000</td>\n",
       "      <td>0.000</td>\n",
       "    </tr>\n",
       "    <tr>\n",
       "      <th>5</th>\n",
       "      <td>TransBoostler* WMD</td>\n",
       "      <td>0.000</td>\n",
       "      <td>0.000</td>\n",
       "    </tr>\n",
       "  </tbody>\n",
       "</table>\n",
       "</div>"
      ],
      "text/plain": [
       "                      p-value TreeBoostler  RDN-B\n",
       "0   TransBoostler Soft Cosine        0.483  0.104\n",
       "1     TransBoostler Euclidean        0.276  0.075\n",
       "2           TransBoostler WMD        0.255  0.732\n",
       "3  TransBoostler* Soft Cosine        0.000  0.000\n",
       "4    TransBoostler* Euclidean        0.000  0.000\n",
       "5          TransBoostler* WMD        0.000  0.000"
      ]
     },
     "metadata": {},
     "output_type": "display_data"
    },
    {
     "name": "stdout",
     "output_type": "stream",
     "text": [
      "TransBoostler Soft Cosine -0.075043,-0.071181,-0.063555,-0.066725,-0.081897\n",
      "TransBoostler Euclidean -0.077785,-0.070098,-0.063555,-0.068567,-0.084299\n",
      "TransBoostler WMD -0.089837,-0.067191,-0.063555,-0.068263,-0.080776\n",
      "TreeBoostler -0.077591,-0.070412,-0.063555,-0.066111,-0.073992\n",
      "TransBoostler* Soft Cosine -0.319556,-0.31565,-0.336876,-0.301704,-0.345536\n",
      "TransBoostler* Euclidean -0.39907,-0.402706,-0.390528,-0.387339,-0.396677\n",
      "TransBoostler* WMD -0.397268,-0.406668,-0.384244,-0.39878,-0.409545\n",
      "TreeBoostler* -0.090063,-0.070412,-0.063555,-0.066111,-0.073992\n",
      "RDN-B -0.080847,-0.070421,-0.063555,-0.070998,-0.089021\n"
     ]
    },
    {
     "data": {
      "text/markdown": [
       "# Results for 7_yeast_twitter"
      ],
      "text/plain": [
       "<IPython.core.display.Markdown object>"
      ]
     },
     "metadata": {},
     "output_type": "display_data"
    },
    {
     "data": {
      "text/markdown": [
       "## AUC ROC"
      ],
      "text/plain": [
       "<IPython.core.display.Markdown object>"
      ]
     },
     "metadata": {},
     "output_type": "display_data"
    },
    {
     "data": {
      "text/html": [
       "<div>\n",
       "<style scoped>\n",
       "    .dataframe tbody tr th:only-of-type {\n",
       "        vertical-align: middle;\n",
       "    }\n",
       "\n",
       "    .dataframe tbody tr th {\n",
       "        vertical-align: top;\n",
       "    }\n",
       "\n",
       "    .dataframe thead th {\n",
       "        text-align: right;\n",
       "    }\n",
       "</style>\n",
       "<table border=\"1\" class=\"dataframe\">\n",
       "  <thead>\n",
       "    <tr style=\"text-align: right;\">\n",
       "      <th></th>\n",
       "      <th>p-value</th>\n",
       "      <th>TreeBoostler</th>\n",
       "      <th>RDN-B</th>\n",
       "    </tr>\n",
       "  </thead>\n",
       "  <tbody>\n",
       "    <tr>\n",
       "      <th>0</th>\n",
       "      <td>TransBoostler Soft Cosine</td>\n",
       "      <td>0.776</td>\n",
       "      <td>0.744</td>\n",
       "    </tr>\n",
       "    <tr>\n",
       "      <th>1</th>\n",
       "      <td>TransBoostler Euclidean</td>\n",
       "      <td>0.622</td>\n",
       "      <td>0.957</td>\n",
       "    </tr>\n",
       "    <tr>\n",
       "      <th>2</th>\n",
       "      <td>TransBoostler WMD</td>\n",
       "      <td>0.845</td>\n",
       "      <td>0.888</td>\n",
       "    </tr>\n",
       "    <tr>\n",
       "      <th>3</th>\n",
       "      <td>TransBoostler* Soft Cosine</td>\n",
       "      <td>0.979</td>\n",
       "      <td>0.941</td>\n",
       "    </tr>\n",
       "    <tr>\n",
       "      <th>4</th>\n",
       "      <td>TransBoostler* Euclidean</td>\n",
       "      <td>0.951</td>\n",
       "      <td>0.916</td>\n",
       "    </tr>\n",
       "    <tr>\n",
       "      <th>5</th>\n",
       "      <td>TransBoostler* WMD</td>\n",
       "      <td>0.802</td>\n",
       "      <td>0.867</td>\n",
       "    </tr>\n",
       "  </tbody>\n",
       "</table>\n",
       "</div>"
      ],
      "text/plain": [
       "                      p-value TreeBoostler  RDN-B\n",
       "0   TransBoostler Soft Cosine        0.776  0.744\n",
       "1     TransBoostler Euclidean        0.622  0.957\n",
       "2           TransBoostler WMD        0.845  0.888\n",
       "3  TransBoostler* Soft Cosine        0.979  0.941\n",
       "4    TransBoostler* Euclidean        0.951  0.916\n",
       "5          TransBoostler* WMD        0.802  0.867"
      ]
     },
     "metadata": {},
     "output_type": "display_data"
    },
    {
     "name": "stdout",
     "output_type": "stream",
     "text": [
      "TransBoostler Soft Cosine 0.995304,0.993573\n",
      "TransBoostler Euclidean 0.994374,0.993261\n",
      "TransBoostler WMD 0.994681,0.993303\n",
      "TreeBoostler 0.994216,0.994076\n",
      "TransBoostler* Soft Cosine 0.994726,0.993033\n",
      "TransBoostler* Euclidean 0.994663,0.993195\n",
      "TransBoostler* WMD 0.99504,0.993155\n",
      "TreeBoostler* 0.994216,0.993578\n",
      "RDN-B 0.992907,0.994541\n"
     ]
    },
    {
     "data": {
      "text/markdown": [
       "## AUC PR"
      ],
      "text/plain": [
       "<IPython.core.display.Markdown object>"
      ]
     },
     "metadata": {},
     "output_type": "display_data"
    },
    {
     "data": {
      "text/html": [
       "<div>\n",
       "<style scoped>\n",
       "    .dataframe tbody tr th:only-of-type {\n",
       "        vertical-align: middle;\n",
       "    }\n",
       "\n",
       "    .dataframe tbody tr th {\n",
       "        vertical-align: top;\n",
       "    }\n",
       "\n",
       "    .dataframe thead th {\n",
       "        text-align: right;\n",
       "    }\n",
       "</style>\n",
       "<table border=\"1\" class=\"dataframe\">\n",
       "  <thead>\n",
       "    <tr style=\"text-align: right;\">\n",
       "      <th></th>\n",
       "      <th>p-value</th>\n",
       "      <th>TreeBoostler</th>\n",
       "      <th>RDN-B</th>\n",
       "    </tr>\n",
       "  </thead>\n",
       "  <tbody>\n",
       "    <tr>\n",
       "      <th>0</th>\n",
       "      <td>TransBoostler Soft Cosine</td>\n",
       "      <td>0.324</td>\n",
       "      <td>0.870</td>\n",
       "    </tr>\n",
       "    <tr>\n",
       "      <th>1</th>\n",
       "      <td>TransBoostler Euclidean</td>\n",
       "      <td>0.209</td>\n",
       "      <td>0.392</td>\n",
       "    </tr>\n",
       "    <tr>\n",
       "      <th>2</th>\n",
       "      <td>TransBoostler WMD</td>\n",
       "      <td>0.138</td>\n",
       "      <td>0.576</td>\n",
       "    </tr>\n",
       "    <tr>\n",
       "      <th>3</th>\n",
       "      <td>TransBoostler* Soft Cosine</td>\n",
       "      <td>0.609</td>\n",
       "      <td>0.696</td>\n",
       "    </tr>\n",
       "    <tr>\n",
       "      <th>4</th>\n",
       "      <td>TransBoostler* Euclidean</td>\n",
       "      <td>0.872</td>\n",
       "      <td>0.968</td>\n",
       "    </tr>\n",
       "    <tr>\n",
       "      <th>5</th>\n",
       "      <td>TransBoostler* WMD</td>\n",
       "      <td>0.738</td>\n",
       "      <td>0.857</td>\n",
       "    </tr>\n",
       "  </tbody>\n",
       "</table>\n",
       "</div>"
      ],
      "text/plain": [
       "                      p-value TreeBoostler  RDN-B\n",
       "0   TransBoostler Soft Cosine        0.324  0.870\n",
       "1     TransBoostler Euclidean        0.209  0.392\n",
       "2           TransBoostler WMD        0.138  0.576\n",
       "3  TransBoostler* Soft Cosine        0.609  0.696\n",
       "4    TransBoostler* Euclidean        0.872  0.968\n",
       "5          TransBoostler* WMD        0.738  0.857"
      ]
     },
     "metadata": {},
     "output_type": "display_data"
    },
    {
     "name": "stdout",
     "output_type": "stream",
     "text": [
      "TransBoostler Soft Cosine 0.433621,0.386664\n",
      "TransBoostler Euclidean 0.344863,0.360546\n",
      "TransBoostler WMD 0.366886,0.360703\n",
      "TreeBoostler 0.439383,0.406967\n",
      "TransBoostler* Soft Cosine 0.375795,0.380112\n",
      "TransBoostler* Euclidean 0.387928,0.403168\n",
      "TransBoostler* WMD 0.43093,0.390627\n",
      "TreeBoostler* 0.439383,0.369127\n",
      "RDN-B 0.35783,0.436468\n"
     ]
    },
    {
     "data": {
      "text/markdown": [
       "## CLL"
      ],
      "text/plain": [
       "<IPython.core.display.Markdown object>"
      ]
     },
     "metadata": {},
     "output_type": "display_data"
    },
    {
     "data": {
      "text/html": [
       "<div>\n",
       "<style scoped>\n",
       "    .dataframe tbody tr th:only-of-type {\n",
       "        vertical-align: middle;\n",
       "    }\n",
       "\n",
       "    .dataframe tbody tr th {\n",
       "        vertical-align: top;\n",
       "    }\n",
       "\n",
       "    .dataframe thead th {\n",
       "        text-align: right;\n",
       "    }\n",
       "</style>\n",
       "<table border=\"1\" class=\"dataframe\">\n",
       "  <thead>\n",
       "    <tr style=\"text-align: right;\">\n",
       "      <th></th>\n",
       "      <th>p-value</th>\n",
       "      <th>TreeBoostler</th>\n",
       "      <th>RDN-B</th>\n",
       "    </tr>\n",
       "  </thead>\n",
       "  <tbody>\n",
       "    <tr>\n",
       "      <th>0</th>\n",
       "      <td>TransBoostler Soft Cosine</td>\n",
       "      <td>0.064</td>\n",
       "      <td>0.326</td>\n",
       "    </tr>\n",
       "    <tr>\n",
       "      <th>1</th>\n",
       "      <td>TransBoostler Euclidean</td>\n",
       "      <td>0.151</td>\n",
       "      <td>0.303</td>\n",
       "    </tr>\n",
       "    <tr>\n",
       "      <th>2</th>\n",
       "      <td>TransBoostler WMD</td>\n",
       "      <td>0.235</td>\n",
       "      <td>0.361</td>\n",
       "    </tr>\n",
       "    <tr>\n",
       "      <th>3</th>\n",
       "      <td>TransBoostler* Soft Cosine</td>\n",
       "      <td>0.770</td>\n",
       "      <td>0.698</td>\n",
       "    </tr>\n",
       "    <tr>\n",
       "      <th>4</th>\n",
       "      <td>TransBoostler* Euclidean</td>\n",
       "      <td>0.681</td>\n",
       "      <td>0.764</td>\n",
       "    </tr>\n",
       "    <tr>\n",
       "      <th>5</th>\n",
       "      <td>TransBoostler* WMD</td>\n",
       "      <td>0.567</td>\n",
       "      <td>0.820</td>\n",
       "    </tr>\n",
       "  </tbody>\n",
       "</table>\n",
       "</div>"
      ],
      "text/plain": [
       "                      p-value TreeBoostler  RDN-B\n",
       "0   TransBoostler Soft Cosine        0.064  0.326\n",
       "1     TransBoostler Euclidean        0.151  0.303\n",
       "2           TransBoostler WMD        0.235  0.361\n",
       "3  TransBoostler* Soft Cosine        0.770  0.698\n",
       "4    TransBoostler* Euclidean        0.681  0.764\n",
       "5          TransBoostler* WMD        0.567  0.820"
      ]
     },
     "metadata": {},
     "output_type": "display_data"
    },
    {
     "name": "stdout",
     "output_type": "stream",
     "text": [
      "TransBoostler Soft Cosine -0.110494,-0.101646\n",
      "TransBoostler Euclidean -0.103071,-0.098756\n",
      "TransBoostler WMD -0.104376,-0.101021\n",
      "TreeBoostler -0.113156,-0.10491\n",
      "TransBoostler* Soft Cosine -0.109012,-0.109819\n",
      "TransBoostler* Euclidean -0.110117,-0.11104\n",
      "TransBoostler* WMD -0.112019,-0.111452\n",
      "TreeBoostler* -0.113156,-0.100655\n",
      "RDN-B -0.123313,-0.105233\n"
     ]
    },
    {
     "data": {
      "text/markdown": [
       "# Results for 8_twitter_yeast"
      ],
      "text/plain": [
       "<IPython.core.display.Markdown object>"
      ]
     },
     "metadata": {},
     "output_type": "display_data"
    },
    {
     "data": {
      "text/markdown": [
       "## AUC ROC"
      ],
      "text/plain": [
       "<IPython.core.display.Markdown object>"
      ]
     },
     "metadata": {},
     "output_type": "display_data"
    },
    {
     "data": {
      "text/html": [
       "<div>\n",
       "<style scoped>\n",
       "    .dataframe tbody tr th:only-of-type {\n",
       "        vertical-align: middle;\n",
       "    }\n",
       "\n",
       "    .dataframe tbody tr th {\n",
       "        vertical-align: top;\n",
       "    }\n",
       "\n",
       "    .dataframe thead th {\n",
       "        text-align: right;\n",
       "    }\n",
       "</style>\n",
       "<table border=\"1\" class=\"dataframe\">\n",
       "  <thead>\n",
       "    <tr style=\"text-align: right;\">\n",
       "      <th></th>\n",
       "      <th>p-value</th>\n",
       "      <th>TreeBoostler</th>\n",
       "      <th>RDN-B</th>\n",
       "    </tr>\n",
       "  </thead>\n",
       "  <tbody>\n",
       "    <tr>\n",
       "      <th>0</th>\n",
       "      <td>TransBoostler Soft Cosine</td>\n",
       "      <td>0.258</td>\n",
       "      <td>0.164</td>\n",
       "    </tr>\n",
       "    <tr>\n",
       "      <th>1</th>\n",
       "      <td>TransBoostler Euclidean</td>\n",
       "      <td>0.171</td>\n",
       "      <td>0.162</td>\n",
       "    </tr>\n",
       "    <tr>\n",
       "      <th>2</th>\n",
       "      <td>TransBoostler WMD</td>\n",
       "      <td>0.328</td>\n",
       "      <td>0.926</td>\n",
       "    </tr>\n",
       "    <tr>\n",
       "      <th>3</th>\n",
       "      <td>TransBoostler* Soft Cosine</td>\n",
       "      <td>0.000</td>\n",
       "      <td>0.025</td>\n",
       "    </tr>\n",
       "    <tr>\n",
       "      <th>4</th>\n",
       "      <td>TransBoostler* Euclidean</td>\n",
       "      <td>0.000</td>\n",
       "      <td>0.023</td>\n",
       "    </tr>\n",
       "    <tr>\n",
       "      <th>5</th>\n",
       "      <td>TransBoostler* WMD</td>\n",
       "      <td>0.000</td>\n",
       "      <td>0.024</td>\n",
       "    </tr>\n",
       "  </tbody>\n",
       "</table>\n",
       "</div>"
      ],
      "text/plain": [
       "                      p-value TreeBoostler  RDN-B\n",
       "0   TransBoostler Soft Cosine        0.258  0.164\n",
       "1     TransBoostler Euclidean        0.171  0.162\n",
       "2           TransBoostler WMD        0.328  0.926\n",
       "3  TransBoostler* Soft Cosine        0.000  0.025\n",
       "4    TransBoostler* Euclidean        0.000  0.023\n",
       "5          TransBoostler* WMD        0.000  0.024"
      ]
     },
     "metadata": {},
     "output_type": "display_data"
    },
    {
     "name": "stdout",
     "output_type": "stream",
     "text": [
      "TransBoostler Soft Cosine 0.988638,0.990108,0.98044,0.975136\n",
      "TransBoostler Euclidean 0.99407,0.99182,0.980731,0.976297\n",
      "TransBoostler WMD 0.961049,0.865735,0.973594,0.941019\n",
      "TreeBoostler 0.98753,0.988138,0.944374,0.968197\n",
      "TransBoostler* Soft Cosine 0.819643,0.821948,0.80446,0.832816\n",
      "TransBoostler* Euclidean 0.818304,0.821763,0.806066,0.831972\n",
      "TransBoostler* WMD 0.818217,0.821763,0.80319,0.832095\n",
      "TreeBoostler* 0.98753,0.988138,0.944374,0.968197\n",
      "RDN-B 0.878589,0.90394,0.98411,0.963818\n"
     ]
    },
    {
     "data": {
      "text/markdown": [
       "## AUC PR"
      ],
      "text/plain": [
       "<IPython.core.display.Markdown object>"
      ]
     },
     "metadata": {},
     "output_type": "display_data"
    },
    {
     "data": {
      "text/html": [
       "<div>\n",
       "<style scoped>\n",
       "    .dataframe tbody tr th:only-of-type {\n",
       "        vertical-align: middle;\n",
       "    }\n",
       "\n",
       "    .dataframe tbody tr th {\n",
       "        vertical-align: top;\n",
       "    }\n",
       "\n",
       "    .dataframe thead th {\n",
       "        text-align: right;\n",
       "    }\n",
       "</style>\n",
       "<table border=\"1\" class=\"dataframe\">\n",
       "  <thead>\n",
       "    <tr style=\"text-align: right;\">\n",
       "      <th></th>\n",
       "      <th>p-value</th>\n",
       "      <th>TreeBoostler</th>\n",
       "      <th>RDN-B</th>\n",
       "    </tr>\n",
       "  </thead>\n",
       "  <tbody>\n",
       "    <tr>\n",
       "      <th>0</th>\n",
       "      <td>TransBoostler Soft Cosine</td>\n",
       "      <td>0.015</td>\n",
       "      <td>0.125</td>\n",
       "    </tr>\n",
       "    <tr>\n",
       "      <th>1</th>\n",
       "      <td>TransBoostler Euclidean</td>\n",
       "      <td>0.017</td>\n",
       "      <td>0.098</td>\n",
       "    </tr>\n",
       "    <tr>\n",
       "      <th>2</th>\n",
       "      <td>TransBoostler WMD</td>\n",
       "      <td>0.860</td>\n",
       "      <td>0.521</td>\n",
       "    </tr>\n",
       "    <tr>\n",
       "      <th>3</th>\n",
       "      <td>TransBoostler* Soft Cosine</td>\n",
       "      <td>0.269</td>\n",
       "      <td>0.124</td>\n",
       "    </tr>\n",
       "    <tr>\n",
       "      <th>4</th>\n",
       "      <td>TransBoostler* Euclidean</td>\n",
       "      <td>0.204</td>\n",
       "      <td>0.080</td>\n",
       "    </tr>\n",
       "    <tr>\n",
       "      <th>5</th>\n",
       "      <td>TransBoostler* WMD</td>\n",
       "      <td>0.372</td>\n",
       "      <td>0.065</td>\n",
       "    </tr>\n",
       "  </tbody>\n",
       "</table>\n",
       "</div>"
      ],
      "text/plain": [
       "                      p-value TreeBoostler  RDN-B\n",
       "0   TransBoostler Soft Cosine        0.015  0.125\n",
       "1     TransBoostler Euclidean        0.017  0.098\n",
       "2           TransBoostler WMD        0.860  0.521\n",
       "3  TransBoostler* Soft Cosine        0.269  0.124\n",
       "4    TransBoostler* Euclidean        0.204  0.080\n",
       "5          TransBoostler* WMD        0.372  0.065"
      ]
     },
     "metadata": {},
     "output_type": "display_data"
    },
    {
     "name": "stdout",
     "output_type": "stream",
     "text": [
      "TransBoostler Soft Cosine 0.440682,0.443981,0.301915,0.284863\n",
      "TransBoostler Euclidean 0.50645,0.525656,0.311422,0.329573\n",
      "TransBoostler WMD 0.423655,0.184225,0.240549,0.245033\n",
      "TreeBoostler 0.272485,0.34965,0.23279,0.187475\n",
      "TransBoostler* Soft Cosine 0.310004,0.322998,0.264585,0.305234\n",
      "TransBoostler* Euclidean 0.315243,0.320469,0.296096,0.294186\n",
      "TransBoostler* WMD 0.273163,0.320469,0.27526,0.356252\n",
      "TreeBoostler* 0.272485,0.34965,0.23279,0.187475\n",
      "RDN-B 0.180191,0.187031,0.274509,0.261445\n"
     ]
    },
    {
     "data": {
      "text/markdown": [
       "## CLL"
      ],
      "text/plain": [
       "<IPython.core.display.Markdown object>"
      ]
     },
     "metadata": {},
     "output_type": "display_data"
    },
    {
     "data": {
      "text/html": [
       "<div>\n",
       "<style scoped>\n",
       "    .dataframe tbody tr th:only-of-type {\n",
       "        vertical-align: middle;\n",
       "    }\n",
       "\n",
       "    .dataframe tbody tr th {\n",
       "        vertical-align: top;\n",
       "    }\n",
       "\n",
       "    .dataframe thead th {\n",
       "        text-align: right;\n",
       "    }\n",
       "</style>\n",
       "<table border=\"1\" class=\"dataframe\">\n",
       "  <thead>\n",
       "    <tr style=\"text-align: right;\">\n",
       "      <th></th>\n",
       "      <th>p-value</th>\n",
       "      <th>TreeBoostler</th>\n",
       "      <th>RDN-B</th>\n",
       "    </tr>\n",
       "  </thead>\n",
       "  <tbody>\n",
       "    <tr>\n",
       "      <th>0</th>\n",
       "      <td>TransBoostler Soft Cosine</td>\n",
       "      <td>0.742</td>\n",
       "      <td>0.106</td>\n",
       "    </tr>\n",
       "    <tr>\n",
       "      <th>1</th>\n",
       "      <td>TransBoostler Euclidean</td>\n",
       "      <td>0.068</td>\n",
       "      <td>0.114</td>\n",
       "    </tr>\n",
       "    <tr>\n",
       "      <th>2</th>\n",
       "      <td>TransBoostler WMD</td>\n",
       "      <td>0.305</td>\n",
       "      <td>0.927</td>\n",
       "    </tr>\n",
       "    <tr>\n",
       "      <th>3</th>\n",
       "      <td>TransBoostler* Soft Cosine</td>\n",
       "      <td>0.008</td>\n",
       "      <td>0.009</td>\n",
       "    </tr>\n",
       "    <tr>\n",
       "      <th>4</th>\n",
       "      <td>TransBoostler* Euclidean</td>\n",
       "      <td>0.006</td>\n",
       "      <td>0.006</td>\n",
       "    </tr>\n",
       "    <tr>\n",
       "      <th>5</th>\n",
       "      <td>TransBoostler* WMD</td>\n",
       "      <td>0.007</td>\n",
       "      <td>0.001</td>\n",
       "    </tr>\n",
       "  </tbody>\n",
       "</table>\n",
       "</div>"
      ],
      "text/plain": [
       "                      p-value TreeBoostler  RDN-B\n",
       "0   TransBoostler Soft Cosine        0.742  0.106\n",
       "1     TransBoostler Euclidean        0.068  0.114\n",
       "2           TransBoostler WMD        0.305  0.927\n",
       "3  TransBoostler* Soft Cosine        0.008  0.009\n",
       "4    TransBoostler* Euclidean        0.006  0.006\n",
       "5          TransBoostler* WMD        0.007  0.001"
      ]
     },
     "metadata": {},
     "output_type": "display_data"
    },
    {
     "name": "stdout",
     "output_type": "stream",
     "text": [
      "TransBoostler Soft Cosine -0.21794,-0.209872,-0.221736,-0.222192\n",
      "TransBoostler Euclidean -0.188812,-0.171344,-0.227962,-0.212346\n",
      "TransBoostler WMD -0.218301,-0.280372,-0.233174,-0.274321\n",
      "TreeBoostler -0.215799,-0.182479,-0.236508,-0.255621\n",
      "TransBoostler* Soft Cosine -0.344589,-0.335317,-0.347887,-0.322539\n",
      "TransBoostler* Euclidean -0.335799,-0.336006,-0.330686,-0.33559\n",
      "TransBoostler* WMD -0.356649,-0.342003,-0.33146,-0.339544\n",
      "TreeBoostler* -0.215799,-0.182479,-0.236508,-0.255621\n",
      "RDN-B -0.282397,-0.24336,-0.219257,-0.252097\n"
     ]
    },
    {
     "data": {
      "text/markdown": [
       "# Results for 9_nell_sports_nell_finances"
      ],
      "text/plain": [
       "<IPython.core.display.Markdown object>"
      ]
     },
     "metadata": {},
     "output_type": "display_data"
    },
    {
     "data": {
      "text/markdown": [
       "## AUC ROC"
      ],
      "text/plain": [
       "<IPython.core.display.Markdown object>"
      ]
     },
     "metadata": {},
     "output_type": "display_data"
    },
    {
     "data": {
      "text/html": [
       "<div>\n",
       "<style scoped>\n",
       "    .dataframe tbody tr th:only-of-type {\n",
       "        vertical-align: middle;\n",
       "    }\n",
       "\n",
       "    .dataframe tbody tr th {\n",
       "        vertical-align: top;\n",
       "    }\n",
       "\n",
       "    .dataframe thead th {\n",
       "        text-align: right;\n",
       "    }\n",
       "</style>\n",
       "<table border=\"1\" class=\"dataframe\">\n",
       "  <thead>\n",
       "    <tr style=\"text-align: right;\">\n",
       "      <th></th>\n",
       "      <th>p-value</th>\n",
       "      <th>TreeBoostler</th>\n",
       "      <th>RDN-B</th>\n",
       "    </tr>\n",
       "  </thead>\n",
       "  <tbody>\n",
       "    <tr>\n",
       "      <th>0</th>\n",
       "      <td>TransBoostler Soft Cosine</td>\n",
       "      <td>0.450</td>\n",
       "      <td>0.265</td>\n",
       "    </tr>\n",
       "    <tr>\n",
       "      <th>1</th>\n",
       "      <td>TransBoostler Euclidean</td>\n",
       "      <td>0.597</td>\n",
       "      <td>0.289</td>\n",
       "    </tr>\n",
       "    <tr>\n",
       "      <th>2</th>\n",
       "      <td>TransBoostler WMD</td>\n",
       "      <td>0.391</td>\n",
       "      <td>0.648</td>\n",
       "    </tr>\n",
       "    <tr>\n",
       "      <th>3</th>\n",
       "      <td>TransBoostler* Soft Cosine</td>\n",
       "      <td>0.011</td>\n",
       "      <td>0.008</td>\n",
       "    </tr>\n",
       "    <tr>\n",
       "      <th>4</th>\n",
       "      <td>TransBoostler* Euclidean</td>\n",
       "      <td>0.013</td>\n",
       "      <td>0.010</td>\n",
       "    </tr>\n",
       "    <tr>\n",
       "      <th>5</th>\n",
       "      <td>TransBoostler* WMD</td>\n",
       "      <td>0.009</td>\n",
       "      <td>0.006</td>\n",
       "    </tr>\n",
       "  </tbody>\n",
       "</table>\n",
       "</div>"
      ],
      "text/plain": [
       "                      p-value TreeBoostler  RDN-B\n",
       "0   TransBoostler Soft Cosine        0.450  0.265\n",
       "1     TransBoostler Euclidean        0.597  0.289\n",
       "2           TransBoostler WMD        0.391  0.648\n",
       "3  TransBoostler* Soft Cosine        0.011  0.008\n",
       "4    TransBoostler* Euclidean        0.013  0.010\n",
       "5          TransBoostler* WMD        0.009  0.006"
      ]
     },
     "metadata": {},
     "output_type": "display_data"
    },
    {
     "name": "stdout",
     "output_type": "stream",
     "text": [
      "TransBoostler Soft Cosine 0.765307,0.784283,0.677903\n",
      "TransBoostler Euclidean 0.757952,0.758965,0.734041\n",
      "TransBoostler WMD 0.743481,0.813146,0.780317\n",
      "TreeBoostler 0.754331,0.795216,0.72727\n",
      "TransBoostler* Soft Cosine 0.562167,0.55639,0.55651\n",
      "TransBoostler* Euclidean 0.562414,0.5619,0.568586\n",
      "TransBoostler* WMD 0.541335,0.538881,0.536597\n",
      "TreeBoostler* 0.74362,0.795216,0.72727\n",
      "RDN-B 0.76628,0.803176,0.736988\n"
     ]
    },
    {
     "data": {
      "text/markdown": [
       "## AUC PR"
      ],
      "text/plain": [
       "<IPython.core.display.Markdown object>"
      ]
     },
     "metadata": {},
     "output_type": "display_data"
    },
    {
     "data": {
      "text/html": [
       "<div>\n",
       "<style scoped>\n",
       "    .dataframe tbody tr th:only-of-type {\n",
       "        vertical-align: middle;\n",
       "    }\n",
       "\n",
       "    .dataframe tbody tr th {\n",
       "        vertical-align: top;\n",
       "    }\n",
       "\n",
       "    .dataframe thead th {\n",
       "        text-align: right;\n",
       "    }\n",
       "</style>\n",
       "<table border=\"1\" class=\"dataframe\">\n",
       "  <thead>\n",
       "    <tr style=\"text-align: right;\">\n",
       "      <th></th>\n",
       "      <th>p-value</th>\n",
       "      <th>TreeBoostler</th>\n",
       "      <th>RDN-B</th>\n",
       "    </tr>\n",
       "  </thead>\n",
       "  <tbody>\n",
       "    <tr>\n",
       "      <th>0</th>\n",
       "      <td>TransBoostler Soft Cosine</td>\n",
       "      <td>0.413</td>\n",
       "      <td>0.674</td>\n",
       "    </tr>\n",
       "    <tr>\n",
       "      <th>1</th>\n",
       "      <td>TransBoostler Euclidean</td>\n",
       "      <td>0.430</td>\n",
       "      <td>0.812</td>\n",
       "    </tr>\n",
       "    <tr>\n",
       "      <th>2</th>\n",
       "      <td>TransBoostler WMD</td>\n",
       "      <td>0.124</td>\n",
       "      <td>0.395</td>\n",
       "    </tr>\n",
       "    <tr>\n",
       "      <th>3</th>\n",
       "      <td>TransBoostler* Soft Cosine</td>\n",
       "      <td>0.004</td>\n",
       "      <td>0.007</td>\n",
       "    </tr>\n",
       "    <tr>\n",
       "      <th>4</th>\n",
       "      <td>TransBoostler* Euclidean</td>\n",
       "      <td>0.004</td>\n",
       "      <td>0.007</td>\n",
       "    </tr>\n",
       "    <tr>\n",
       "      <th>5</th>\n",
       "      <td>TransBoostler* WMD</td>\n",
       "      <td>0.004</td>\n",
       "      <td>0.007</td>\n",
       "    </tr>\n",
       "  </tbody>\n",
       "</table>\n",
       "</div>"
      ],
      "text/plain": [
       "                      p-value TreeBoostler  RDN-B\n",
       "0   TransBoostler Soft Cosine        0.413  0.674\n",
       "1     TransBoostler Euclidean        0.430  0.812\n",
       "2           TransBoostler WMD        0.124  0.395\n",
       "3  TransBoostler* Soft Cosine        0.004  0.007\n",
       "4    TransBoostler* Euclidean        0.004  0.007\n",
       "5          TransBoostler* WMD        0.004  0.007"
      ]
     },
     "metadata": {},
     "output_type": "display_data"
    },
    {
     "name": "stdout",
     "output_type": "stream",
     "text": [
      "TransBoostler Soft Cosine 0.097892,0.09501,0.068899\n",
      "TransBoostler Euclidean 0.095768,0.101298,0.071706\n",
      "TransBoostler WMD 0.098802,0.148008,0.106665\n",
      "TreeBoostler 0.088366,0.11225,0.092273\n",
      "TransBoostler* Soft Cosine 0.001609,0.001568,0.001571\n",
      "TransBoostler* Euclidean 0.001617,0.001609,0.001661\n",
      "TransBoostler* WMD 0.001537,0.001528,0.001513\n",
      "TreeBoostler* 0.09329,0.11225,0.092273\n",
      "RDN-B 0.105361,0.078953,0.095584\n"
     ]
    },
    {
     "data": {
      "text/markdown": [
       "## CLL"
      ],
      "text/plain": [
       "<IPython.core.display.Markdown object>"
      ]
     },
     "metadata": {},
     "output_type": "display_data"
    },
    {
     "data": {
      "text/html": [
       "<div>\n",
       "<style scoped>\n",
       "    .dataframe tbody tr th:only-of-type {\n",
       "        vertical-align: middle;\n",
       "    }\n",
       "\n",
       "    .dataframe tbody tr th {\n",
       "        vertical-align: top;\n",
       "    }\n",
       "\n",
       "    .dataframe thead th {\n",
       "        text-align: right;\n",
       "    }\n",
       "</style>\n",
       "<table border=\"1\" class=\"dataframe\">\n",
       "  <thead>\n",
       "    <tr style=\"text-align: right;\">\n",
       "      <th></th>\n",
       "      <th>p-value</th>\n",
       "      <th>TreeBoostler</th>\n",
       "      <th>RDN-B</th>\n",
       "    </tr>\n",
       "  </thead>\n",
       "  <tbody>\n",
       "    <tr>\n",
       "      <th>0</th>\n",
       "      <td>TransBoostler Soft Cosine</td>\n",
       "      <td>0.095</td>\n",
       "      <td>0.036</td>\n",
       "    </tr>\n",
       "    <tr>\n",
       "      <th>1</th>\n",
       "      <td>TransBoostler Euclidean</td>\n",
       "      <td>0.212</td>\n",
       "      <td>0.069</td>\n",
       "    </tr>\n",
       "    <tr>\n",
       "      <th>2</th>\n",
       "      <td>TransBoostler WMD</td>\n",
       "      <td>0.010</td>\n",
       "      <td>0.073</td>\n",
       "    </tr>\n",
       "    <tr>\n",
       "      <th>3</th>\n",
       "      <td>TransBoostler* Soft Cosine</td>\n",
       "      <td>0.002</td>\n",
       "      <td>0.001</td>\n",
       "    </tr>\n",
       "    <tr>\n",
       "      <th>4</th>\n",
       "      <td>TransBoostler* Euclidean</td>\n",
       "      <td>0.007</td>\n",
       "      <td>0.002</td>\n",
       "    </tr>\n",
       "    <tr>\n",
       "      <th>5</th>\n",
       "      <td>TransBoostler* WMD</td>\n",
       "      <td>0.009</td>\n",
       "      <td>0.002</td>\n",
       "    </tr>\n",
       "  </tbody>\n",
       "</table>\n",
       "</div>"
      ],
      "text/plain": [
       "                      p-value TreeBoostler  RDN-B\n",
       "0   TransBoostler Soft Cosine        0.095  0.036\n",
       "1     TransBoostler Euclidean        0.212  0.069\n",
       "2           TransBoostler WMD        0.010  0.073\n",
       "3  TransBoostler* Soft Cosine        0.002  0.001\n",
       "4    TransBoostler* Euclidean        0.007  0.002\n",
       "5          TransBoostler* WMD        0.009  0.002"
      ]
     },
     "metadata": {},
     "output_type": "display_data"
    },
    {
     "name": "stdout",
     "output_type": "stream",
     "text": [
      "TransBoostler Soft Cosine -0.317487,-0.322892,-0.334831\n",
      "TransBoostler Euclidean -0.310794,-0.326692,-0.313707\n",
      "TransBoostler WMD -0.313065,-0.306901,-0.306706\n",
      "TreeBoostler -0.309248,-0.302375,-0.30355\n",
      "TransBoostler* Soft Cosine -0.370435,-0.363133,-0.370096\n",
      "TransBoostler* Euclidean -0.363284,-0.370425,-0.360858\n",
      "TransBoostler* WMD -0.35837,-0.366879,-0.358195\n",
      "TreeBoostler* -0.312329,-0.302375,-0.30355\n",
      "RDN-B -0.2995,-0.30063,-0.300652\n"
     ]
    }
   ],
   "source": [
    "path = f'/results/transfer/{mapping_order}/w_stopwords/k_{k}/'\n",
    "data_softcosine = load_data(experiments, 'softcosine', path)\n",
    "data_euclidean = load_data(experiments, 'euclidean', path)\n",
    "data_wmd = load_data(experiments, 'wmd', path)\n",
    "data_rwmd = load_data(experiments, 'relax-wmd', path)\n",
    "\n",
    "baseline_path = f'/results/baselines/transfer/'\n",
    "baseline_data = load_data(experiments, '', baseline_path)\n",
    "\n",
    "for j in range(len(experiments)):\n",
    "    dataset = experiments[j]['id'] + '_' + experiments[j]['source'] + '_' + experiments[j]['target']\n",
    "    #if dataset in data['results']: \n",
    "    display(Markdown('# Results for ' + dataset))\n",
    "    table = []\n",
    "    for metric in ['AUC ROC', 'AUC PR', 'CLL']: #, 'Learning and Revision time', 'Inference time']:\n",
    "        display(Markdown('## ' + metric))\n",
    "        \n",
    "        trans_softcosine = np.zeros(len(data_softcosine[str(dataset)][0]))\n",
    "        trans_softcosine_no_rev = np.zeros(len(data_softcosine[str(dataset)][0]))\n",
    "        \n",
    "        trans_euclidean = np.zeros(len(data_euclidean[str(dataset)][0]))\n",
    "        trans_euclidean_no_rev = np.zeros(len(data_euclidean[str(dataset)][0]))\n",
    "        \n",
    "        trans_wmd = np.zeros(len(data_wmd[str(dataset)][0]))\n",
    "        trans_wmd_no_rev = np.zeros(len(data_wmd[str(dataset)][0]))\n",
    "        \n",
    "        trans_relax_wmd = np.zeros(len(data_rwmd[str(dataset)][0]))\n",
    "        trans_relax_wmd_no_rev = np.zeros(len(data_rwmd[str(dataset)][0]))\n",
    "        \n",
    "        tree_no_rev = np.zeros(len(baseline_data[str(dataset)][0]))\n",
    "        tree = np.zeros(len(baseline_data[str(dataset)][0]))\n",
    "        \n",
    "        rdnb_no_rev = np.zeros(len(baseline_data[str(dataset)][0]))\n",
    "        rdnb = np.zeros(len(baseline_data[str(dataset)][0]))\n",
    "        \n",
    "        #for m in range(len(treeboostler_data[str(dataset)][0])):\n",
    "        m = 0\n",
    "        trans_softcosine += np.array([item['transfer'][metric] for item in data_softcosine[str(dataset)][m]])\n",
    "        trans_softcosine_no_rev += np.array([item['transfer']['parameter'][metric] for item in data_softcosine[str(dataset)][m]])\n",
    "\n",
    "        trans_euclidean += np.array([item['transfer'][metric] for item in data_euclidean[str(dataset)][m]])\n",
    "        trans_euclidean_no_rev += np.array([item['transfer']['parameter'][metric] for item in data_euclidean[str(dataset)][m]])\n",
    "\n",
    "        trans_wmd += np.array([item['transfer'][metric] for item in data_wmd[str(dataset)][m]])\n",
    "        trans_wmd_no_rev += np.array([item['transfer']['parameter'][metric] for item in data_wmd[str(dataset)][m]])\n",
    "        \n",
    "        trans_relax_wmd += np.array([item['transfer'][metric] for item in data_rwmd[str(dataset)][m]])\n",
    "        trans_relax_wmd_no_rev += np.array([item['transfer']['parameter'][metric] for item in data_rwmd[str(dataset)][m]])\n",
    "\n",
    "        tree_no_rev += np.array([item['transfer']['parameter'][metric] for item in baseline_data[str(dataset)][m]])\n",
    "        tree += np.array([item['transfer'][metric] for item in baseline_data[str(dataset)][m]])\n",
    "        \n",
    "        # Fora do FOR\n",
    "\n",
    "        rdnb_no_rev += np.array([item['rdn_b'][metric] for item in baseline_data[str(dataset)][0]]) \n",
    "        rdnb += np.array([item['rdn_b'][metric] for item in baseline_data[str(dataset)][0]])\n",
    "            \n",
    "        #trans_softcosine /= len(data_softcosine[str(dataset)])\n",
    "        #trans_softcosine_no_rev /= len(data_softcosine_no_rev[str(dataset)])\n",
    "        \n",
    "        #trans_euclidean /= len(data_euclidean[str(dataset)])\n",
    "        #trans_euclidean_no_rev /= len(data_euclidean_no_rev[str(dataset)])\n",
    "        \n",
    "        #trans_wmd /= len(data_wmd[str(dataset)])\n",
    "        #trans_wmd_no_rev /= len(data_wmd_no_rev[str(dataset)])\n",
    "        \n",
    "        #tree /= len(treeboostler_data[str(dataset)])\n",
    "        #tree_no_rev /= len(treeboostler_data[str(dataset)])\n",
    "        \n",
    "        #rdnb /= len(rdnb_data[str(dataset)])\n",
    "        #rdnb_no_rev /= len(rdnb_data[str(dataset)])\n",
    "        \n",
    "        pvalue_table = []\n",
    "        tvalue, pvalue = stats.ttest_rel(trans_softcosine,tree)\n",
    "        tvalue2, pvalue2 = stats.ttest_rel(trans_softcosine, rdnb)\n",
    "        pvalue_table.append(['TransBoostler Soft Cosine', '%.3f' % (pvalue), '%.3f' % (pvalue2)])\n",
    "        del pvalue,pvalue2\n",
    "        \n",
    "        tvalue, pvalue = stats.ttest_rel(trans_euclidean,tree)\n",
    "        tvalue2, pvalue2 = stats.ttest_rel(trans_euclidean,rdnb)\n",
    "\n",
    "        pvalue_table.append(['TransBoostler Euclidean', '%.3f' % (pvalue), '%.3f' % (pvalue2)])\n",
    "        del pvalue,pvalue2\n",
    "        \n",
    "        tvalue, pvalue = stats.ttest_rel(trans_wmd,tree)\n",
    "        tvalue2, pvalue2 = stats.ttest_rel(trans_wmd,rdnb)\n",
    "        \n",
    "        pvalue_table.append(['TransBoostler WMD', '%.3f' % (pvalue), '%.3f' % (pvalue2)])\n",
    "        del pvalue,pvalue2\n",
    "        \n",
    "        # No Revision\n",
    "        \n",
    "        tvalue, pvalue = stats.ttest_rel(trans_softcosine_no_rev,tree_no_rev)\n",
    "        tvalue2, pvalue2 = stats.ttest_rel(trans_softcosine_no_rev,rdnb_no_rev)\n",
    "        \n",
    "        pvalue_table.append(['TransBoostler* Soft Cosine', '%.3f' % (pvalue), '%.3f' % (pvalue2)])\n",
    "        del pvalue,pvalue2\n",
    "        \n",
    "        tvalue, pvalue = stats.ttest_rel(trans_euclidean_no_rev,tree_no_rev)\n",
    "        tavlue2, pvalue2 = stats.ttest_rel(trans_euclidean_no_rev,rdnb_no_rev)\n",
    "        \n",
    "        pvalue_table.append(['TransBoostler* Euclidean', '%.3f' % (pvalue), '%.3f' % (pvalue2)])\n",
    "        del pvalue,pvalue2\n",
    "        \n",
    "        tvalue, pvalue = stats.ttest_rel(trans_wmd_no_rev,tree_no_rev)\n",
    "        tvalue, pvalue2 = stats.ttest_rel(trans_wmd_no_rev,rdnb_no_rev)\n",
    "        \n",
    "        pvalue_table.append(['TransBoostler* WMD', '%.3f' % (pvalue), '%.3f' % (pvalue2)])\n",
    "        del pvalue,pvalue2\n",
    "        \n",
    "        display(pd.DataFrame(pvalue_table, columns=['p-value', 'TreeBoostler', 'RDN-B']))\n",
    "        print('TransBoostler Soft Cosine', ','.join(str(v) for v in trans_softcosine))\n",
    "        \n",
    "        print('TransBoostler Euclidean', ','.join(str(v) for v in trans_euclidean))\n",
    "        \n",
    "        print('TransBoostler WMD', ','.join(str(v) for v in trans_wmd))\n",
    "        \n",
    "        print('TreeBoostler', ','.join(str(v) for v in tree))\n",
    "        \n",
    "        print('TransBoostler* Soft Cosine', ','.join(str(v) for v in trans_softcosine_no_rev))\n",
    "        print('TransBoostler* Euclidean', ','.join(str(v) for v in trans_euclidean_no_rev))\n",
    "        print('TransBoostler* WMD', ','.join(str(v) for v in trans_wmd_no_rev))\n",
    "        \n",
    "        print('TreeBoostler*', ','.join(str(v) for v in tree_no_rev))\n",
    "        \n",
    "        print('RDN-B', ','.join(str(v) for v in rdnb))\n",
    "       "
   ]
  }
 ],
 "metadata": {
  "kernelspec": {
   "display_name": "Python 3",
   "language": "python",
   "name": "python3"
  },
  "language_info": {
   "codemirror_mode": {
    "name": "ipython",
    "version": 3
   },
   "file_extension": ".py",
   "mimetype": "text/x-python",
   "name": "python",
   "nbconvert_exporter": "python",
   "pygments_lexer": "ipython3",
   "version": "3.8.10"
  },
  "latex_envs": {
   "LaTeX_envs_menu_present": true,
   "autoclose": false,
   "autocomplete": true,
   "bibliofile": "biblio.bib",
   "cite_by": "apalike",
   "current_citInitial": 1,
   "eqLabelWithNumbers": true,
   "eqNumInitial": 1,
   "hotkeys": {
    "equation": "Ctrl-E",
    "itemize": "Ctrl-I"
   },
   "labels_anchors": false,
   "latex_user_defs": false,
   "report_style_numbering": false,
   "user_envs_cfg": false
  },
  "toc": {
   "base_numbering": 1,
   "nav_menu": {},
   "number_sections": true,
   "sideBar": true,
   "skip_h1_title": false,
   "title_cell": "Table of Contents",
   "title_sidebar": "Contents",
   "toc_cell": false,
   "toc_position": {},
   "toc_section_display": true,
   "toc_window_display": false
  },
  "varInspector": {
   "cols": {
    "lenName": 16,
    "lenType": 16,
    "lenVar": 40
   },
   "kernels_config": {
    "python": {
     "delete_cmd_postfix": "",
     "delete_cmd_prefix": "del ",
     "library": "var_list.py",
     "varRefreshCmd": "print(var_dic_list())"
    },
    "r": {
     "delete_cmd_postfix": ") ",
     "delete_cmd_prefix": "rm(",
     "library": "var_list.r",
     "varRefreshCmd": "cat(var_dic_list()) "
    }
   },
   "types_to_exclude": [
    "module",
    "function",
    "builtin_function_or_method",
    "instance",
    "_Feature"
   ],
   "window_display": false
  }
 },
 "nbformat": 4,
 "nbformat_minor": 5
}
