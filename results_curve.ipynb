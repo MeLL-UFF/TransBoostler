{
 "cells": [
  {
   "cell_type": "markdown",
   "metadata": {},
   "source": [
    "## Setup"
   ]
  },
  {
   "cell_type": "code",
   "execution_count": 1,
   "metadata": {},
   "outputs": [],
   "source": [
    "import matplotlib.pyplot as plt\n",
    "from IPython.display import display, Markdown, Latex\n",
    "import numpy as np\n",
    "import json\n",
    "import pandas as pd\n",
    "from scipy import stats\n",
    "import os"
   ]
  },
  {
   "cell_type": "markdown",
   "metadata": {},
   "source": [
    "## Parameters"
   ]
  },
  {
   "cell_type": "code",
   "execution_count": 15,
   "metadata": {},
   "outputs": [],
   "source": [
    "transboostler_results_filename = 'transboostler_curves_folds_revision'\n",
    "rdnb_results_filename = 'rdnb_curves_folds'\n",
    "confusion_matrix_filename = 'transboostler_confusion_matrix_revision'\n",
    "\n",
    "experiments = [\n",
    "            #{'id': '1', 'source':'imdb', 'target':'uwcse', 'predicate':'workedunder', 'to_predicate':'advisedby', 'arity': 2},\n",
    "            #{'id': '2', 'source':'uwcse', 'target':'imdb', 'predicate':'advisedby', 'to_predicate':'workedunder', 'arity': 2},\n",
    "            #{'id': '3', 'source':'imdb', 'target':'cora', 'predicate':'workedunder', 'to_predicate':'samevenue', 'arity': 2},\n",
    "            #{'id': '4', 'source':'cora', 'target':'imdb', 'predicate':'samevenue', 'to_predicate':'workedunder', 'arity': 2},\n",
    "            ##{'id': '5', 'source':'uwcse', 'target':'cora', 'predicate':'advisedby', 'to_predicate':'samevenue', 'arity': 2},\n",
    "            ##{'id': '6', 'source':'cora', 'target':'uwcse', 'predicate':'samevenue', 'to_predicate':'advisedby', 'arity': 2},\n",
    "            #{'id': '7', 'source':'yeast', 'target':'twitter', 'predicate':'proteinclass', 'to_predicate':'accounttype', 'arity': 2},\n",
    "            #{'id': '8', 'source':'twitter', 'target':'yeast', 'predicate':'accounttype', 'to_predicate':'proteinclass', 'arity': 2},\n",
    "            {'id': '9', 'source':'nell_sports', 'target':'nell_finances', 'predicate':'teamplayssport', 'to_predicate':'companyeconomicsector', 'arity': 2},\n",
    "            #{'id': '10', 'source':'nell_finances', 'target':'nell_sports', 'predicate':'companyeconomicsector', 'to_predicate':'teamplayssport', 'arity': 2}\n",
    "]"
   ]
  },
  {
   "cell_type": "markdown",
   "metadata": {},
   "source": [
    "## Data Loader"
   ]
  },
  {
   "cell_type": "code",
   "execution_count": 18,
   "metadata": {},
   "outputs": [],
   "source": [
    "def load_data(experiments, filename, treeboostler=False):\n",
    "    data = {}\n",
    "    for item in experiments:\n",
    "        experiment_title = item['id'] + '_' + item['source'] + '_' + item['target']\n",
    "        \n",
    "        if(treeboostler):\n",
    "            file_path = os.path.split(os.getcwd())[0] + '/TreeBoostler/experiments/' + experiment_title + '/' + experiment_title + '.json'\n",
    "        else:\n",
    "            file_path = os.getcwd() + '/experiments/' + experiment_title + '/' + filename + '.json'\n",
    "        \n",
    "        #if(os.path.isfile(file_path)):\n",
    "        with open(file_path, 'r') as fp:\n",
    "            results = json.load(fp)\n",
    "\n",
    "            if(treeboostler):\n",
    "                data[experiment_title] = results\n",
    "            else:\n",
    "                data[experiment_title] = results['fasttext']\n",
    "    return data"
   ]
  },
  {
   "cell_type": "markdown",
   "metadata": {},
   "source": [
    "## Execution"
   ]
  },
  {
   "cell_type": "code",
   "execution_count": 19,
   "metadata": {
    "scrolled": false
   },
   "outputs": [
    {
     "data": {
      "text/markdown": [
       "# Results for AUC ROC"
      ],
      "text/plain": [
       "<IPython.core.display.Markdown object>"
      ]
     },
     "metadata": {},
     "output_type": "display_data"
    },
    {
     "data": {
      "text/html": [
       "<div>\n",
       "<style scoped>\n",
       "    .dataframe tbody tr th:only-of-type {\n",
       "        vertical-align: middle;\n",
       "    }\n",
       "\n",
       "    .dataframe tbody tr th {\n",
       "        vertical-align: top;\n",
       "    }\n",
       "\n",
       "    .dataframe thead th {\n",
       "        text-align: right;\n",
       "    }\n",
       "</style>\n",
       "<table border=\"1\" class=\"dataframe\">\n",
       "  <thead>\n",
       "    <tr style=\"text-align: right;\">\n",
       "      <th></th>\n",
       "      <th>Experiment</th>\n",
       "      <th>TreeBoostler</th>\n",
       "      <th>Transfer Learning with Revision Theory - SoftCosine</th>\n",
       "      <th>Transfer Learning with Revision Theory - Cosine</th>\n",
       "      <th>Transfer Learning with Revision Theory - Euclidean</th>\n",
       "      <th>Transfer Learning with Revision Theory - WMD</th>\n",
       "      <th>Transfer Learning with Revision Theory - Relax WMD</th>\n",
       "    </tr>\n",
       "  </thead>\n",
       "  <tbody>\n",
       "    <tr>\n",
       "      <th>0</th>\n",
       "      <td>9_nell_sports_nell_finances_1.0</td>\n",
       "      <td>0.974 +/- 0.000</td>\n",
       "      <td>0.674 +/- 0.111</td>\n",
       "      <td>0.694 +/- 0.037</td>\n",
       "      <td>0.690 +/- 0.069</td>\n",
       "      <td>0.698 +/- 0.085</td>\n",
       "      <td>0.729 +/- 0.010</td>\n",
       "    </tr>\n",
       "  </tbody>\n",
       "</table>\n",
       "</div>"
      ],
      "text/plain": [
       "                        Experiment     TreeBoostler  \\\n",
       "0  9_nell_sports_nell_finances_1.0  0.974 +/- 0.000   \n",
       "\n",
       "  Transfer Learning with Revision Theory - SoftCosine  \\\n",
       "0                                    0.674 +/- 0.111    \n",
       "\n",
       "  Transfer Learning with Revision Theory - Cosine  \\\n",
       "0                                 0.694 +/- 0.037   \n",
       "\n",
       "  Transfer Learning with Revision Theory - Euclidean  \\\n",
       "0                                    0.690 +/- 0.069   \n",
       "\n",
       "  Transfer Learning with Revision Theory - WMD  \\\n",
       "0                              0.698 +/- 0.085   \n",
       "\n",
       "  Transfer Learning with Revision Theory - Relax WMD  \n",
       "0                                    0.729 +/- 0.010  "
      ]
     },
     "metadata": {},
     "output_type": "display_data"
    },
    {
     "data": {
      "text/markdown": [
       "# Results for AUC PR"
      ],
      "text/plain": [
       "<IPython.core.display.Markdown object>"
      ]
     },
     "metadata": {},
     "output_type": "display_data"
    },
    {
     "data": {
      "text/html": [
       "<div>\n",
       "<style scoped>\n",
       "    .dataframe tbody tr th:only-of-type {\n",
       "        vertical-align: middle;\n",
       "    }\n",
       "\n",
       "    .dataframe tbody tr th {\n",
       "        vertical-align: top;\n",
       "    }\n",
       "\n",
       "    .dataframe thead th {\n",
       "        text-align: right;\n",
       "    }\n",
       "</style>\n",
       "<table border=\"1\" class=\"dataframe\">\n",
       "  <thead>\n",
       "    <tr style=\"text-align: right;\">\n",
       "      <th></th>\n",
       "      <th>Experiment</th>\n",
       "      <th>TreeBoostler</th>\n",
       "      <th>Transfer Learning with Revision Theory - SoftCosine</th>\n",
       "      <th>Transfer Learning with Revision Theory - Cosine</th>\n",
       "      <th>Transfer Learning with Revision Theory - Euclidean</th>\n",
       "      <th>Transfer Learning with Revision Theory - WMD</th>\n",
       "      <th>Transfer Learning with Revision Theory - Relax WMD</th>\n",
       "    </tr>\n",
       "  </thead>\n",
       "  <tbody>\n",
       "    <tr>\n",
       "      <th>0</th>\n",
       "      <td>9_nell_sports_nell_finances_1.0</td>\n",
       "      <td>0.059 +/- 0.000</td>\n",
       "      <td>0.696 +/- 0.094</td>\n",
       "      <td>0.714 +/- 0.035</td>\n",
       "      <td>0.720 +/- 0.047</td>\n",
       "      <td>0.727 +/- 0.059</td>\n",
       "      <td>0.747 +/- 0.013</td>\n",
       "    </tr>\n",
       "  </tbody>\n",
       "</table>\n",
       "</div>"
      ],
      "text/plain": [
       "                        Experiment     TreeBoostler  \\\n",
       "0  9_nell_sports_nell_finances_1.0  0.059 +/- 0.000   \n",
       "\n",
       "  Transfer Learning with Revision Theory - SoftCosine  \\\n",
       "0                                    0.696 +/- 0.094    \n",
       "\n",
       "  Transfer Learning with Revision Theory - Cosine  \\\n",
       "0                                 0.714 +/- 0.035   \n",
       "\n",
       "  Transfer Learning with Revision Theory - Euclidean  \\\n",
       "0                                    0.720 +/- 0.047   \n",
       "\n",
       "  Transfer Learning with Revision Theory - WMD  \\\n",
       "0                              0.727 +/- 0.059   \n",
       "\n",
       "  Transfer Learning with Revision Theory - Relax WMD  \n",
       "0                                    0.747 +/- 0.013  "
      ]
     },
     "metadata": {},
     "output_type": "display_data"
    },
    {
     "data": {
      "text/markdown": [
       "# Results for CLL"
      ],
      "text/plain": [
       "<IPython.core.display.Markdown object>"
      ]
     },
     "metadata": {},
     "output_type": "display_data"
    },
    {
     "data": {
      "text/html": [
       "<div>\n",
       "<style scoped>\n",
       "    .dataframe tbody tr th:only-of-type {\n",
       "        vertical-align: middle;\n",
       "    }\n",
       "\n",
       "    .dataframe tbody tr th {\n",
       "        vertical-align: top;\n",
       "    }\n",
       "\n",
       "    .dataframe thead th {\n",
       "        text-align: right;\n",
       "    }\n",
       "</style>\n",
       "<table border=\"1\" class=\"dataframe\">\n",
       "  <thead>\n",
       "    <tr style=\"text-align: right;\">\n",
       "      <th></th>\n",
       "      <th>Experiment</th>\n",
       "      <th>TreeBoostler</th>\n",
       "      <th>Transfer Learning with Revision Theory - SoftCosine</th>\n",
       "      <th>Transfer Learning with Revision Theory - Cosine</th>\n",
       "      <th>Transfer Learning with Revision Theory - Euclidean</th>\n",
       "      <th>Transfer Learning with Revision Theory - WMD</th>\n",
       "      <th>Transfer Learning with Revision Theory - Relax WMD</th>\n",
       "    </tr>\n",
       "  </thead>\n",
       "  <tbody>\n",
       "    <tr>\n",
       "      <th>0</th>\n",
       "      <td>9_nell_sports_nell_finances_1.0</td>\n",
       "      <td>-0.169 +/- 0.000</td>\n",
       "      <td>-0.645 +/- 0.035</td>\n",
       "      <td>-0.639 +/- 0.007</td>\n",
       "      <td>-0.640 +/- 0.021</td>\n",
       "      <td>-0.638 +/- 0.035</td>\n",
       "      <td>-0.628 +/- 0.014</td>\n",
       "    </tr>\n",
       "  </tbody>\n",
       "</table>\n",
       "</div>"
      ],
      "text/plain": [
       "                        Experiment      TreeBoostler  \\\n",
       "0  9_nell_sports_nell_finances_1.0  -0.169 +/- 0.000   \n",
       "\n",
       "  Transfer Learning with Revision Theory - SoftCosine  \\\n",
       "0                                   -0.645 +/- 0.035    \n",
       "\n",
       "  Transfer Learning with Revision Theory - Cosine  \\\n",
       "0                                -0.639 +/- 0.007   \n",
       "\n",
       "  Transfer Learning with Revision Theory - Euclidean  \\\n",
       "0                                   -0.640 +/- 0.021   \n",
       "\n",
       "  Transfer Learning with Revision Theory - WMD  \\\n",
       "0                             -0.638 +/- 0.035   \n",
       "\n",
       "  Transfer Learning with Revision Theory - Relax WMD  \n",
       "0                                   -0.628 +/- 0.014  "
      ]
     },
     "metadata": {},
     "output_type": "display_data"
    },
    {
     "data": {
      "text/markdown": [
       "# Results for Learning Time"
      ],
      "text/plain": [
       "<IPython.core.display.Markdown object>"
      ]
     },
     "metadata": {},
     "output_type": "display_data"
    },
    {
     "data": {
      "text/html": [
       "<div>\n",
       "<style scoped>\n",
       "    .dataframe tbody tr th:only-of-type {\n",
       "        vertical-align: middle;\n",
       "    }\n",
       "\n",
       "    .dataframe tbody tr th {\n",
       "        vertical-align: top;\n",
       "    }\n",
       "\n",
       "    .dataframe thead th {\n",
       "        text-align: right;\n",
       "    }\n",
       "</style>\n",
       "<table border=\"1\" class=\"dataframe\">\n",
       "  <thead>\n",
       "    <tr style=\"text-align: right;\">\n",
       "      <th></th>\n",
       "      <th>Experiment</th>\n",
       "      <th>TreeBoostler</th>\n",
       "      <th>Transfer Learning with Revision Theory - SoftCosine</th>\n",
       "      <th>Transfer Learning with Revision Theory - Cosine</th>\n",
       "      <th>Transfer Learning with Revision Theory - Euclidean</th>\n",
       "      <th>Transfer Learning with Revision Theory - WMD</th>\n",
       "      <th>Transfer Learning with Revision Theory - Relax WMD</th>\n",
       "    </tr>\n",
       "  </thead>\n",
       "  <tbody>\n",
       "    <tr>\n",
       "      <th>0</th>\n",
       "      <td>9_nell_sports_nell_finances_1.0</td>\n",
       "      <td>690.240 +/- 0.000</td>\n",
       "      <td>13.425 +/- 1.040</td>\n",
       "      <td>13.144 +/- 0.663</td>\n",
       "      <td>14.765 +/- 3.468</td>\n",
       "      <td>14.101 +/- 1.215</td>\n",
       "      <td>43.369 +/- 1.734</td>\n",
       "    </tr>\n",
       "  </tbody>\n",
       "</table>\n",
       "</div>"
      ],
      "text/plain": [
       "                        Experiment       TreeBoostler  \\\n",
       "0  9_nell_sports_nell_finances_1.0  690.240 +/- 0.000   \n",
       "\n",
       "  Transfer Learning with Revision Theory - SoftCosine  \\\n",
       "0                                   13.425 +/- 1.040    \n",
       "\n",
       "  Transfer Learning with Revision Theory - Cosine  \\\n",
       "0                                13.144 +/- 0.663   \n",
       "\n",
       "  Transfer Learning with Revision Theory - Euclidean  \\\n",
       "0                                   14.765 +/- 3.468   \n",
       "\n",
       "  Transfer Learning with Revision Theory - WMD  \\\n",
       "0                             14.101 +/- 1.215   \n",
       "\n",
       "  Transfer Learning with Revision Theory - Relax WMD  \n",
       "0                                   43.369 +/- 1.734  "
      ]
     },
     "metadata": {},
     "output_type": "display_data"
    }
   ],
   "source": [
    "data = load_data(experiments, transboostler_results_filename)\n",
    "treeboostler_data = load_data(experiments, '', True)\n",
    "\n",
    "for metric in ['AUC ROC', 'AUC PR', 'CLL', 'Learning Time']: #, 'Recall', 'F1', 'Precision', 'Learning and Revision time', 'Inference time']:\n",
    "    display(Markdown('# Results for ' + metric))\n",
    "    table = []\n",
    "    for j in range(len(experiments)):\n",
    "        dataset = experiments[j]['id'] + '_' + experiments[j]['source'] + '_' + experiments[j]['target']\n",
    "        if dataset in data:\n",
    "            for amount in [1.0]: #[0.2, 0.4, 0.6, 0.8, 1.0]:\n",
    "                mapping_time = ''\n",
    "                \n",
    "                transfer_softcosine = np.array(data[dataset]['softcosine'][str(amount)][metric])\n",
    "                transfer_cosine = np.array(data[dataset]['cosine'][str(amount)][metric])\n",
    "                transfer_euclidean = np.array(data[dataset]['euclidean'][str(amount)][metric])\n",
    "                transfer_wmd = np.array(data[dataset]['wmd'][str(amount)][metric])\n",
    "                transfer_relax_wmd = np.array(data[dataset]['relax-wmd'][str(amount)][metric])\n",
    "                \n",
    "                if(metric == 'Learning Time'):\n",
    "                    metric = 'Learning time'\n",
    "                \n",
    "                treeboostler = np.array([(np.array([item['transfer_1.0'][metric] for item in sublist])).mean() for sublist in treeboostler_data[str(dataset)]])\n",
    "                \n",
    "                if(metric == 'Learning time'):\n",
    "                    metric = 'Learning Time'\n",
    "                \n",
    "                table.append([dataset +'_' + str(amount), \n",
    "                '%.3f +/- %.3f' % (treeboostler.mean(), 2* treeboostler.std()),\n",
    "                '%.3f +/- %.3f' % (transfer_softcosine.mean(), 2 * transfer_softcosine.std()),\n",
    "                '%.3f +/- %.3f' % (transfer_cosine.mean(), 2 * transfer_cosine.std()),\n",
    "                '%.3f +/- %.3f' % (transfer_euclidean.mean(), 2 * transfer_euclidean.std()),\n",
    "                '%.3f +/- %.3f' % (transfer_wmd.mean(), 2 * transfer_wmd.std()),\n",
    "                '%.3f +/- %.3f' % (transfer_relax_wmd.mean(), 2 * transfer_relax_wmd.std())])\n",
    "                 #             ])\n",
    "    display(pd.DataFrame(table, columns=['Experiment', 'TreeBoostler', 'Transfer Learning with Revision Theory - SoftCosine', 'Transfer Learning with Revision Theory - Cosine', 'Transfer Learning with Revision Theory - Euclidean', 'Transfer Learning with Revision Theory - WMD', 'Transfer Learning with Revision Theory - Relax WMD'])) #, 'Learning from scratch (RDN-B)']))\n",
    "    #display(pd.DataFrame(table, columns=['Experiment', 'Transfer Learning', 'Transfer Learning with Revision Theory']))"
   ]
  },
  {
   "cell_type": "code",
   "execution_count": 23,
   "metadata": {
    "scrolled": true
   },
   "outputs": [
    {
     "data": {
      "text/markdown": [
       "# Results for AUC ROC"
      ],
      "text/plain": [
       "<IPython.core.display.Markdown object>"
      ]
     },
     "metadata": {},
     "output_type": "display_data"
    },
    {
     "data": {
      "text/markdown": [
       "# 9_nell_sports_nell_finances"
      ],
      "text/plain": [
       "<IPython.core.display.Markdown object>"
      ]
     },
     "metadata": {},
     "output_type": "display_data"
    },
    {
     "name": "stderr",
     "output_type": "stream",
     "text": [
      "<ipython-input-23-ff3dc2a87621>:43: UserWarning: linestyle is redundantly defined by the 'linestyle' keyword argument and the fmt string \"d-\" (-> linestyle='-'). The keyword argument will take precedence.\n",
      "  ax.plot(t, tree, 'd-', linestyle='dotted', color='c', label='TreeBoostler')\n",
      "<ipython-input-23-ff3dc2a87621>:44: UserWarning: linestyle is redundantly defined by the 'linestyle' keyword argument and the fmt string \"^-\" (-> linestyle='-'). The keyword argument will take precedence.\n",
      "  ax.plot(t, softcosine, '^-', linestyle=':', color='b', label='TransBoostler SoftCosine')\n",
      "<ipython-input-23-ff3dc2a87621>:45: UserWarning: linestyle is redundantly defined by the 'linestyle' keyword argument and the fmt string \"D-\" (-> linestyle='-'). The keyword argument will take precedence.\n",
      "  ax.plot(t, cosine, 'D-', linestyle='-.', color='g', label='TransBoostler Cosine')\n",
      "<ipython-input-23-ff3dc2a87621>:46: UserWarning: linestyle is redundantly defined by the 'linestyle' keyword argument and the fmt string \"s-\" (-> linestyle='-'). The keyword argument will take precedence.\n",
      "  ax.plot(t, euclidean, 's-', linestyle='--', color='r', label='TransBoostler Euclidean')\n",
      "<ipython-input-23-ff3dc2a87621>:47: UserWarning: linestyle is redundantly defined by the 'linestyle' keyword argument and the fmt string \"x-\" (-> linestyle='-'). The keyword argument will take precedence.\n",
      "  ax.plot(t, wmd, 'x-', linestyle='-', color='m', label='TransBoostler WMD')\n",
      "<ipython-input-23-ff3dc2a87621>:48: UserWarning: linestyle is redundantly defined by the 'linestyle' keyword argument and the fmt string \"x-\" (-> linestyle='-'). The keyword argument will take precedence.\n",
      "  ax.plot(t, relax_wmd, 'x-', linestyle='-', color='k', label='TransBoostler Relax-WMD')\n"
     ]
    },
    {
     "data": {
      "image/png": "[encoded data removed]",
      "text/plain": [
       "<Figure size 432x288 with 1 Axes>"
      ]
     },
     "metadata": {
      "needs_background": "light"
     },
     "output_type": "display_data"
    },
    {
     "data": {
      "text/markdown": [
       "# Results for AUC PR"
      ],
      "text/plain": [
       "<IPython.core.display.Markdown object>"
      ]
     },
     "metadata": {},
     "output_type": "display_data"
    },
    {
     "data": {
      "text/markdown": [
       "# 9_nell_sports_nell_finances"
      ],
      "text/plain": [
       "<IPython.core.display.Markdown object>"
      ]
     },
     "metadata": {},
     "output_type": "display_data"
    },
    {
     "name": "stderr",
     "output_type": "stream",
     "text": [
      "<ipython-input-23-ff3dc2a87621>:43: UserWarning: linestyle is redundantly defined by the 'linestyle' keyword argument and the fmt string \"d-\" (-> linestyle='-'). The keyword argument will take precedence.\n",
      "  ax.plot(t, tree, 'd-', linestyle='dotted', color='c', label='TreeBoostler')\n",
      "<ipython-input-23-ff3dc2a87621>:44: UserWarning: linestyle is redundantly defined by the 'linestyle' keyword argument and the fmt string \"^-\" (-> linestyle='-'). The keyword argument will take precedence.\n",
      "  ax.plot(t, softcosine, '^-', linestyle=':', color='b', label='TransBoostler SoftCosine')\n",
      "<ipython-input-23-ff3dc2a87621>:45: UserWarning: linestyle is redundantly defined by the 'linestyle' keyword argument and the fmt string \"D-\" (-> linestyle='-'). The keyword argument will take precedence.\n",
      "  ax.plot(t, cosine, 'D-', linestyle='-.', color='g', label='TransBoostler Cosine')\n",
      "<ipython-input-23-ff3dc2a87621>:46: UserWarning: linestyle is redundantly defined by the 'linestyle' keyword argument and the fmt string \"s-\" (-> linestyle='-'). The keyword argument will take precedence.\n",
      "  ax.plot(t, euclidean, 's-', linestyle='--', color='r', label='TransBoostler Euclidean')\n",
      "<ipython-input-23-ff3dc2a87621>:47: UserWarning: linestyle is redundantly defined by the 'linestyle' keyword argument and the fmt string \"x-\" (-> linestyle='-'). The keyword argument will take precedence.\n",
      "  ax.plot(t, wmd, 'x-', linestyle='-', color='m', label='TransBoostler WMD')\n",
      "<ipython-input-23-ff3dc2a87621>:48: UserWarning: linestyle is redundantly defined by the 'linestyle' keyword argument and the fmt string \"x-\" (-> linestyle='-'). The keyword argument will take precedence.\n",
      "  ax.plot(t, relax_wmd, 'x-', linestyle='-', color='k', label='TransBoostler Relax-WMD')\n"
     ]
    },
    {
     "data": {
      "image/png": "[encoded data removed]",
      "text/plain": [
       "<Figure size 432x288 with 1 Axes>"
      ]
     },
     "metadata": {
      "needs_background": "light"
     },
     "output_type": "display_data"
    }
   ],
   "source": [
    "data = load_data(experiments, transboostler_results_filename)\n",
    "treeboostler_data = load_data(experiments, '', True)\n",
    "\n",
    "for metric in ['AUC ROC', 'AUC PR']:\n",
    "    display(Markdown('# Results for ' + metric))\n",
    "    table = []\n",
    "    for j in range(len(experiments)):\n",
    "        dataset = experiments[j]['id'] + '_' + experiments[j]['source'] + '_' + experiments[j]['target']\n",
    "        if dataset in data:\n",
    "            display(Markdown('# ' + dataset))\n",
    "            softcosine = []\n",
    "            cosine = []\n",
    "            euclidean = []\n",
    "            wmd = []\n",
    "            relax_wmd = []\n",
    "            tree = []\n",
    "            rdn_b_p = []\n",
    "            for amount in [0.2, 0.4, 0.6, 0.8, 1.0]:\n",
    "                mapping_time = ''\n",
    "                \n",
    "                treeboostler = np.array([(np.array([item['transfer_'+str(amount)][metric] for item in sublist])).mean() for sublist in treeboostler_data[str(dataset)]])\n",
    "                transfer_softcosine = np.array(data[dataset]['softcosine'][str(amount)][metric])\n",
    "                transfer_cosine = np.array(data[dataset]['cosine'][str(amount)][metric])\n",
    "                transfer_euclidean = np.array(data[dataset]['euclidean'][str(amount)][metric])\n",
    "                transfer_wmd = np.array(data[dataset]['wmd'][str(amount)][metric])\n",
    "                transfer_relax_wmd = np.array(data[dataset]['relax-wmd'][str(amount)][metric])\n",
    "\n",
    "                tree.append(treeboostler.mean())\n",
    "                softcosine.append(transfer_softcosine.mean())\n",
    "                cosine.append(transfer_cosine.mean())\n",
    "                euclidean.append(transfer_euclidean.mean())\n",
    "                wmd.append(transfer_wmd.mean())\n",
    "                relax_wmd.append(transfer_relax_wmd.mean())\n",
    "                #rdn_p.append(scratch_rdn.mean())\n",
    "\n",
    "            #print('TransBoostler SoftCosine %s' % transfer_softcosine)\n",
    "            #print('TransBoostler Cosine %s' % transfer_cosine)\n",
    "            #print('TransBoostler Euclidean %s' % transfer_euclidean)\n",
    "            #print('TransBoostler WMD %s' % transfer_wmd)\n",
    "            #print('TransBoostler Relax WMD %s' % transfer_relax_wmd)\n",
    "            t = [0.2, 0.4, 0.6, 0.8, 1.0]\n",
    "            fig, ax = plt.subplots()\n",
    "            ax.plot(t, tree, 'd-', linestyle='dotted', color='c', label='TreeBoostler')\n",
    "            ax.plot(t, softcosine, '^-', linestyle=':', color='b', label='TransBoostler SoftCosine')\n",
    "            ax.plot(t, cosine, 'D-', linestyle='-.', color='g', label='TransBoostler Cosine')\n",
    "            ax.plot(t, euclidean, 's-', linestyle='--', color='r', label='TransBoostler Euclidean')\n",
    "            ax.plot(t, wmd, 'x-', linestyle='-', color='m', label='TransBoostler WMD')\n",
    "            ax.plot(t, relax_wmd, 'x-', linestyle='-', color='k', label='TransBoostler Relax-WMD')\n",
    "\n",
    "            ax.set(xlabel='time (s)', ylabel=metric,\n",
    "                   title=dataset)\n",
    "            ax.grid(linestyle = ':')\n",
    "            ax.legend(loc='lower right', fontsize='small', frameon=True)\n",
    "            plt.show()\n",
    "            \n",
    "            if not os.path.exists('plots'):\n",
    "                os.makedirs('plots')\n",
    "            fig.savefig(\"plots/{}_{}.pdf\".format(dataset, metric), bbox_inches='tight')"
   ]
  },
  {
   "cell_type": "code",
   "execution_count": 13,
   "metadata": {},
   "outputs": [
    {
     "data": {
      "text/markdown": [
       "# Results for TP"
      ],
      "text/plain": [
       "<IPython.core.display.Markdown object>"
      ]
     },
     "metadata": {},
     "output_type": "display_data"
    },
    {
     "data": {
      "text/html": [
       "<div>\n",
       "<style scoped>\n",
       "    .dataframe tbody tr th:only-of-type {\n",
       "        vertical-align: middle;\n",
       "    }\n",
       "\n",
       "    .dataframe tbody tr th {\n",
       "        vertical-align: top;\n",
       "    }\n",
       "\n",
       "    .dataframe thead th {\n",
       "        text-align: right;\n",
       "    }\n",
       "</style>\n",
       "<table border=\"1\" class=\"dataframe\">\n",
       "  <thead>\n",
       "    <tr style=\"text-align: right;\">\n",
       "      <th></th>\n",
       "      <th>Experiment</th>\n",
       "      <th>TransBoostler SoftCosine</th>\n",
       "      <th>TransBoostler Cosine</th>\n",
       "      <th>TransBoostler Euclidean</th>\n",
       "      <th>TransBooslter WMD</th>\n",
       "      <th>TransBoostler Relax WMD</th>\n",
       "    </tr>\n",
       "  </thead>\n",
       "  <tbody>\n",
       "    <tr>\n",
       "      <th>0</th>\n",
       "      <td>1_imdb_uwcse_1.0</td>\n",
       "      <td>22.400 +/- 20.223</td>\n",
       "      <td>22.400 +/- 20.223</td>\n",
       "      <td>22.600 +/- 19.944</td>\n",
       "      <td>22.400 +/- 20.064</td>\n",
       "      <td>22.600 +/- 19.944</td>\n",
       "    </tr>\n",
       "    <tr>\n",
       "      <th>1</th>\n",
       "      <td>2_uwcse_imdb_1.0</td>\n",
       "      <td>76.400 +/- 102.173</td>\n",
       "      <td>76.400 +/- 102.173</td>\n",
       "      <td>76.400 +/- 102.173</td>\n",
       "      <td>76.400 +/- 102.173</td>\n",
       "      <td>76.400 +/- 102.173</td>\n",
       "    </tr>\n",
       "    <tr>\n",
       "      <th>2</th>\n",
       "      <td>3_imdb_cora_1.0</td>\n",
       "      <td>369.800 +/- 562.536</td>\n",
       "      <td>366.400 +/- 559.769</td>\n",
       "      <td>370.800 +/- 562.289</td>\n",
       "      <td>372.800 +/- 565.056</td>\n",
       "      <td>370.800 +/- 562.357</td>\n",
       "    </tr>\n",
       "    <tr>\n",
       "      <th>3</th>\n",
       "      <td>7_yeast_twitter_1.0</td>\n",
       "      <td>107.000 +/- 36.000</td>\n",
       "      <td>108.000 +/- 38.000</td>\n",
       "      <td>108.500 +/- 33.000</td>\n",
       "      <td>109.000 +/- 34.000</td>\n",
       "      <td>108.500 +/- 39.000</td>\n",
       "    </tr>\n",
       "    <tr>\n",
       "      <th>4</th>\n",
       "      <td>8_twitter_yeast_1.0</td>\n",
       "      <td>70.000 +/- 22.045</td>\n",
       "      <td>71.250 +/- 21.880</td>\n",
       "      <td>60.250 +/- 9.314</td>\n",
       "      <td>66.250 +/- 12.114</td>\n",
       "      <td>76.500 +/- 13.077</td>\n",
       "    </tr>\n",
       "    <tr>\n",
       "      <th>5</th>\n",
       "      <td>9_nell_sports_nell_finances_1.0</td>\n",
       "      <td>61.667 +/- 39.542</td>\n",
       "      <td>70.000 +/- 11.431</td>\n",
       "      <td>89.667 +/- 24.459</td>\n",
       "      <td>88.000 +/- 36.368</td>\n",
       "      <td>101.667 +/- 12.472</td>\n",
       "    </tr>\n",
       "  </tbody>\n",
       "</table>\n",
       "</div>"
      ],
      "text/plain": [
       "                        Experiment TransBoostler SoftCosine  \\\n",
       "0                 1_imdb_uwcse_1.0        22.400 +/- 20.223   \n",
       "1                 2_uwcse_imdb_1.0       76.400 +/- 102.173   \n",
       "2                  3_imdb_cora_1.0      369.800 +/- 562.536   \n",
       "3              7_yeast_twitter_1.0       107.000 +/- 36.000   \n",
       "4              8_twitter_yeast_1.0        70.000 +/- 22.045   \n",
       "5  9_nell_sports_nell_finances_1.0        61.667 +/- 39.542   \n",
       "\n",
       "  TransBoostler Cosine TransBoostler Euclidean    TransBooslter WMD  \\\n",
       "0    22.400 +/- 20.223       22.600 +/- 19.944    22.400 +/- 20.064   \n",
       "1   76.400 +/- 102.173      76.400 +/- 102.173   76.400 +/- 102.173   \n",
       "2  366.400 +/- 559.769     370.800 +/- 562.289  372.800 +/- 565.056   \n",
       "3   108.000 +/- 38.000      108.500 +/- 33.000   109.000 +/- 34.000   \n",
       "4    71.250 +/- 21.880        60.250 +/- 9.314    66.250 +/- 12.114   \n",
       "5    70.000 +/- 11.431       89.667 +/- 24.459    88.000 +/- 36.368   \n",
       "\n",
       "  TransBoostler Relax WMD  \n",
       "0       22.600 +/- 19.944  \n",
       "1      76.400 +/- 102.173  \n",
       "2     370.800 +/- 562.357  \n",
       "3      108.500 +/- 39.000  \n",
       "4       76.500 +/- 13.077  \n",
       "5      101.667 +/- 12.472  "
      ]
     },
     "metadata": {},
     "output_type": "display_data"
    },
    {
     "data": {
      "text/markdown": [
       "# Results for TN"
      ],
      "text/plain": [
       "<IPython.core.display.Markdown object>"
      ]
     },
     "metadata": {},
     "output_type": "display_data"
    },
    {
     "data": {
      "text/html": [
       "<div>\n",
       "<style scoped>\n",
       "    .dataframe tbody tr th:only-of-type {\n",
       "        vertical-align: middle;\n",
       "    }\n",
       "\n",
       "    .dataframe tbody tr th {\n",
       "        vertical-align: top;\n",
       "    }\n",
       "\n",
       "    .dataframe thead th {\n",
       "        text-align: right;\n",
       "    }\n",
       "</style>\n",
       "<table border=\"1\" class=\"dataframe\">\n",
       "  <thead>\n",
       "    <tr style=\"text-align: right;\">\n",
       "      <th></th>\n",
       "      <th>Experiment</th>\n",
       "      <th>TransBoostler SoftCosine</th>\n",
       "      <th>TransBoostler Cosine</th>\n",
       "      <th>TransBoostler Euclidean</th>\n",
       "      <th>TransBooslter WMD</th>\n",
       "      <th>TransBoostler Relax WMD</th>\n",
       "    </tr>\n",
       "  </thead>\n",
       "  <tbody>\n",
       "    <tr>\n",
       "      <th>0</th>\n",
       "      <td>1_imdb_uwcse_1.0</td>\n",
       "      <td>20.000 +/- 17.889</td>\n",
       "      <td>20.200 +/- 17.817</td>\n",
       "      <td>20.400 +/- 19.457</td>\n",
       "      <td>20.800 +/- 19.325</td>\n",
       "      <td>20.400 +/- 19.457</td>\n",
       "    </tr>\n",
       "    <tr>\n",
       "      <th>1</th>\n",
       "      <td>2_uwcse_imdb_1.0</td>\n",
       "      <td>75.600 +/- 102.875</td>\n",
       "      <td>75.600 +/- 102.875</td>\n",
       "      <td>75.600 +/- 102.875</td>\n",
       "      <td>75.600 +/- 102.875</td>\n",
       "      <td>75.600 +/- 102.875</td>\n",
       "    </tr>\n",
       "    <tr>\n",
       "      <th>2</th>\n",
       "      <td>3_imdb_cora_1.0</td>\n",
       "      <td>364.800 +/- 472.114</td>\n",
       "      <td>366.800 +/- 474.344</td>\n",
       "      <td>364.400 +/- 478.402</td>\n",
       "      <td>363.000 +/- 474.433</td>\n",
       "      <td>363.400 +/- 475.428</td>\n",
       "    </tr>\n",
       "    <tr>\n",
       "      <th>3</th>\n",
       "      <td>7_yeast_twitter_1.0</td>\n",
       "      <td>107.500 +/- 21.000</td>\n",
       "      <td>107.500 +/- 21.000</td>\n",
       "      <td>108.000 +/- 20.000</td>\n",
       "      <td>109.000 +/- 22.000</td>\n",
       "      <td>108.500 +/- 21.000</td>\n",
       "    </tr>\n",
       "    <tr>\n",
       "      <th>4</th>\n",
       "      <td>8_twitter_yeast_1.0</td>\n",
       "      <td>88.250 +/- 8.761</td>\n",
       "      <td>89.250 +/- 9.631</td>\n",
       "      <td>90.500 +/- 11.874</td>\n",
       "      <td>89.250 +/- 12.278</td>\n",
       "      <td>88.250 +/- 9.937</td>\n",
       "    </tr>\n",
       "    <tr>\n",
       "      <th>5</th>\n",
       "      <td>9_nell_sports_nell_finances_1.0</td>\n",
       "      <td>251.667 +/- 10.625</td>\n",
       "      <td>251.000 +/- 4.320</td>\n",
       "      <td>246.000 +/- 7.118</td>\n",
       "      <td>245.333 +/- 6.600</td>\n",
       "      <td>242.667 +/- 4.989</td>\n",
       "    </tr>\n",
       "  </tbody>\n",
       "</table>\n",
       "</div>"
      ],
      "text/plain": [
       "                        Experiment TransBoostler SoftCosine  \\\n",
       "0                 1_imdb_uwcse_1.0        20.000 +/- 17.889   \n",
       "1                 2_uwcse_imdb_1.0       75.600 +/- 102.875   \n",
       "2                  3_imdb_cora_1.0      364.800 +/- 472.114   \n",
       "3              7_yeast_twitter_1.0       107.500 +/- 21.000   \n",
       "4              8_twitter_yeast_1.0         88.250 +/- 8.761   \n",
       "5  9_nell_sports_nell_finances_1.0       251.667 +/- 10.625   \n",
       "\n",
       "  TransBoostler Cosine TransBoostler Euclidean    TransBooslter WMD  \\\n",
       "0    20.200 +/- 17.817       20.400 +/- 19.457    20.800 +/- 19.325   \n",
       "1   75.600 +/- 102.875      75.600 +/- 102.875   75.600 +/- 102.875   \n",
       "2  366.800 +/- 474.344     364.400 +/- 478.402  363.000 +/- 474.433   \n",
       "3   107.500 +/- 21.000      108.000 +/- 20.000   109.000 +/- 22.000   \n",
       "4     89.250 +/- 9.631       90.500 +/- 11.874    89.250 +/- 12.278   \n",
       "5    251.000 +/- 4.320       246.000 +/- 7.118    245.333 +/- 6.600   \n",
       "\n",
       "  TransBoostler Relax WMD  \n",
       "0       20.400 +/- 19.457  \n",
       "1      75.600 +/- 102.875  \n",
       "2     363.400 +/- 475.428  \n",
       "3      108.500 +/- 21.000  \n",
       "4        88.250 +/- 9.937  \n",
       "5       242.667 +/- 4.989  "
      ]
     },
     "metadata": {},
     "output_type": "display_data"
    },
    {
     "data": {
      "text/markdown": [
       "# Results for FP"
      ],
      "text/plain": [
       "<IPython.core.display.Markdown object>"
      ]
     },
     "metadata": {},
     "output_type": "display_data"
    },
    {
     "data": {
      "text/html": [
       "<div>\n",
       "<style scoped>\n",
       "    .dataframe tbody tr th:only-of-type {\n",
       "        vertical-align: middle;\n",
       "    }\n",
       "\n",
       "    .dataframe tbody tr th {\n",
       "        vertical-align: top;\n",
       "    }\n",
       "\n",
       "    .dataframe thead th {\n",
       "        text-align: right;\n",
       "    }\n",
       "</style>\n",
       "<table border=\"1\" class=\"dataframe\">\n",
       "  <thead>\n",
       "    <tr style=\"text-align: right;\">\n",
       "      <th></th>\n",
       "      <th>Experiment</th>\n",
       "      <th>TransBoostler SoftCosine</th>\n",
       "      <th>TransBoostler Cosine</th>\n",
       "      <th>TransBoostler Euclidean</th>\n",
       "      <th>TransBooslter WMD</th>\n",
       "      <th>TransBoostler Relax WMD</th>\n",
       "    </tr>\n",
       "  </thead>\n",
       "  <tbody>\n",
       "    <tr>\n",
       "      <th>0</th>\n",
       "      <td>1_imdb_uwcse_1.0</td>\n",
       "      <td>2.600 +/- 2.400</td>\n",
       "      <td>2.400 +/- 2.713</td>\n",
       "      <td>2.200 +/- 0.800</td>\n",
       "      <td>1.800 +/- 1.960</td>\n",
       "      <td>2.200 +/- 0.800</td>\n",
       "    </tr>\n",
       "    <tr>\n",
       "      <th>1</th>\n",
       "      <td>2_uwcse_imdb_1.0</td>\n",
       "      <td>0.800 +/- 1.497</td>\n",
       "      <td>0.800 +/- 1.497</td>\n",
       "      <td>0.800 +/- 1.497</td>\n",
       "      <td>0.800 +/- 1.497</td>\n",
       "      <td>0.800 +/- 1.497</td>\n",
       "    </tr>\n",
       "    <tr>\n",
       "      <th>2</th>\n",
       "      <td>3_imdb_cora_1.0</td>\n",
       "      <td>183.200 +/- 383.263</td>\n",
       "      <td>181.200 +/- 384.269</td>\n",
       "      <td>183.600 +/- 389.134</td>\n",
       "      <td>185.000 +/- 385.219</td>\n",
       "      <td>184.600 +/- 387.531</td>\n",
       "    </tr>\n",
       "    <tr>\n",
       "      <th>3</th>\n",
       "      <td>7_yeast_twitter_1.0</td>\n",
       "      <td>33.500 +/- 9.000</td>\n",
       "      <td>33.500 +/- 9.000</td>\n",
       "      <td>33.000 +/- 10.000</td>\n",
       "      <td>32.000 +/- 8.000</td>\n",
       "      <td>32.500 +/- 9.000</td>\n",
       "    </tr>\n",
       "    <tr>\n",
       "      <th>4</th>\n",
       "      <td>8_twitter_yeast_1.0</td>\n",
       "      <td>4.000 +/- 7.071</td>\n",
       "      <td>3.000 +/- 6.164</td>\n",
       "      <td>1.750 +/- 2.958</td>\n",
       "      <td>3.000 +/- 2.449</td>\n",
       "      <td>4.000 +/- 6.000</td>\n",
       "    </tr>\n",
       "    <tr>\n",
       "      <th>5</th>\n",
       "      <td>9_nell_sports_nell_finances_1.0</td>\n",
       "      <td>7.667 +/- 8.994</td>\n",
       "      <td>8.333 +/- 2.494</td>\n",
       "      <td>13.333 +/- 6.182</td>\n",
       "      <td>14.000 +/- 4.899</td>\n",
       "      <td>16.667 +/- 3.771</td>\n",
       "    </tr>\n",
       "  </tbody>\n",
       "</table>\n",
       "</div>"
      ],
      "text/plain": [
       "                        Experiment TransBoostler SoftCosine  \\\n",
       "0                 1_imdb_uwcse_1.0          2.600 +/- 2.400   \n",
       "1                 2_uwcse_imdb_1.0          0.800 +/- 1.497   \n",
       "2                  3_imdb_cora_1.0      183.200 +/- 383.263   \n",
       "3              7_yeast_twitter_1.0         33.500 +/- 9.000   \n",
       "4              8_twitter_yeast_1.0          4.000 +/- 7.071   \n",
       "5  9_nell_sports_nell_finances_1.0          7.667 +/- 8.994   \n",
       "\n",
       "  TransBoostler Cosine TransBoostler Euclidean    TransBooslter WMD  \\\n",
       "0      2.400 +/- 2.713         2.200 +/- 0.800      1.800 +/- 1.960   \n",
       "1      0.800 +/- 1.497         0.800 +/- 1.497      0.800 +/- 1.497   \n",
       "2  181.200 +/- 384.269     183.600 +/- 389.134  185.000 +/- 385.219   \n",
       "3     33.500 +/- 9.000       33.000 +/- 10.000     32.000 +/- 8.000   \n",
       "4      3.000 +/- 6.164         1.750 +/- 2.958      3.000 +/- 2.449   \n",
       "5      8.333 +/- 2.494        13.333 +/- 6.182     14.000 +/- 4.899   \n",
       "\n",
       "  TransBoostler Relax WMD  \n",
       "0         2.200 +/- 0.800  \n",
       "1         0.800 +/- 1.497  \n",
       "2     184.600 +/- 387.531  \n",
       "3        32.500 +/- 9.000  \n",
       "4         4.000 +/- 6.000  \n",
       "5        16.667 +/- 3.771  "
      ]
     },
     "metadata": {},
     "output_type": "display_data"
    },
    {
     "data": {
      "text/markdown": [
       "# Results for FN"
      ],
      "text/plain": [
       "<IPython.core.display.Markdown object>"
      ]
     },
     "metadata": {},
     "output_type": "display_data"
    },
    {
     "data": {
      "text/html": [
       "<div>\n",
       "<style scoped>\n",
       "    .dataframe tbody tr th:only-of-type {\n",
       "        vertical-align: middle;\n",
       "    }\n",
       "\n",
       "    .dataframe tbody tr th {\n",
       "        vertical-align: top;\n",
       "    }\n",
       "\n",
       "    .dataframe thead th {\n",
       "        text-align: right;\n",
       "    }\n",
       "</style>\n",
       "<table border=\"1\" class=\"dataframe\">\n",
       "  <thead>\n",
       "    <tr style=\"text-align: right;\">\n",
       "      <th></th>\n",
       "      <th>Experiment</th>\n",
       "      <th>TransBoostler SoftCosine</th>\n",
       "      <th>TransBoostler Cosine</th>\n",
       "      <th>TransBoostler Euclidean</th>\n",
       "      <th>TransBooslter WMD</th>\n",
       "      <th>TransBoostler Relax WMD</th>\n",
       "    </tr>\n",
       "  </thead>\n",
       "  <tbody>\n",
       "    <tr>\n",
       "      <th>0</th>\n",
       "      <td>1_imdb_uwcse_1.0</td>\n",
       "      <td>0.200 +/- 0.800</td>\n",
       "      <td>0.200 +/- 0.800</td>\n",
       "      <td>0.000 +/- 0.000</td>\n",
       "      <td>0.200 +/- 0.800</td>\n",
       "      <td>0.000 +/- 0.000</td>\n",
       "    </tr>\n",
       "    <tr>\n",
       "      <th>1</th>\n",
       "      <td>2_uwcse_imdb_1.0</td>\n",
       "      <td>0.000 +/- 0.000</td>\n",
       "      <td>0.000 +/- 0.000</td>\n",
       "      <td>0.000 +/- 0.000</td>\n",
       "      <td>0.000 +/- 0.000</td>\n",
       "      <td>0.000 +/- 0.000</td>\n",
       "    </tr>\n",
       "    <tr>\n",
       "      <th>2</th>\n",
       "      <td>3_imdb_cora_1.0</td>\n",
       "      <td>233.600 +/- 510.463</td>\n",
       "      <td>237.000 +/- 506.126</td>\n",
       "      <td>232.600 +/- 508.987</td>\n",
       "      <td>230.600 +/- 514.437</td>\n",
       "      <td>232.600 +/- 509.014</td>\n",
       "    </tr>\n",
       "    <tr>\n",
       "      <th>3</th>\n",
       "      <td>7_yeast_twitter_1.0</td>\n",
       "      <td>34.000 +/- 6.000</td>\n",
       "      <td>33.000 +/- 8.000</td>\n",
       "      <td>32.500 +/- 3.000</td>\n",
       "      <td>32.000 +/- 4.000</td>\n",
       "      <td>32.500 +/- 9.000</td>\n",
       "    </tr>\n",
       "    <tr>\n",
       "      <th>4</th>\n",
       "      <td>8_twitter_yeast_1.0</td>\n",
       "      <td>22.250 +/- 17.110</td>\n",
       "      <td>21.000 +/- 14.560</td>\n",
       "      <td>32.000 +/- 19.339</td>\n",
       "      <td>26.000 +/- 25.338</td>\n",
       "      <td>15.750 +/- 5.723</td>\n",
       "    </tr>\n",
       "    <tr>\n",
       "      <th>5</th>\n",
       "      <td>9_nell_sports_nell_finances_1.0</td>\n",
       "      <td>197.667 +/- 40.738</td>\n",
       "      <td>189.333 +/- 12.684</td>\n",
       "      <td>169.667 +/- 24.998</td>\n",
       "      <td>171.333 +/- 37.854</td>\n",
       "      <td>157.667 +/- 14.267</td>\n",
       "    </tr>\n",
       "  </tbody>\n",
       "</table>\n",
       "</div>"
      ],
      "text/plain": [
       "                        Experiment TransBoostler SoftCosine  \\\n",
       "0                 1_imdb_uwcse_1.0          0.200 +/- 0.800   \n",
       "1                 2_uwcse_imdb_1.0          0.000 +/- 0.000   \n",
       "2                  3_imdb_cora_1.0      233.600 +/- 510.463   \n",
       "3              7_yeast_twitter_1.0         34.000 +/- 6.000   \n",
       "4              8_twitter_yeast_1.0        22.250 +/- 17.110   \n",
       "5  9_nell_sports_nell_finances_1.0       197.667 +/- 40.738   \n",
       "\n",
       "  TransBoostler Cosine TransBoostler Euclidean    TransBooslter WMD  \\\n",
       "0      0.200 +/- 0.800         0.000 +/- 0.000      0.200 +/- 0.800   \n",
       "1      0.000 +/- 0.000         0.000 +/- 0.000      0.000 +/- 0.000   \n",
       "2  237.000 +/- 506.126     232.600 +/- 508.987  230.600 +/- 514.437   \n",
       "3     33.000 +/- 8.000        32.500 +/- 3.000     32.000 +/- 4.000   \n",
       "4    21.000 +/- 14.560       32.000 +/- 19.339    26.000 +/- 25.338   \n",
       "5   189.333 +/- 12.684      169.667 +/- 24.998   171.333 +/- 37.854   \n",
       "\n",
       "  TransBoostler Relax WMD  \n",
       "0         0.000 +/- 0.000  \n",
       "1         0.000 +/- 0.000  \n",
       "2     232.600 +/- 509.014  \n",
       "3        32.500 +/- 9.000  \n",
       "4        15.750 +/- 5.723  \n",
       "5      157.667 +/- 14.267  "
      ]
     },
     "metadata": {},
     "output_type": "display_data"
    }
   ],
   "source": [
    "for metric in ['TP', 'TN', 'FP', 'FN']:\n",
    "    display(Markdown('# Results for ' + metric))\n",
    "    table = []\n",
    "    for j in range(len(experiments)):\n",
    "        dataset = experiments[j]['id'] + '_' + experiments[j]['source'] + '_' + experiments[j]['target']\n",
    "        if dataset in data:\n",
    "            #display(Markdown('# ' + dataset))\n",
    "            softcosine = []\n",
    "            cosine = []\n",
    "            euclidean = []\n",
    "            wmd = []\n",
    "            relax_wmd = []\n",
    "            rdn_p = []\n",
    "            rdn_b_p = []\n",
    "            for amount in [0.2, 0.4, 0.6, 0.8, 1.0]:\n",
    "                mapping_time = ''\n",
    "                transfer_softcosine = np.array(data[dataset]['softcosine'][str(amount)][metric])\n",
    "                transfer_cosine = np.array(data[dataset]['cosine'][str(amount)][metric])\n",
    "                transfer_euclidean = np.array(data[dataset]['euclidean'][str(amount)][metric])\n",
    "                transfer_wmd = np.array(data[dataset]['wmd'][str(amount)][metric])\n",
    "                transfer_relax_wmd = np.array(data[dataset]['relax-wmd'][str(amount)][metric])\n",
    "\n",
    "                softcosine.append(transfer_softcosine.mean())\n",
    "                cosine.append(transfer_cosine.mean())\n",
    "                euclidean.append(transfer_euclidean.mean())\n",
    "                wmd.append(transfer_wmd.mean())\n",
    "                relax_wmd.append(transfer_relax_wmd.mean())\n",
    "                #rdn_p.append(scratch_rdn.mean())\n",
    "\n",
    "            table.append([dataset +'_' + str(amount), \n",
    "                '%.3f +/- %.3f' % (transfer_softcosine.mean(), 2 * transfer_softcosine.std()),\n",
    "                '%.3f +/- %.3f' % (transfer_cosine.mean(), 2 * transfer_cosine.std()),\n",
    "                '%.3f +/- %.3f' % (transfer_euclidean.mean(), 2 * transfer_euclidean.std()),\n",
    "                '%.3f +/- %.3f' % (transfer_wmd.mean(), 2 * transfer_wmd.std()),\n",
    "                '%.3f +/- %.3f' % (transfer_relax_wmd.mean(), 2 * transfer_relax_wmd.std())])\n",
    "                 #             ])\n",
    "    display(pd.DataFrame(table, columns=['Experiment', 'TransBoostler SoftCosine', 'TransBoostler Cosine', 'TransBoostler Euclidean', 'TransBooslter WMD', 'TransBoostler Relax WMD'])) #, 'Learning from scratch (RDN-B)']))\n",
    "    #display(pd.DataFrame(table, columns=['Experiment', 'Transfer Learning', 'Transfer Learning with Revision Theory']))"
   ]
  },
  {
   "cell_type": "code",
   "execution_count": null,
   "metadata": {
    "collapsed": true
   },
   "outputs": [],
   "source": []
  }
 ],
 "metadata": {
  "anaconda-cloud": {},
  "kernelspec": {
   "display_name": "Python 3",
   "language": "python",
   "name": "python3"
  },
  "language_info": {
   "codemirror_mode": {
    "name": "ipython",
    "version": 3
   },
   "file_extension": ".py",
   "mimetype": "text/x-python",
   "name": "python",
   "nbconvert_exporter": "python",
   "pygments_lexer": "ipython3",
   "version": "3.8.5"
  },
  "toc": {
   "base_numbering": 1,
   "nav_menu": {},
   "number_sections": true,
   "sideBar": true,
   "skip_h1_title": false,
   "title_cell": "Table of Contents",
   "title_sidebar": "Contents",
   "toc_cell": false,
   "toc_position": {},
   "toc_section_display": true,
   "toc_window_display": false
  },
  "varInspector": {
   "cols": {
    "lenName": 16,
    "lenType": 16,
    "lenVar": 40
   },
   "kernels_config": {
    "python": {
     "delete_cmd_postfix": "",
     "delete_cmd_prefix": "del ",
     "library": "var_list.py",
     "varRefreshCmd": "print(var_dic_list())"
    },
    "r": {
     "delete_cmd_postfix": ") ",
     "delete_cmd_prefix": "rm(",
     "library": "var_list.r",
     "varRefreshCmd": "cat(var_dic_list()) "
    }
   },
   "types_to_exclude": [
    "module",
    "function",
    "builtin_function_or_method",
    "instance",
    "_Feature"
   ],
   "window_display": false
  }
 },
 "nbformat": 4,
 "nbformat_minor": 1
}
